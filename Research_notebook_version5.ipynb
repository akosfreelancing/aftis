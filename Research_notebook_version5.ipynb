{
 "cells": [
  {
   "cell_type": "markdown",
   "metadata": {
    "tags": []
   },
   "source": [
    "<h2> Problem Description: </h2>"
   ]
  },
  {
   "cell_type": "markdown",
   "metadata": {},
   "source": [
    "We set out to  build a network intrusion detector, a predictive model capable of distinguishing between ''bad'' connections, called as intrusions or attacks, and ''good'' or normal connections. The datasets we are starting with two recent datasets which have some common features and each include a wide variety of intrusions. "
   ]
  },
  {
   "cell_type": "markdown",
   "metadata": {
    "tags": []
   },
   "source": [
    "<h3> What is an INTRUSION DETECTOR? </h3>"
   ]
  },
  {
   "cell_type": "markdown",
   "metadata": {},
   "source": [
    "Intrusion detector is a software used to detect network intrusions. It protects a computer network from unauthorized users, including perhaps insiders. "
   ]
  },
  {
   "cell_type": "markdown",
   "metadata": {},
   "source": [
    "<h3> The starting Datasets </h3>"
   ]
  },
  {
   "cell_type": "markdown",
   "metadata": {},
   "source": [
    "The two datasets include UNSW-NB15 and CICDDoS2019 \n",
    "CICDDoS2019 contains benign and the most up-to-date common DDoS attacks, which resembles the true real-world data (PCAPs). It also includes the results of the network traffic analysis using CICFlowMeter-V3 with labeled flows based on the time stamp, source, and destination IPs, source and destination ports, protocols and attack (CSV files).\n",
    "\n",
    "UNSW-NB15 is a network intrusion dataset. It contains nine different attacks, includes DoS, worms, Backdoors, and Fuzzers. The dataset contains raw network packets. The number of records in the training set is 175,341 records and the testing set is 82,332 records from the different types, attack and normal."
   ]
  },
  {
   "cell_type": "markdown",
   "metadata": {},
   "source": [
    "# References:\n",
    "\n",
    "- For the UNSW-NB15 dataset :- https://research.unsw.edu.au/projects/unsw-nb15-dataset\n",
    "\n",
    "- For the CICDDoS2019 dataset :- \n",
    "    \n",
    "- https://arxiv.org/pdf/1811.05372\n",
    "    "
   ]
  },
  {
   "cell_type": "code",
   "execution_count": 1,
   "metadata": {
    "tags": []
   },
   "outputs": [],
   "source": [
    "import warnings\n",
    "warnings.filterwarnings(\"ignore\")\n",
    "import shutil\n",
    "import os\n",
    "import pandas as pd\n",
    "import matplotlib\n",
    "import matplotlib.pyplot as plt\n",
    "import seaborn as sns\n",
    "import numpy as np\n",
    "import pickle\n",
    "from sklearn.manifold import TSNE\n",
    "from sklearn import preprocessing\n",
    "import pandas as pd\n",
    "from multiprocessing import Process# this is used for multithreading\n",
    "import multiprocessing \n",
    "import random as r\n",
    "from sklearn.model_selection import RandomizedSearchCV\n",
    "from sklearn.tree import DecisionTreeClassifier\n",
    "from sklearn.calibration import CalibratedClassifierCV\n",
    "from sklearn.neighbors import KNeighborsClassifier\n",
    "from sklearn.metrics import log_loss\n",
    "from sklearn.metrics import confusion_matrix\n",
    "from sklearn.model_selection import train_test_split\n",
    "from sklearn.linear_model import LogisticRegression\n",
    "from sklearn.ensemble import RandomForestClassifier\n",
    "from sklearn.cluster import MiniBatchKMeans"
   ]
  },
  {
   "cell_type": "code",
   "execution_count": 3,
   "metadata": {
    "_cell_guid": "b1076dfc-b9ad-4769-8c92-a6c4dae69d19",
    "_uuid": "8f2839f25d086af736a60e9eeb907d3b93b6e0e5",
    "papermill": {
     "duration": 0.03532,
     "end_time": "2022-08-09T14:58:58.490756",
     "exception": false,
     "start_time": "2022-08-09T14:58:58.455436",
     "status": "completed"
    },
    "tags": []
   },
   "outputs": [
    {
     "name": "stdout",
     "output_type": "stream",
     "text": [
      "./dataset/cicds/training/UDPLag-training.csv\n",
      "./dataset/cicds/training/LDAP-training.csv\n",
      "./dataset/cicds/training/UDP-training.csv\n",
      "./dataset/cicds/training/Portmap-training.csv\n",
      "./dataset/cicds/training/Syn-training.csv\n",
      "./dataset/cicds/training/MSSQL-training.csv\n",
      "./dataset/cicds/training/NetBIOS-training.csv\n"
     ]
    }
   ],
   "source": [
    "# Input data files are available in the read-only \"../input/\" directory\n",
    "# For example, running this (by clicking run or pressing Shift+Enter) will list all files under the input directory\n",
    "\n",
    "import os\n",
    "dspaths = []\n",
    "for dirname, _, filenames in os.walk('./dataset/cicds/training'):\n",
    "    for filename in filenames:\n",
    "        if filename.endswith('.csv'):\n",
    "            pds = os.path.join(dirname, filename)\n",
    "            dspaths.append(pds)\n",
    "            print(pds)\n",
    "\n",
    "# You can write up to 20GB to the current directory  that gets preserved as output when you create a version using \"Save & Run All\" "
   ]
  },
  {
   "cell_type": "raw",
   "metadata": {
    "papermill": {
     "duration": 0.005271,
     "end_time": "2022-08-09T14:58:58.502290",
     "exception": false,
     "start_time": "2022-08-09T14:58:58.497019",
     "status": "completed"
    },
    "tags": []
   },
   "source": [
    "# CIC-Collection Cleaning: CIC-DDoS2019\n",
    "This notebook presents the cleanup done on CIC-DDoS2019, a specialized network intrusion detection dataset of Distributed Denial of Service attacks, some with Amplification through Reflection.\n",
    "\n",
    "This is just one NIDS dataset in a wider collection that also includes IDS2017, DoS2017 and IDS2018 with the same featureset. \n",
    "\n",
    "**This cleanup code has been built to yield consistent results across the entire CIC collection with features extracted by CICFlowmeter.**"
   ]
  },
  {
   "cell_type": "code",
   "execution_count": 5,
   "metadata": {
    "papermill": {
     "duration": 3.395989,
     "end_time": "2022-08-09T14:59:01.904030",
     "exception": false,
     "start_time": "2022-08-09T14:58:58.508041",
     "status": "completed"
    },
    "tags": []
   },
   "outputs": [],
   "source": [
    "from fastai.tabular.all import df_shrink\n",
    "from fastcore.parallel import *"
   ]
  },
  {
   "cell_type": "code",
   "execution_count": 6,
   "metadata": {
    "_kg_hide-input": true,
    "papermill": {
     "duration": 0.028585,
     "end_time": "2022-08-09T14:59:01.937967",
     "exception": false,
     "start_time": "2022-08-09T14:59:01.909382",
     "status": "completed"
    },
    "tags": []
   },
   "outputs": [],
   "source": [
    "col_name_consistency = {\n",
    "'Flow ID': 'Flow ID',\n",
    "'Source IP': 'Source IP',\n",
    "'Src IP':  'Source IP',\n",
    "'Source Port': 'Source Port',\n",
    "'Src Port': 'Source Port',\n",
    "'Destination IP': 'Destination IP',\n",
    "'Dst IP': 'Destination IP',\n",
    "'Destination Port': 'Destination Port',\n",
    "'Dst Port': 'Destination Port',\n",
    "'Protocol': 'Protocol',\n",
    "'Timestamp': 'Timestamp',\n",
    "'Flow Duration': 'Flow Duration',\n",
    "'Total Fwd Packets': 'Total Fwd Packets',\n",
    "'Tot Fwd Pkts': 'Total Fwd Packets',\n",
    "'Total Backward Packets': 'Total Backward Packets',\n",
    "'Tot Bwd Pkts': 'Total Backward Packets',\n",
    "'Total Length of Fwd Packets': 'Fwd Packets Length Total',\n",
    "'TotLen Fwd Pkts': 'Fwd Packets Length Total',\n",
    "'Total Length of Bwd Packets': 'Bwd Packets Length Total',\n",
    "'TotLen Bwd Pkts': 'Bwd Packets Length Total',\n",
    "'Fwd Packet Length Max': 'Fwd Packet Length Max',\n",
    "'Fwd Pkt Len Max': 'Fwd Packet Length Max',\n",
    "'Fwd Packet Length Min': 'Fwd Packet Length Min',\n",
    "'Fwd Pkt Len Min': 'Fwd Packet Length Min',\n",
    "'Fwd Packet Length Mean': 'Fwd Packet Length Mean',\n",
    "'Fwd Pkt Len Mean': 'Fwd Packet Length Mean',\n",
    "'Fwd Packet Length Std': 'Fwd Packet Length Std',\n",
    "'Fwd Pkt Len Std': 'Fwd Packet Length Std',\n",
    "'Bwd Packet Length Max': 'Bwd Packet Length Max',\n",
    "'Bwd Pkt Len Max': 'Bwd Packet Length Max',\n",
    "'Bwd Packet Length Min': 'Bwd Packet Length Min',\n",
    "'Bwd Pkt Len Min': 'Bwd Packet Length Min',\n",
    "'Bwd Packet Length Mean': 'Bwd Packet Length Mean',\n",
    "'Bwd Pkt Len Mean': 'Bwd Packet Length Mean',\n",
    "'Bwd Packet Length Std': 'Bwd Packet Length Std',\n",
    "'Bwd Pkt Len Std': 'Bwd Packet Length Std',\n",
    "'Flow Bytes/s': 'Flow Bytes/s',\n",
    "'Flow Byts/s': 'Flow Bytes/s',\n",
    "'Flow Packets/s': 'Flow Packets/s',\n",
    "'Flow Pkts/s': 'Flow Packets/s',\n",
    "'Flow IAT Mean': 'Flow IAT Mean',\n",
    "'Flow IAT Std': 'Flow IAT Std',\n",
    "'Flow IAT Max': 'Flow IAT Max',\n",
    "'Flow IAT Min': 'Flow IAT Min',\n",
    "'Fwd IAT Total': 'Fwd IAT Total',\n",
    "'Fwd IAT Tot': 'Fwd IAT Total',\n",
    "'Fwd IAT Mean': 'Fwd IAT Mean',\n",
    "'Fwd IAT Std': 'Fwd IAT Std',\n",
    "'Fwd IAT Max': 'Fwd IAT Max',\n",
    "'Fwd IAT Min': 'Fwd IAT Min',\n",
    "'Bwd IAT Total': 'Bwd IAT Total',\n",
    "'Bwd IAT Tot': 'Bwd IAT Total',\n",
    "'Bwd IAT Mean': 'Bwd IAT Mean',\n",
    "'Bwd IAT Std': 'Bwd IAT Std',\n",
    "'Bwd IAT Max': 'Bwd IAT Max',\n",
    "'Bwd IAT Min': 'Bwd IAT Min',\n",
    "'Fwd PSH Flags': 'Fwd PSH Flags',\n",
    "'Bwd PSH Flags': 'Bwd PSH Flags',\n",
    "'Fwd URG Flags': 'Fwd URG Flags',\n",
    "'Bwd URG Flags': 'Bwd URG Flags',\n",
    "'Fwd Header Length': 'Fwd Header Length',\n",
    "'Fwd Header Len': 'Fwd Header Length',\n",
    "'Bwd Header Length': 'Bwd Header Length',\n",
    "'Bwd Header Len': 'Bwd Header Length',\n",
    "'Fwd Packets/s': 'Fwd Packets/s',\n",
    "'Fwd Pkts/s': 'Fwd Packets/s',\n",
    "'Bwd Packets/s': 'Bwd Packets/s',\n",
    "'Bwd Pkts/s': 'Bwd Packets/s',\n",
    "'Min Packet Length': 'Packet Length Min',\n",
    "'Pkt Len Min': 'Packet Length Min',\n",
    "'Max Packet Length': 'Packet Length Max',\n",
    "'Pkt Len Max': 'Packet Length Max',\n",
    "'Packet Length Mean': 'Packet Length Mean',\n",
    "'Pkt Len Mean': 'Packet Length Mean',\n",
    "'Packet Length Std': 'Packet Length Std',\n",
    "'Pkt Len Std': 'Packet Length Std',\n",
    "'Packet Length Variance': 'Packet Length Variance',\n",
    "'Pkt Len Var': 'Packet Length Variance',\n",
    "'FIN Flag Count': 'FIN Flag Count',\n",
    "'FIN Flag Cnt': 'FIN Flag Count',\n",
    "'SYN Flag Count': 'SYN Flag Count',\n",
    "'SYN Flag Cnt': 'SYN Flag Count',\n",
    "'RST Flag Count': 'RST Flag Count',\n",
    "'RST Flag Cnt': 'RST Flag Count',\n",
    "'PSH Flag Count': 'PSH Flag Count',\n",
    "'PSH Flag Cnt': 'PSH Flag Count',\n",
    "'ACK Flag Count': 'ACK Flag Count',\n",
    "'ACK Flag Cnt': 'ACK Flag Count',\n",
    "'URG Flag Count': 'URG Flag Count',\n",
    "'URG Flag Cnt': 'URG Flag Count',\n",
    "'CWE Flag Count': 'CWE Flag Count',\n",
    "'CWE Flag Cnt': 'CWE Flag Count',\n",
    "'ECE Flag Count': 'ECE Flag Count',\n",
    "'ECE Flag Cnt': 'ECE Flag Count',\n",
    "'Down/Up Ratio': 'Down/Up Ratio',\n",
    "'Average Packet Size': 'Avg Packet Size',\n",
    "'Pkt Size Avg': 'Avg Packet Size',\n",
    "'Avg Fwd Segment Size': 'Avg Fwd Segment Size',\n",
    "'Fwd Seg Size Avg': 'Avg Fwd Segment Size',\n",
    "'Avg Bwd Segment Size': 'Avg Bwd Segment Size',\n",
    "'Bwd Seg Size Avg': 'Avg Bwd Segment Size',\n",
    "'Fwd Avg Bytes/Bulk': 'Fwd Avg Bytes/Bulk',\n",
    "'Fwd Byts/b Avg': 'Fwd Avg Bytes/Bulk',\n",
    "'Fwd Avg Packets/Bulk': 'Fwd Avg Packets/Bulk',\n",
    "'Fwd Pkts/b Avg': 'Fwd Avg Packets/Bulk',\n",
    "'Fwd Avg Bulk Rate': 'Fwd Avg Bulk Rate',\n",
    "'Fwd Blk Rate Avg': 'Fwd Avg Bulk Rate',\n",
    "'Bwd Avg Bytes/Bulk': 'Bwd Avg Bytes/Bulk',\n",
    "'Bwd Byts/b Avg': 'Bwd Avg Bytes/Bulk',\n",
    "'Bwd Avg Packets/Bulk': 'Bwd Avg Packets/Bulk',\n",
    "'Bwd Pkts/b Avg': 'Bwd Avg Packets/Bulk',\n",
    "'Bwd Avg Bulk Rate': 'Bwd Avg Bulk Rate',\n",
    "'Bwd Blk Rate Avg': 'Bwd Avg Bulk Rate',\n",
    "'Subflow Fwd Packets': 'Subflow Fwd Packets',\n",
    "'Subflow Fwd Pkts': 'Subflow Fwd Packets',\n",
    "'Subflow Fwd Bytes': 'Subflow Fwd Bytes',\n",
    "'Subflow Fwd Byts': 'Subflow Fwd Bytes',\n",
    "'Subflow Bwd Packets': 'Subflow Bwd Packets',\n",
    "'Subflow Bwd Pkts': 'Subflow Bwd Packets',\n",
    "'Subflow Bwd Bytes': 'Subflow Bwd Bytes',\n",
    "'Subflow Bwd Byts': 'Subflow Bwd Bytes',\n",
    "'Init_Win_bytes_forward': 'Init Fwd Win Bytes',\n",
    "'Init Fwd Win Byts': 'Init Fwd Win Bytes',\n",
    "'Init_Win_bytes_backward': 'Init Bwd Win Bytes',\n",
    "'Init Bwd Win Byts': 'Init Bwd Win Bytes',\n",
    "'act_data_pkt_fwd': 'Fwd Act Data Packets',\n",
    "'Fwd Act Data Pkts': 'Fwd Act Data Packets',\n",
    "'min_seg_size_forward': 'Fwd Seg Size Min',\n",
    "'Fwd Seg Size Min': 'Fwd Seg Size Min',\n",
    "'Active Mean': 'Active Mean',\n",
    "'Active Std': 'Active Std',\n",
    "'Active Max': 'Active Max',\n",
    "'Active Min': 'Active Min',\n",
    "'Idle Mean': 'Idle Mean',\n",
    "'Idle Std': 'Idle Std',\n",
    "'Idle Max': 'Idle Max',\n",
    "'Idle Min': 'Idle Min',\n",
    "'Label': 'Label'\n",
    "}"
   ]
  },
  {
   "cell_type": "code",
   "execution_count": 7,
   "metadata": {
    "papermill": {
     "duration": 0.015858,
     "end_time": "2022-08-09T14:59:01.959619",
     "exception": false,
     "start_time": "2022-08-09T14:59:01.943761",
     "status": "completed"
    },
    "tags": []
   },
   "outputs": [],
   "source": [
    "drop_columns = [ # this list includes all spellings across CIC NIDS datasets\n",
    "    \"Flow ID\",    \n",
    "    'Fwd Header Length.1',\n",
    "    \"Source IP\", \"Src IP\",\n",
    "    \"Source Port\", \"Src Port\",\n",
    "    \"Destination IP\", \"Dst IP\",\n",
    "    \"Destination Port\", \"Dst Port\",\n",
    "    \"Timestamp\", \n",
    "    \"Unnamed: 0\", \"Inbound\", \"SimillarHTTP\" # CIC-DDoS other undocumented columns\n",
    "    \"Active Max\", \"Subflow Bwd Packets\", # The following features are being dropped based on the findings from \n",
    "    \"Bwd IAT Max\" , \"Active Min\",  \"Idle Min\", # https://dalspace.library.dal.ca/bitstream/handle/10222/78536/Junhong-Li-MCS-FCS-April-2020.pdf?sequence=7\n",
    "    \"Fwd Bulk Rate Avg\",  \"Bwd PSH Flags\",  \n",
    "    \"Packet Length Min\",  \"Bwd URG Flags\",  \n",
    "    \"Idle Max\",  \"Fwd IAT Total\",  \"Bwd Bytes/Bulk Avg\", \n",
    "    \"Bwd Segment Size Avg\",  \"Fwd Packet/Bulk Avg\",  \"Fwd URG Flags\", \n",
    "    \"URG Flag Count\",  \"Active Mean\", \"ECE Flag Count\",  \n",
    "    \"Fwd Bytes/Bulk Avg\",  \"ACK Flag Count\",  \"Fwd Packets/s\",  \n",
    "    \"Bwd Packet Length Std\", \"Subflow Bwd Bytes\",  \n",
    "    \"Fwd IAT Std\",  \"Bwd IAT Std\",  \"Fwd IAT Mean\",  \"Active Std\",  \n",
    "    \"Packet Length Mean\", \"Fwd IAT Max\",  \"Fwd Segment Size Avg\"\n",
    "]"
   ]
  },
  {
   "cell_type": "markdown",
   "metadata": {
    "papermill": {
     "duration": 0.005191,
     "end_time": "2022-08-09T14:59:01.971223",
     "exception": false,
     "start_time": "2022-08-09T14:59:01.966032",
     "status": "completed"
    },
    "tags": []
   },
   "source": [
    "## Just reading the data\n",
    "It's in standard CSV format"
   ]
  },
  {
   "cell_type": "code",
   "execution_count": 8,
   "metadata": {
    "papermill": {
     "duration": 12.273605,
     "end_time": "2022-08-09T14:59:14.250484",
     "exception": false,
     "start_time": "2022-08-09T14:59:01.976879",
     "status": "completed"
    },
    "tags": []
   },
   "outputs": [
    {
     "data": {
      "text/plain": [
       "[(40680, 88),\n",
       " (51240, 88),\n",
       " (31340, 88),\n",
       " (47340, 88),\n",
       " (357900, 88),\n",
       " (27940, 88),\n",
       " (13210, 88)]"
      ]
     },
     "execution_count": 8,
     "metadata": {},
     "output_type": "execute_result"
    }
   ],
   "source": [
    "individual_dfs = [pd.read_csv(dsp, sep=',', encoding='utf-8') for dsp in dspaths]\n",
    "[i.shape for i in individual_dfs]"
   ]
  },
  {
   "cell_type": "markdown",
   "metadata": {
    "papermill": {
     "duration": 0.007299,
     "end_time": "2022-08-09T14:59:14.265262",
     "exception": false,
     "start_time": "2022-08-09T14:59:14.257963",
     "status": "completed"
    },
    "tags": []
   },
   "source": [
    "## Drops and Renames\n",
    "Some columns are not intended for use because they are metadata. Flow ID, IP addresses, timestamps, etc.\n",
    "\n",
    "If you are unsure why source and destination port are also removed you can read [Establishing the Contaminating Effect of Metadata Feature Inclusion in Machine-Learned Network Intrusion Detection Models](https://link.springer.com/chapter/10.1007/978-3-031-09484-2_2). In short: any included metadata feature will act as a (very) powerful shortcut predictor."
   ]
  },
  {
   "cell_type": "code",
   "execution_count": 9,
   "metadata": {
    "papermill": {
     "duration": 0.341959,
     "end_time": "2022-08-09T14:59:14.612987",
     "exception": false,
     "start_time": "2022-08-09T14:59:14.271028",
     "status": "completed"
    },
    "tags": []
   },
   "outputs": [
    {
     "data": {
      "text/plain": [
       "[(40680, 57),\n",
       " (51240, 57),\n",
       " (31340, 57),\n",
       " (47340, 57),\n",
       " (357900, 57),\n",
       " (27940, 57),\n",
       " (13210, 57)]"
      ]
     },
     "execution_count": 9,
     "metadata": {},
     "output_type": "execute_result"
    }
   ],
   "source": [
    "for df in individual_dfs:\n",
    "    df.columns = df.columns.str.strip() # sometimes there's leading / trailing whitespace\n",
    "    df.drop(columns=drop_columns, inplace=True, errors='ignore')    \n",
    "    df.rename(columns=col_name_consistency, inplace=True)\n",
    "    df['Label'].replace({'BENIGN': 'Benign'}, inplace=True)\n",
    "[i.shape for i in individual_dfs]"
   ]
  },
  {
   "cell_type": "code",
   "execution_count": 10,
   "metadata": {
    "papermill": {
     "duration": 0.023119,
     "end_time": "2022-08-09T14:59:14.641808",
     "exception": false,
     "start_time": "2022-08-09T14:59:14.618689",
     "status": "completed"
    },
    "tags": []
   },
   "outputs": [
    {
     "data": {
      "text/plain": [
       "Protocol                      int64\n",
       "Flow Duration                 int64\n",
       "Total Fwd Packets             int64\n",
       "Total Backward Packets        int64\n",
       "Fwd Packets Length Total    float64\n",
       "Bwd Packets Length Total    float64\n",
       "Fwd Packet Length Max       float64\n",
       "Fwd Packet Length Min       float64\n",
       "Fwd Packet Length Mean      float64\n",
       "Fwd Packet Length Std       float64\n",
       "Bwd Packet Length Max       float64\n",
       "Bwd Packet Length Min       float64\n",
       "Bwd Packet Length Mean      float64\n",
       "Flow Bytes/s                float64\n",
       "Flow Packets/s              float64\n",
       "Flow IAT Mean               float64\n",
       "Flow IAT Std                float64\n",
       "Flow IAT Max                float64\n",
       "Flow IAT Min                float64\n",
       "Fwd IAT Min                 float64\n",
       "Bwd IAT Total               float64\n",
       "Bwd IAT Mean                float64\n",
       "Bwd IAT Min                 float64\n",
       "Fwd PSH Flags                 int64\n",
       "Fwd Header Length             int64\n",
       "Bwd Header Length             int64\n",
       "Bwd Packets/s               float64\n",
       "Packet Length Min           float64\n",
       "Packet Length Max           float64\n",
       "Packet Length Std           float64\n",
       "Packet Length Variance      float64\n",
       "FIN Flag Count                int64\n",
       "SYN Flag Count                int64\n",
       "RST Flag Count                int64\n",
       "PSH Flag Count                int64\n",
       "CWE Flag Count                int64\n",
       "Down/Up Ratio               float64\n",
       "Avg Packet Size             float64\n",
       "Avg Fwd Segment Size        float64\n",
       "Avg Bwd Segment Size        float64\n",
       "Fwd Avg Bytes/Bulk            int64\n",
       "Fwd Avg Packets/Bulk          int64\n",
       "Fwd Avg Bulk Rate             int64\n",
       "Bwd Avg Bytes/Bulk            int64\n",
       "Bwd Avg Packets/Bulk          int64\n",
       "Bwd Avg Bulk Rate             int64\n",
       "Subflow Fwd Packets           int64\n",
       "Subflow Fwd Bytes             int64\n",
       "Init Fwd Win Bytes            int64\n",
       "Init Bwd Win Bytes            int64\n",
       "Fwd Act Data Packets          int64\n",
       "Fwd Seg Size Min              int64\n",
       "Active Max                  float64\n",
       "Idle Mean                   float64\n",
       "Idle Std                    float64\n",
       "SimillarHTTP                 object\n",
       "Label                        object\n",
       "dtype: object"
      ]
     },
     "execution_count": 10,
     "metadata": {},
     "output_type": "execute_result"
    }
   ],
   "source": [
    "individual_dfs[0].dtypes"
   ]
  },
  {
   "cell_type": "markdown",
   "metadata": {
    "papermill": {
     "duration": 0.006736,
     "end_time": "2022-08-09T14:59:14.654657",
     "exception": false,
     "start_time": "2022-08-09T14:59:14.647921",
     "status": "completed"
    },
    "tags": []
   },
   "source": [
    "## Downsizing\n",
    "The individual frames are optimized by downsizing their types to more appropriate forms than the default float64, int64 or object (str) types. "
   ]
  },
  {
   "cell_type": "code",
   "execution_count": 11,
   "metadata": {
    "papermill": {
     "duration": 2.359448,
     "end_time": "2022-08-09T14:59:17.020053",
     "exception": false,
     "start_time": "2022-08-09T14:59:14.660605",
     "status": "completed"
    },
    "tags": []
   },
   "outputs": [
    {
     "data": {
      "text/html": [
       "\n",
       "<style>\n",
       "    /* Turns off some styling */\n",
       "    progress {\n",
       "        /* gets rid of default border in Firefox and Opera. */\n",
       "        border: none;\n",
       "        /* Needs to be in here for Safari polyfill so background images work as expected. */\n",
       "        background-size: auto;\n",
       "    }\n",
       "    progress:not([value]), progress:not([value])::-webkit-progress-bar {\n",
       "        background: repeating-linear-gradient(45deg, #7e7e7e, #7e7e7e 10px, #5c5c5c 10px, #5c5c5c 20px);\n",
       "    }\n",
       "    .progress-bar-interrupted, .progress-bar-interrupted::-webkit-progress-bar {\n",
       "        background: #F44336;\n",
       "    }\n",
       "</style>\n"
      ],
      "text/plain": [
       "<IPython.core.display.HTML object>"
      ]
     },
     "metadata": {},
     "output_type": "display_data"
    },
    {
     "data": {
      "text/html": [],
      "text/plain": [
       "<IPython.core.display.HTML object>"
      ]
     },
     "metadata": {},
     "output_type": "display_data"
    }
   ],
   "source": [
    "individual_dfs = parallel(f=df_shrink, items=individual_dfs, progress=True)"
   ]
  },
  {
   "cell_type": "code",
   "execution_count": 12,
   "metadata": {
    "papermill": {
     "duration": 0.017579,
     "end_time": "2022-08-09T14:59:17.043493",
     "exception": false,
     "start_time": "2022-08-09T14:59:17.025914",
     "status": "completed"
    },
    "tags": []
   },
   "outputs": [
    {
     "data": {
      "text/plain": [
       "Protocol                        int8\n",
       "Flow Duration                  int32\n",
       "Total Fwd Packets              int16\n",
       "Total Backward Packets         int16\n",
       "Fwd Packets Length Total     float32\n",
       "Bwd Packets Length Total     float32\n",
       "Fwd Packet Length Max        float32\n",
       "Fwd Packet Length Min        float32\n",
       "Fwd Packet Length Mean       float32\n",
       "Fwd Packet Length Std        float32\n",
       "Bwd Packet Length Max        float32\n",
       "Bwd Packet Length Min        float32\n",
       "Bwd Packet Length Mean       float32\n",
       "Flow Bytes/s                 float64\n",
       "Flow Packets/s               float64\n",
       "Flow IAT Mean                float32\n",
       "Flow IAT Std                 float32\n",
       "Flow IAT Max                 float32\n",
       "Flow IAT Min                 float32\n",
       "Fwd IAT Min                  float32\n",
       "Bwd IAT Total                float32\n",
       "Bwd IAT Mean                 float32\n",
       "Bwd IAT Min                  float32\n",
       "Fwd PSH Flags                   int8\n",
       "Fwd Header Length              int64\n",
       "Bwd Header Length              int16\n",
       "Bwd Packets/s                float32\n",
       "Packet Length Min            float32\n",
       "Packet Length Max            float32\n",
       "Packet Length Std            float32\n",
       "Packet Length Variance       float32\n",
       "FIN Flag Count                  int8\n",
       "SYN Flag Count                  int8\n",
       "RST Flag Count                  int8\n",
       "PSH Flag Count                  int8\n",
       "CWE Flag Count                  int8\n",
       "Down/Up Ratio                float32\n",
       "Avg Packet Size              float32\n",
       "Avg Fwd Segment Size         float32\n",
       "Avg Bwd Segment Size         float32\n",
       "Fwd Avg Bytes/Bulk              int8\n",
       "Fwd Avg Packets/Bulk            int8\n",
       "Fwd Avg Bulk Rate               int8\n",
       "Bwd Avg Bytes/Bulk              int8\n",
       "Bwd Avg Packets/Bulk            int8\n",
       "Bwd Avg Bulk Rate               int8\n",
       "Subflow Fwd Packets            int16\n",
       "Subflow Fwd Bytes              int32\n",
       "Init Fwd Win Bytes             int32\n",
       "Init Bwd Win Bytes             int32\n",
       "Fwd Act Data Packets           int16\n",
       "Fwd Seg Size Min               int32\n",
       "Active Max                   float32\n",
       "Idle Mean                    float32\n",
       "Idle Std                     float32\n",
       "SimillarHTTP                category\n",
       "Label                       category\n",
       "dtype: object"
      ]
     },
     "execution_count": 12,
     "metadata": {},
     "output_type": "execute_result"
    }
   ],
   "source": [
    "individual_dfs[0].dtypes"
   ]
  },
  {
   "cell_type": "markdown",
   "metadata": {
    "papermill": {
     "duration": 0.005559,
     "end_time": "2022-08-09T14:59:17.055952",
     "exception": false,
     "start_time": "2022-08-09T14:59:17.050393",
     "status": "completed"
    },
    "tags": []
   },
   "source": [
    "## Removing NaN\n"
   ]
  },
  {
   "cell_type": "code",
   "execution_count": 13,
   "metadata": {
    "papermill": {
     "duration": 0.647502,
     "end_time": "2022-08-09T14:59:17.709319",
     "exception": false,
     "start_time": "2022-08-09T14:59:17.061817",
     "status": "completed"
    },
    "tags": []
   },
   "outputs": [
    {
     "data": {
      "text/plain": [
       "[(38076, 57),\n",
       " (49985, 57),\n",
       " (30699, 57),\n",
       " (45069, 57),\n",
       " (336214, 57),\n",
       " (27080, 57),\n",
       " (12717, 57)]"
      ]
     },
     "execution_count": 13,
     "metadata": {},
     "output_type": "execute_result"
    }
   ],
   "source": [
    "for df in individual_dfs:\n",
    "    df.replace([np.inf, -np.inf], np.nan, inplace=True)    \n",
    "    # print(df.isna().any(axis=1).sum(), \"rows with at least one NaN to remove\")\n",
    "    df.dropna(inplace=True)    \n",
    "[i.shape for i in individual_dfs]"
   ]
  },
  {
   "cell_type": "markdown",
   "metadata": {
    "papermill": {
     "duration": 0.006652,
     "end_time": "2022-08-09T14:59:17.722147",
     "exception": false,
     "start_time": "2022-08-09T14:59:17.715495",
     "status": "completed"
    },
    "tags": []
   },
   "source": [
    "## Dropping duplicates\n",
    "There should be no duplicates because they can bias training and can lead to over-optimistic estimates of classification performance during testing."
   ]
  },
  {
   "cell_type": "code",
   "execution_count": 14,
   "metadata": {
    "papermill": {
     "duration": 4.465132,
     "end_time": "2022-08-09T14:59:22.193791",
     "exception": false,
     "start_time": "2022-08-09T14:59:17.728659",
     "status": "completed"
    },
    "tags": []
   },
   "outputs": [
    {
     "name": "stdout",
     "output_type": "stream",
     "text": [
      "24945 fully duplicate rows to remove\n",
      "42834 fully duplicate rows to remove\n",
      "12641 fully duplicate rows to remove\n",
      "39762 fully duplicate rows to remove\n",
      "264912 fully duplicate rows to remove\n",
      "15748 fully duplicate rows to remove\n",
      "10926 fully duplicate rows to remove\n"
     ]
    },
    {
     "data": {
      "text/plain": [
       "[(13131, 57),\n",
       " (7151, 57),\n",
       " (18058, 57),\n",
       " (5307, 57),\n",
       " (71302, 57),\n",
       " (11332, 57),\n",
       " (1791, 57)]"
      ]
     },
     "execution_count": 14,
     "metadata": {},
     "output_type": "execute_result"
    }
   ],
   "source": [
    "for df in individual_dfs:\n",
    "    print(df.duplicated().sum(), \"fully duplicate rows to remove\")\n",
    "    df.drop_duplicates(inplace=True)\n",
    "    df.reset_index(inplace=True, drop=True)\n",
    "[i.shape for i in individual_dfs]"
   ]
  },
  {
   "cell_type": "code",
   "execution_count": 15,
   "metadata": {
    "tags": []
   },
   "outputs": [],
   "source": [
    "Cic_df = pd.DataFrame()"
   ]
  },
  {
   "cell_type": "code",
   "execution_count": 16,
   "metadata": {
    "tags": []
   },
   "outputs": [],
   "source": [
    "from functools import reduce"
   ]
  },
  {
   "cell_type": "code",
   "execution_count": 17,
   "metadata": {
    "tags": []
   },
   "outputs": [],
   "source": [
    "for df in individual_dfs:\n",
    "    Cic_df = pd.concat([Cic_df, df])"
   ]
  },
  {
   "cell_type": "code",
   "execution_count": 18,
   "metadata": {
    "tags": []
   },
   "outputs": [
    {
     "data": {
      "text/html": [
       "<div>\n",
       "<style scoped>\n",
       "    .dataframe tbody tr th:only-of-type {\n",
       "        vertical-align: middle;\n",
       "    }\n",
       "\n",
       "    .dataframe tbody tr th {\n",
       "        vertical-align: top;\n",
       "    }\n",
       "\n",
       "    .dataframe thead th {\n",
       "        text-align: right;\n",
       "    }\n",
       "</style>\n",
       "<table border=\"1\" class=\"dataframe\">\n",
       "  <thead>\n",
       "    <tr style=\"text-align: right;\">\n",
       "      <th></th>\n",
       "      <th>Protocol</th>\n",
       "      <th>Flow Duration</th>\n",
       "      <th>Total Fwd Packets</th>\n",
       "      <th>Total Backward Packets</th>\n",
       "      <th>Fwd Packets Length Total</th>\n",
       "      <th>Bwd Packets Length Total</th>\n",
       "      <th>Fwd Packet Length Max</th>\n",
       "      <th>Fwd Packet Length Min</th>\n",
       "      <th>Fwd Packet Length Mean</th>\n",
       "      <th>Fwd Packet Length Std</th>\n",
       "      <th>...</th>\n",
       "      <th>Subflow Fwd Bytes</th>\n",
       "      <th>Init Fwd Win Bytes</th>\n",
       "      <th>Init Bwd Win Bytes</th>\n",
       "      <th>Fwd Act Data Packets</th>\n",
       "      <th>Fwd Seg Size Min</th>\n",
       "      <th>Active Max</th>\n",
       "      <th>Idle Mean</th>\n",
       "      <th>Idle Std</th>\n",
       "      <th>SimillarHTTP</th>\n",
       "      <th>Label</th>\n",
       "    </tr>\n",
       "  </thead>\n",
       "  <tbody>\n",
       "    <tr>\n",
       "      <th>0</th>\n",
       "      <td>17</td>\n",
       "      <td>2</td>\n",
       "      <td>2</td>\n",
       "      <td>0</td>\n",
       "      <td>802.0</td>\n",
       "      <td>0.0</td>\n",
       "      <td>401.0</td>\n",
       "      <td>401.0</td>\n",
       "      <td>401.0</td>\n",
       "      <td>0.0</td>\n",
       "      <td>...</td>\n",
       "      <td>802</td>\n",
       "      <td>-1</td>\n",
       "      <td>-1</td>\n",
       "      <td>1</td>\n",
       "      <td>8</td>\n",
       "      <td>0.0</td>\n",
       "      <td>0.0</td>\n",
       "      <td>0.00</td>\n",
       "      <td>0</td>\n",
       "      <td>UDP</td>\n",
       "    </tr>\n",
       "    <tr>\n",
       "      <th>1</th>\n",
       "      <td>6</td>\n",
       "      <td>40833176</td>\n",
       "      <td>10</td>\n",
       "      <td>4</td>\n",
       "      <td>60.0</td>\n",
       "      <td>24.0</td>\n",
       "      <td>6.0</td>\n",
       "      <td>6.0</td>\n",
       "      <td>6.0</td>\n",
       "      <td>0.0</td>\n",
       "      <td>...</td>\n",
       "      <td>60</td>\n",
       "      <td>5840</td>\n",
       "      <td>0</td>\n",
       "      <td>9</td>\n",
       "      <td>20</td>\n",
       "      <td>305540.0</td>\n",
       "      <td>13509211.0</td>\n",
       "      <td>2733040.25</td>\n",
       "      <td>0</td>\n",
       "      <td>Syn</td>\n",
       "    </tr>\n",
       "    <tr>\n",
       "      <th>2</th>\n",
       "      <td>6</td>\n",
       "      <td>1</td>\n",
       "      <td>2</td>\n",
       "      <td>0</td>\n",
       "      <td>12.0</td>\n",
       "      <td>0.0</td>\n",
       "      <td>6.0</td>\n",
       "      <td>6.0</td>\n",
       "      <td>6.0</td>\n",
       "      <td>0.0</td>\n",
       "      <td>...</td>\n",
       "      <td>12</td>\n",
       "      <td>5840</td>\n",
       "      <td>-1</td>\n",
       "      <td>1</td>\n",
       "      <td>20</td>\n",
       "      <td>0.0</td>\n",
       "      <td>0.0</td>\n",
       "      <td>0.00</td>\n",
       "      <td>0</td>\n",
       "      <td>Syn</td>\n",
       "    </tr>\n",
       "    <tr>\n",
       "      <th>3</th>\n",
       "      <td>6</td>\n",
       "      <td>103</td>\n",
       "      <td>2</td>\n",
       "      <td>2</td>\n",
       "      <td>12.0</td>\n",
       "      <td>12.0</td>\n",
       "      <td>6.0</td>\n",
       "      <td>6.0</td>\n",
       "      <td>6.0</td>\n",
       "      <td>0.0</td>\n",
       "      <td>...</td>\n",
       "      <td>12</td>\n",
       "      <td>5840</td>\n",
       "      <td>0</td>\n",
       "      <td>1</td>\n",
       "      <td>20</td>\n",
       "      <td>0.0</td>\n",
       "      <td>0.0</td>\n",
       "      <td>0.00</td>\n",
       "      <td>0</td>\n",
       "      <td>Syn</td>\n",
       "    </tr>\n",
       "    <tr>\n",
       "      <th>4</th>\n",
       "      <td>6</td>\n",
       "      <td>41</td>\n",
       "      <td>2</td>\n",
       "      <td>2</td>\n",
       "      <td>12.0</td>\n",
       "      <td>12.0</td>\n",
       "      <td>6.0</td>\n",
       "      <td>6.0</td>\n",
       "      <td>6.0</td>\n",
       "      <td>0.0</td>\n",
       "      <td>...</td>\n",
       "      <td>12</td>\n",
       "      <td>5840</td>\n",
       "      <td>0</td>\n",
       "      <td>1</td>\n",
       "      <td>20</td>\n",
       "      <td>0.0</td>\n",
       "      <td>0.0</td>\n",
       "      <td>0.00</td>\n",
       "      <td>0</td>\n",
       "      <td>Syn</td>\n",
       "    </tr>\n",
       "  </tbody>\n",
       "</table>\n",
       "<p>5 rows × 57 columns</p>\n",
       "</div>"
      ],
      "text/plain": [
       "   Protocol  Flow Duration  Total Fwd Packets  Total Backward Packets  \\\n",
       "0        17              2                  2                       0   \n",
       "1         6       40833176                 10                       4   \n",
       "2         6              1                  2                       0   \n",
       "3         6            103                  2                       2   \n",
       "4         6             41                  2                       2   \n",
       "\n",
       "   Fwd Packets Length Total  Bwd Packets Length Total  Fwd Packet Length Max  \\\n",
       "0                     802.0                       0.0                  401.0   \n",
       "1                      60.0                      24.0                    6.0   \n",
       "2                      12.0                       0.0                    6.0   \n",
       "3                      12.0                      12.0                    6.0   \n",
       "4                      12.0                      12.0                    6.0   \n",
       "\n",
       "   Fwd Packet Length Min  Fwd Packet Length Mean  Fwd Packet Length Std  ...  \\\n",
       "0                  401.0                   401.0                    0.0  ...   \n",
       "1                    6.0                     6.0                    0.0  ...   \n",
       "2                    6.0                     6.0                    0.0  ...   \n",
       "3                    6.0                     6.0                    0.0  ...   \n",
       "4                    6.0                     6.0                    0.0  ...   \n",
       "\n",
       "   Subflow Fwd Bytes  Init Fwd Win Bytes  Init Bwd Win Bytes  \\\n",
       "0                802                  -1                  -1   \n",
       "1                 60                5840                   0   \n",
       "2                 12                5840                  -1   \n",
       "3                 12                5840                   0   \n",
       "4                 12                5840                   0   \n",
       "\n",
       "   Fwd Act Data Packets  Fwd Seg Size Min  Active Max   Idle Mean    Idle Std  \\\n",
       "0                     1                 8         0.0         0.0        0.00   \n",
       "1                     9                20    305540.0  13509211.0  2733040.25   \n",
       "2                     1                20         0.0         0.0        0.00   \n",
       "3                     1                20         0.0         0.0        0.00   \n",
       "4                     1                20         0.0         0.0        0.00   \n",
       "\n",
       "   SimillarHTTP  Label  \n",
       "0             0    UDP  \n",
       "1             0    Syn  \n",
       "2             0    Syn  \n",
       "3             0    Syn  \n",
       "4             0    Syn  \n",
       "\n",
       "[5 rows x 57 columns]"
      ]
     },
     "execution_count": 18,
     "metadata": {},
     "output_type": "execute_result"
    }
   ],
   "source": [
    "Cic_df.head()"
   ]
  },
  {
   "cell_type": "code",
   "execution_count": 19,
   "metadata": {
    "tags": []
   },
   "outputs": [
    {
     "data": {
      "text/plain": [
       "(128072, 57)"
      ]
     },
     "execution_count": 19,
     "metadata": {},
     "output_type": "execute_result"
    }
   ],
   "source": [
    "Cic_df.shape"
   ]
  },
  {
   "cell_type": "code",
   "execution_count": 20,
   "metadata": {
    "tags": []
   },
   "outputs": [],
   "source": [
    "Cic_df.to_csv('s3://sagemaker-us-east-1-123251154742/cicddos_training.csv') "
   ]
  },
  {
   "cell_type": "code",
   "execution_count": 21,
   "metadata": {
    "tags": []
   },
   "outputs": [],
   "source": [
    "def reorder_columns(columns, first_cols=[], last_cols=[], drop_cols=[]):\n",
    "    columns = list(set(columns) - set(first_cols))\n",
    "    columns = list(set(columns) - set(drop_cols))\n",
    "    columns = list(set(columns) - set(last_cols))\n",
    "    new_order = first_cols + columns + last_cols\n",
    "    return new_order"
   ]
  },
  {
   "cell_type": "code",
   "execution_count": 22,
   "metadata": {},
   "outputs": [],
   "source": [
    "my_list = Cic_df.columns.tolist()\n",
    "reordered_cols = reorder_columns(my_list, first_cols=['Label'], last_cols=['Protocol'], drop_cols=[])\n",
    "Cic_df_training = Cic_df[reordered_cols]"
   ]
  },
  {
   "cell_type": "code",
   "execution_count": 23,
   "metadata": {
    "tags": []
   },
   "outputs": [
    {
     "data": {
      "text/html": [
       "<div>\n",
       "<style scoped>\n",
       "    .dataframe tbody tr th:only-of-type {\n",
       "        vertical-align: middle;\n",
       "    }\n",
       "\n",
       "    .dataframe tbody tr th {\n",
       "        vertical-align: top;\n",
       "    }\n",
       "\n",
       "    .dataframe thead th {\n",
       "        text-align: right;\n",
       "    }\n",
       "</style>\n",
       "<table border=\"1\" class=\"dataframe\">\n",
       "  <thead>\n",
       "    <tr style=\"text-align: right;\">\n",
       "      <th></th>\n",
       "      <th>Label</th>\n",
       "      <th>Flow Bytes/s</th>\n",
       "      <th>Packet Length Max</th>\n",
       "      <th>Active Max</th>\n",
       "      <th>Init Bwd Win Bytes</th>\n",
       "      <th>FIN Flag Count</th>\n",
       "      <th>Idle Mean</th>\n",
       "      <th>Flow Duration</th>\n",
       "      <th>Bwd Packets Length Total</th>\n",
       "      <th>Down/Up Ratio</th>\n",
       "      <th>...</th>\n",
       "      <th>Bwd Avg Bulk Rate</th>\n",
       "      <th>Fwd IAT Min</th>\n",
       "      <th>Bwd Packets/s</th>\n",
       "      <th>Flow IAT Min</th>\n",
       "      <th>Fwd Packet Length Mean</th>\n",
       "      <th>Avg Fwd Segment Size</th>\n",
       "      <th>Init Fwd Win Bytes</th>\n",
       "      <th>Fwd Packets Length Total</th>\n",
       "      <th>Bwd Packet Length Mean</th>\n",
       "      <th>Protocol</th>\n",
       "    </tr>\n",
       "  </thead>\n",
       "  <tbody>\n",
       "    <tr>\n",
       "      <th>0</th>\n",
       "      <td>UDP</td>\n",
       "      <td>4.010000e+08</td>\n",
       "      <td>401.0</td>\n",
       "      <td>0.0</td>\n",
       "      <td>-1</td>\n",
       "      <td>0</td>\n",
       "      <td>0.0</td>\n",
       "      <td>2</td>\n",
       "      <td>0.0</td>\n",
       "      <td>0.0</td>\n",
       "      <td>...</td>\n",
       "      <td>0</td>\n",
       "      <td>2.0</td>\n",
       "      <td>0.000000</td>\n",
       "      <td>2.0</td>\n",
       "      <td>401.0</td>\n",
       "      <td>401.0</td>\n",
       "      <td>-1</td>\n",
       "      <td>802.0</td>\n",
       "      <td>0.0</td>\n",
       "      <td>17</td>\n",
       "    </tr>\n",
       "    <tr>\n",
       "      <th>1</th>\n",
       "      <td>Syn</td>\n",
       "      <td>2.057151e+00</td>\n",
       "      <td>6.0</td>\n",
       "      <td>305540.0</td>\n",
       "      <td>0</td>\n",
       "      <td>0</td>\n",
       "      <td>13509211.0</td>\n",
       "      <td>40833176</td>\n",
       "      <td>24.0</td>\n",
       "      <td>0.0</td>\n",
       "      <td>...</td>\n",
       "      <td>0</td>\n",
       "      <td>0.0</td>\n",
       "      <td>0.097960</td>\n",
       "      <td>0.0</td>\n",
       "      <td>6.0</td>\n",
       "      <td>6.0</td>\n",
       "      <td>5840</td>\n",
       "      <td>60.0</td>\n",
       "      <td>6.0</td>\n",
       "      <td>6</td>\n",
       "    </tr>\n",
       "    <tr>\n",
       "      <th>2</th>\n",
       "      <td>Syn</td>\n",
       "      <td>1.200000e+07</td>\n",
       "      <td>6.0</td>\n",
       "      <td>0.0</td>\n",
       "      <td>-1</td>\n",
       "      <td>0</td>\n",
       "      <td>0.0</td>\n",
       "      <td>1</td>\n",
       "      <td>0.0</td>\n",
       "      <td>0.0</td>\n",
       "      <td>...</td>\n",
       "      <td>0</td>\n",
       "      <td>1.0</td>\n",
       "      <td>0.000000</td>\n",
       "      <td>1.0</td>\n",
       "      <td>6.0</td>\n",
       "      <td>6.0</td>\n",
       "      <td>5840</td>\n",
       "      <td>12.0</td>\n",
       "      <td>0.0</td>\n",
       "      <td>6</td>\n",
       "    </tr>\n",
       "    <tr>\n",
       "      <th>3</th>\n",
       "      <td>Syn</td>\n",
       "      <td>2.330097e+05</td>\n",
       "      <td>6.0</td>\n",
       "      <td>0.0</td>\n",
       "      <td>0</td>\n",
       "      <td>0</td>\n",
       "      <td>0.0</td>\n",
       "      <td>103</td>\n",
       "      <td>12.0</td>\n",
       "      <td>1.0</td>\n",
       "      <td>...</td>\n",
       "      <td>0</td>\n",
       "      <td>1.0</td>\n",
       "      <td>19417.476562</td>\n",
       "      <td>1.0</td>\n",
       "      <td>6.0</td>\n",
       "      <td>6.0</td>\n",
       "      <td>5840</td>\n",
       "      <td>12.0</td>\n",
       "      <td>6.0</td>\n",
       "      <td>6</td>\n",
       "    </tr>\n",
       "    <tr>\n",
       "      <th>4</th>\n",
       "      <td>Syn</td>\n",
       "      <td>5.853659e+05</td>\n",
       "      <td>6.0</td>\n",
       "      <td>0.0</td>\n",
       "      <td>0</td>\n",
       "      <td>0</td>\n",
       "      <td>0.0</td>\n",
       "      <td>41</td>\n",
       "      <td>12.0</td>\n",
       "      <td>1.0</td>\n",
       "      <td>...</td>\n",
       "      <td>0</td>\n",
       "      <td>1.0</td>\n",
       "      <td>48780.488281</td>\n",
       "      <td>1.0</td>\n",
       "      <td>6.0</td>\n",
       "      <td>6.0</td>\n",
       "      <td>5840</td>\n",
       "      <td>12.0</td>\n",
       "      <td>6.0</td>\n",
       "      <td>6</td>\n",
       "    </tr>\n",
       "  </tbody>\n",
       "</table>\n",
       "<p>5 rows × 57 columns</p>\n",
       "</div>"
      ],
      "text/plain": [
       "  Label  Flow Bytes/s  Packet Length Max  Active Max  Init Bwd Win Bytes  \\\n",
       "0   UDP  4.010000e+08              401.0         0.0                  -1   \n",
       "1   Syn  2.057151e+00                6.0    305540.0                   0   \n",
       "2   Syn  1.200000e+07                6.0         0.0                  -1   \n",
       "3   Syn  2.330097e+05                6.0         0.0                   0   \n",
       "4   Syn  5.853659e+05                6.0         0.0                   0   \n",
       "\n",
       "   FIN Flag Count   Idle Mean  Flow Duration  Bwd Packets Length Total  \\\n",
       "0               0         0.0              2                       0.0   \n",
       "1               0  13509211.0       40833176                      24.0   \n",
       "2               0         0.0              1                       0.0   \n",
       "3               0         0.0            103                      12.0   \n",
       "4               0         0.0             41                      12.0   \n",
       "\n",
       "   Down/Up Ratio  ...  Bwd Avg Bulk Rate  Fwd IAT Min  Bwd Packets/s  \\\n",
       "0            0.0  ...                  0          2.0       0.000000   \n",
       "1            0.0  ...                  0          0.0       0.097960   \n",
       "2            0.0  ...                  0          1.0       0.000000   \n",
       "3            1.0  ...                  0          1.0   19417.476562   \n",
       "4            1.0  ...                  0          1.0   48780.488281   \n",
       "\n",
       "   Flow IAT Min  Fwd Packet Length Mean Avg Fwd Segment Size  \\\n",
       "0           2.0                   401.0                401.0   \n",
       "1           0.0                     6.0                  6.0   \n",
       "2           1.0                     6.0                  6.0   \n",
       "3           1.0                     6.0                  6.0   \n",
       "4           1.0                     6.0                  6.0   \n",
       "\n",
       "   Init Fwd Win Bytes  Fwd Packets Length Total  Bwd Packet Length Mean  \\\n",
       "0                  -1                     802.0                     0.0   \n",
       "1                5840                      60.0                     6.0   \n",
       "2                5840                      12.0                     0.0   \n",
       "3                5840                      12.0                     6.0   \n",
       "4                5840                      12.0                     6.0   \n",
       "\n",
       "   Protocol  \n",
       "0        17  \n",
       "1         6  \n",
       "2         6  \n",
       "3         6  \n",
       "4         6  \n",
       "\n",
       "[5 rows x 57 columns]"
      ]
     },
     "execution_count": 23,
     "metadata": {},
     "output_type": "execute_result"
    }
   ],
   "source": [
    "Cic_df_training.head()"
   ]
  },
  {
   "cell_type": "code",
   "execution_count": 24,
   "metadata": {
    "papermill": {
     "duration": 0.390392,
     "end_time": "2022-08-09T14:59:24.250269",
     "exception": false,
     "start_time": "2022-08-09T14:59:23.859877",
     "status": "completed"
    },
    "tags": []
   },
   "outputs": [],
   "source": [
    "Cic_df_training.to_csv('s3://sagemaker-us-east-1-123251154742/cicddos_training.csv') "
   ]
  },
  {
   "cell_type": "code",
   "execution_count": 25,
   "metadata": {
    "tags": []
   },
   "outputs": [
    {
     "data": {
      "text/html": [
       "<div>\n",
       "<style scoped>\n",
       "    .dataframe tbody tr th:only-of-type {\n",
       "        vertical-align: middle;\n",
       "    }\n",
       "\n",
       "    .dataframe tbody tr th {\n",
       "        vertical-align: top;\n",
       "    }\n",
       "\n",
       "    .dataframe thead th {\n",
       "        text-align: right;\n",
       "    }\n",
       "</style>\n",
       "<table border=\"1\" class=\"dataframe\">\n",
       "  <thead>\n",
       "    <tr style=\"text-align: right;\">\n",
       "      <th></th>\n",
       "      <th>id</th>\n",
       "      <th>dur</th>\n",
       "      <th>proto</th>\n",
       "      <th>service</th>\n",
       "      <th>state</th>\n",
       "      <th>spkts</th>\n",
       "      <th>dpkts</th>\n",
       "      <th>sbytes</th>\n",
       "      <th>dbytes</th>\n",
       "      <th>rate</th>\n",
       "      <th>...</th>\n",
       "      <th>ct_dst_sport_ltm</th>\n",
       "      <th>ct_dst_src_ltm</th>\n",
       "      <th>is_ftp_login</th>\n",
       "      <th>ct_ftp_cmd</th>\n",
       "      <th>ct_flw_http_mthd</th>\n",
       "      <th>ct_src_ltm</th>\n",
       "      <th>ct_srv_dst</th>\n",
       "      <th>is_sm_ips_ports</th>\n",
       "      <th>attack_cat</th>\n",
       "      <th>label</th>\n",
       "    </tr>\n",
       "  </thead>\n",
       "  <tbody>\n",
       "    <tr>\n",
       "      <th>0</th>\n",
       "      <td>1</td>\n",
       "      <td>0.000011</td>\n",
       "      <td>udp</td>\n",
       "      <td>-</td>\n",
       "      <td>INT</td>\n",
       "      <td>2</td>\n",
       "      <td>0</td>\n",
       "      <td>496</td>\n",
       "      <td>0</td>\n",
       "      <td>90909.0902</td>\n",
       "      <td>...</td>\n",
       "      <td>1</td>\n",
       "      <td>2</td>\n",
       "      <td>0</td>\n",
       "      <td>0</td>\n",
       "      <td>0</td>\n",
       "      <td>1</td>\n",
       "      <td>2</td>\n",
       "      <td>0</td>\n",
       "      <td>Normal</td>\n",
       "      <td>0</td>\n",
       "    </tr>\n",
       "    <tr>\n",
       "      <th>1</th>\n",
       "      <td>2</td>\n",
       "      <td>0.000008</td>\n",
       "      <td>udp</td>\n",
       "      <td>-</td>\n",
       "      <td>INT</td>\n",
       "      <td>2</td>\n",
       "      <td>0</td>\n",
       "      <td>1762</td>\n",
       "      <td>0</td>\n",
       "      <td>125000.0003</td>\n",
       "      <td>...</td>\n",
       "      <td>1</td>\n",
       "      <td>2</td>\n",
       "      <td>0</td>\n",
       "      <td>0</td>\n",
       "      <td>0</td>\n",
       "      <td>1</td>\n",
       "      <td>2</td>\n",
       "      <td>0</td>\n",
       "      <td>Normal</td>\n",
       "      <td>0</td>\n",
       "    </tr>\n",
       "    <tr>\n",
       "      <th>2</th>\n",
       "      <td>3</td>\n",
       "      <td>0.000005</td>\n",
       "      <td>udp</td>\n",
       "      <td>-</td>\n",
       "      <td>INT</td>\n",
       "      <td>2</td>\n",
       "      <td>0</td>\n",
       "      <td>1068</td>\n",
       "      <td>0</td>\n",
       "      <td>200000.0051</td>\n",
       "      <td>...</td>\n",
       "      <td>1</td>\n",
       "      <td>3</td>\n",
       "      <td>0</td>\n",
       "      <td>0</td>\n",
       "      <td>0</td>\n",
       "      <td>1</td>\n",
       "      <td>3</td>\n",
       "      <td>0</td>\n",
       "      <td>Normal</td>\n",
       "      <td>0</td>\n",
       "    </tr>\n",
       "    <tr>\n",
       "      <th>3</th>\n",
       "      <td>4</td>\n",
       "      <td>0.000006</td>\n",
       "      <td>udp</td>\n",
       "      <td>-</td>\n",
       "      <td>INT</td>\n",
       "      <td>2</td>\n",
       "      <td>0</td>\n",
       "      <td>900</td>\n",
       "      <td>0</td>\n",
       "      <td>166666.6608</td>\n",
       "      <td>...</td>\n",
       "      <td>1</td>\n",
       "      <td>3</td>\n",
       "      <td>0</td>\n",
       "      <td>0</td>\n",
       "      <td>0</td>\n",
       "      <td>2</td>\n",
       "      <td>3</td>\n",
       "      <td>0</td>\n",
       "      <td>Normal</td>\n",
       "      <td>0</td>\n",
       "    </tr>\n",
       "    <tr>\n",
       "      <th>4</th>\n",
       "      <td>5</td>\n",
       "      <td>0.000010</td>\n",
       "      <td>udp</td>\n",
       "      <td>-</td>\n",
       "      <td>INT</td>\n",
       "      <td>2</td>\n",
       "      <td>0</td>\n",
       "      <td>2126</td>\n",
       "      <td>0</td>\n",
       "      <td>100000.0025</td>\n",
       "      <td>...</td>\n",
       "      <td>1</td>\n",
       "      <td>3</td>\n",
       "      <td>0</td>\n",
       "      <td>0</td>\n",
       "      <td>0</td>\n",
       "      <td>2</td>\n",
       "      <td>3</td>\n",
       "      <td>0</td>\n",
       "      <td>Normal</td>\n",
       "      <td>0</td>\n",
       "    </tr>\n",
       "  </tbody>\n",
       "</table>\n",
       "<p>5 rows × 45 columns</p>\n",
       "</div>"
      ],
      "text/plain": [
       "   id       dur proto service state  spkts  dpkts  sbytes  dbytes  \\\n",
       "0   1  0.000011   udp       -   INT      2      0     496       0   \n",
       "1   2  0.000008   udp       -   INT      2      0    1762       0   \n",
       "2   3  0.000005   udp       -   INT      2      0    1068       0   \n",
       "3   4  0.000006   udp       -   INT      2      0     900       0   \n",
       "4   5  0.000010   udp       -   INT      2      0    2126       0   \n",
       "\n",
       "          rate  ...  ct_dst_sport_ltm  ct_dst_src_ltm  is_ftp_login  \\\n",
       "0   90909.0902  ...                 1               2             0   \n",
       "1  125000.0003  ...                 1               2             0   \n",
       "2  200000.0051  ...                 1               3             0   \n",
       "3  166666.6608  ...                 1               3             0   \n",
       "4  100000.0025  ...                 1               3             0   \n",
       "\n",
       "   ct_ftp_cmd  ct_flw_http_mthd  ct_src_ltm  ct_srv_dst  is_sm_ips_ports  \\\n",
       "0           0                 0           1           2                0   \n",
       "1           0                 0           1           2                0   \n",
       "2           0                 0           1           3                0   \n",
       "3           0                 0           2           3                0   \n",
       "4           0                 0           2           3                0   \n",
       "\n",
       "   attack_cat  label  \n",
       "0      Normal      0  \n",
       "1      Normal      0  \n",
       "2      Normal      0  \n",
       "3      Normal      0  \n",
       "4      Normal      0  \n",
       "\n",
       "[5 rows x 45 columns]"
      ]
     },
     "execution_count": 25,
     "metadata": {},
     "output_type": "execute_result"
    }
   ],
   "source": [
    "unsw_df = pd.read_csv('s3://sagemaker-us-east-1-123251154742/UNSW_NB15_training-set.csv')\n",
    "unsw_df.head()"
   ]
  },
  {
   "cell_type": "code",
   "execution_count": 26,
   "metadata": {
    "tags": []
   },
   "outputs": [],
   "source": [
    "features = list(unsw_df)"
   ]
  },
  {
   "cell_type": "code",
   "execution_count": 27,
   "metadata": {
    "tags": []
   },
   "outputs": [
    {
     "name": "stdout",
     "output_type": "stream",
     "text": [
      "The no of data points are: 82332\n",
      "========================================\n",
      "The no of features are: 45\n",
      "========================================\n",
      "Some of the features are: ['id', 'dur', 'proto', 'service', 'state', 'spkts', 'dpkts', 'sbytes', 'dbytes', 'rate', 'sttl', 'dttl', 'sload', 'dload', 'sloss', 'dloss', 'sinpkt', 'dinpkt', 'sjit', 'djit', 'swin', 'stcpb', 'dtcpb', 'dwin', 'tcprtt', 'synack', 'ackdat', 'smean', 'dmean', 'trans_depth', 'response_body_len', 'ct_srv_src', 'ct_state_ttl', 'ct_dst_ltm', 'ct_src_dport_ltm', 'ct_dst_sport_ltm', 'ct_dst_src_ltm', 'is_ftp_login', 'ct_ftp_cmd', 'ct_flw_http_mthd', 'ct_src_ltm', 'ct_srv_dst', 'is_sm_ips_ports', 'attack_cat', 'label']\n"
     ]
    }
   ],
   "source": [
    "print('The no of data points are:',unsw_df.shape[0])\n",
    "print('='*40)\n",
    "print('The no of features are:',unsw_df.shape[1])\n",
    "print('='*40)\n",
    "print('Some of the features are:',features)"
   ]
  },
  {
   "cell_type": "code",
   "execution_count": 28,
   "metadata": {
    "tags": []
   },
   "outputs": [],
   "source": [
    "output = unsw_df['attack_cat'].values\n",
    "labels = set(output)"
   ]
  },
  {
   "cell_type": "code",
   "execution_count": 29,
   "metadata": {
    "tags": []
   },
   "outputs": [
    {
     "name": "stdout",
     "output_type": "stream",
     "text": [
      "The different type of output labels are: {'Worms', 'Reconnaissance', 'Exploits', 'Fuzzers', 'DoS', 'Shellcode', 'Generic', 'Backdoor', 'Normal', 'Analysis'}\n",
      "====================================================================================================\n",
      "No. of different output labels are: 10\n"
     ]
    }
   ],
   "source": [
    "print('The different type of output labels are:',labels)\n",
    "print('='*100)\n",
    "print('No. of different output labels are:', len(labels))"
   ]
  },
  {
   "cell_type": "markdown",
   "metadata": {},
   "source": [
    "<h2> Data Cleaning:- </h2>"
   ]
  },
  {
   "cell_type": "markdown",
   "metadata": {},
   "source": [
    "<h6>Checking for NULL values:-</h6>"
   ]
  },
  {
   "cell_type": "code",
   "execution_count": 30,
   "metadata": {
    "tags": []
   },
   "outputs": [
    {
     "name": "stdout",
     "output_type": "stream",
     "text": [
      "Null values in the dataset are:  0\n"
     ]
    }
   ],
   "source": [
    "print('Null values in the dataset are: ',len(unsw_df[unsw_df.isnull().any(1)]))"
   ]
  },
  {
   "cell_type": "markdown",
   "metadata": {},
   "source": [
    "<h6>Checking for DUPLICATE values:-</h6>"
   ]
  },
  {
   "cell_type": "code",
   "execution_count": 31,
   "metadata": {
    "tags": []
   },
   "outputs": [],
   "source": [
    "duplicateRowsDF = unsw_df[unsw_df.duplicated()]"
   ]
  },
  {
   "cell_type": "code",
   "execution_count": 32,
   "metadata": {
    "tags": []
   },
   "outputs": [
    {
     "data": {
      "text/html": [
       "<div>\n",
       "<style scoped>\n",
       "    .dataframe tbody tr th:only-of-type {\n",
       "        vertical-align: middle;\n",
       "    }\n",
       "\n",
       "    .dataframe tbody tr th {\n",
       "        vertical-align: top;\n",
       "    }\n",
       "\n",
       "    .dataframe thead th {\n",
       "        text-align: right;\n",
       "    }\n",
       "</style>\n",
       "<table border=\"1\" class=\"dataframe\">\n",
       "  <thead>\n",
       "    <tr style=\"text-align: right;\">\n",
       "      <th></th>\n",
       "      <th>id</th>\n",
       "      <th>dur</th>\n",
       "      <th>proto</th>\n",
       "      <th>service</th>\n",
       "      <th>state</th>\n",
       "      <th>spkts</th>\n",
       "      <th>dpkts</th>\n",
       "      <th>sbytes</th>\n",
       "      <th>dbytes</th>\n",
       "      <th>rate</th>\n",
       "      <th>...</th>\n",
       "      <th>ct_dst_sport_ltm</th>\n",
       "      <th>ct_dst_src_ltm</th>\n",
       "      <th>is_ftp_login</th>\n",
       "      <th>ct_ftp_cmd</th>\n",
       "      <th>ct_flw_http_mthd</th>\n",
       "      <th>ct_src_ltm</th>\n",
       "      <th>ct_srv_dst</th>\n",
       "      <th>is_sm_ips_ports</th>\n",
       "      <th>attack_cat</th>\n",
       "      <th>label</th>\n",
       "    </tr>\n",
       "  </thead>\n",
       "  <tbody>\n",
       "  </tbody>\n",
       "</table>\n",
       "<p>0 rows × 45 columns</p>\n",
       "</div>"
      ],
      "text/plain": [
       "Empty DataFrame\n",
       "Columns: [id, dur, proto, service, state, spkts, dpkts, sbytes, dbytes, rate, sttl, dttl, sload, dload, sloss, dloss, sinpkt, dinpkt, sjit, djit, swin, stcpb, dtcpb, dwin, tcprtt, synack, ackdat, smean, dmean, trans_depth, response_body_len, ct_srv_src, ct_state_ttl, ct_dst_ltm, ct_src_dport_ltm, ct_dst_sport_ltm, ct_dst_src_ltm, is_ftp_login, ct_ftp_cmd, ct_flw_http_mthd, ct_src_ltm, ct_srv_dst, is_sm_ips_ports, attack_cat, label]\n",
       "Index: []\n",
       "\n",
       "[0 rows x 45 columns]"
      ]
     },
     "execution_count": 32,
     "metadata": {},
     "output_type": "execute_result"
    }
   ],
   "source": [
    "duplicateRowsDF.head(5)"
   ]
  },
  {
   "cell_type": "code",
   "execution_count": 33,
   "metadata": {
    "tags": []
   },
   "outputs": [
    {
     "data": {
      "text/plain": [
       "(82332, 45)"
      ]
     },
     "execution_count": 33,
     "metadata": {},
     "output_type": "execute_result"
    }
   ],
   "source": [
    "#data.drop_duplicates(subset=features, keep='first', inplace=True)\n",
    "unsw_df.shape"
   ]
  },
  {
   "cell_type": "code",
   "execution_count": 34,
   "metadata": {
    "tags": []
   },
   "outputs": [],
   "source": [
    "unsw_df.to_pickle('data.pkl')\n",
    "unsw_df = pd.read_pickle('data.pkl')"
   ]
  },
  {
   "cell_type": "markdown",
   "metadata": {},
   "source": [
    "<h5> Protocol_type:- </h5>"
   ]
  },
  {
   "cell_type": "code",
   "execution_count": 35,
   "metadata": {
    "tags": []
   },
   "outputs": [
    {
     "name": "stdout",
     "output_type": "stream",
     "text": [
      "Protocol types are: ['rvd', 'mhrp', 'idpr-cmtp', 'sps', 'mobile', 'stp', 'sdrp', 'iso-tp4', 'wb-mon', 'smp', 'pgm', 'zero', 'igp', 'st2', 'ip', 'larp', 'prm', 'ipnip', 'vrrp', 'ipip', 'sat-expak', 'sprite-rpc', 'trunk-2', 'nsfnet-igp', 'qnx', 'iatp', 'rdp', 'mux', 'idpr', 'ipv6-route', 'emcon', 'vmtp', 'ipv6-frag', 'iplt', 'swipe', 'argus', 'ifmp', 'trunk-1', 'ippc', 'sat-mon', 'tp++', 'wsn', 'dgp', 'chaos', 'cbt', 'leaf-1', 'ipv6', 'netblt', 'cftp', 'crtp', 'mfe-nsp', 'secure-vmtp', 'br-sat-mon', 'irtp', 'compaq-peer', 'fc', 'gre', 'cphb', 'il', 'uti', 'fire', 'sccopmce', 'ipx-n-ip', 'sep', 'skip', 'hmp', 'pri-enc', 'leaf-2', 'ib', 'isis', 'tcf', 'ax.25', 'ospf', 'ipv6-no', '3pc', 'pipe', 'ddp', 'sun-nd', 'gmtp', 'scps', 'ipv6-opts', 'pnni', 'sctp', 'vines', 'ipcv', 'srp', 'igmp', 'xnet', 'snp', 'crudp', 'xtp', 'encap', 'iso-ip', 'ttp', 'ggp', 'l2tp', 'cpnx', 'egp', 'rsvp', 'eigrp', 'xns-idp', 'pvp', 'merit-inp', 'etherip', 'mtp', 'a/n', 'sm', 'dcn', 'visa', 'pup', 'any', 'ptp', 'tlsp', 'aes-sp3-d', 'wb-expak', 'arp', 'narp', 'ipcomp', 'aris', 'bbn-rcc', 'udp', 'unas', 'micp', 'pim', 'kryptolan', 'tcp', 'nvp', 'idrp', 'i-nlsp', 'ddx', 'bna']\n"
     ]
    }
   ],
   "source": [
    "protocols = list(unsw_df['proto'].values)\n",
    "protocols = list(set(protocols))\n",
    "print('Protocol types are:', protocols)"
   ]
  },
  {
   "cell_type": "code",
   "execution_count": 36,
   "metadata": {
    "tags": []
   },
   "outputs": [
    {
     "data": {
      "text/plain": [
       "131"
      ]
     },
     "execution_count": 36,
     "metadata": {},
     "output_type": "execute_result"
    }
   ],
   "source": [
    "len(protocols)"
   ]
  },
  {
   "cell_type": "code",
   "execution_count": 37,
   "metadata": {
    "tags": []
   },
   "outputs": [
    {
     "name": "stdout",
     "output_type": "stream",
     "text": [
      "Service types are:\n",
      " ['-', 'dhcp', 'ssl', 'ftp', 'irc', 'pop3', 'dns', 'ssh', 'http', 'smtp', 'snmp', 'radius', 'ftp-data']\n"
     ]
    },
    {
     "data": {
      "text/plain": [
       "13"
      ]
     },
     "execution_count": 37,
     "metadata": {},
     "output_type": "execute_result"
    }
   ],
   "source": [
    "service_list = list(unsw_df['service'].values)\n",
    "service_list = list(set(service_list))\n",
    "print('Service types are:\\n', service_list)\n",
    "len(service_list)"
   ]
  },
  {
   "cell_type": "code",
   "execution_count": 38,
   "metadata": {
    "tags": []
   },
   "outputs": [
    {
     "name": "stdout",
     "output_type": "stream",
     "text": [
      "state types are: ['REQ', 'RST', 'FIN', 'INT', 'CLO', 'ACC', 'CON']\n"
     ]
    }
   ],
   "source": [
    "state_list = list(unsw_df['state'].values)\n",
    "state_list = list(set(state_list))\n",
    "print('state types are:', state_list)"
   ]
  },
  {
   "cell_type": "code",
   "execution_count": 39,
   "metadata": {
    "tags": []
   },
   "outputs": [],
   "source": [
    "#Helper functions to normalize proto, service and state"
   ]
  },
  {
   "cell_type": "code",
   "execution_count": 40,
   "metadata": {
    "tags": []
   },
   "outputs": [],
   "source": [
    "def protocs(proto):\n",
    " \n",
    "    if proto in protocols:\n",
    "        return protocols.index(proto)\n",
    "        \n",
    "unsw_df['protocol'] = unsw_df['proto'].apply(lambda proto: \n",
    "   protocs(proto=proto) \n",
    ")\n",
    "#drop the proto column\n",
    "unsw_df.drop(columns=['proto'],\n",
    "                   inplace=True)"
   ]
  },
  {
   "cell_type": "code",
   "execution_count": 41,
   "metadata": {
    "tags": []
   },
   "outputs": [],
   "source": [
    "def services(service):\n",
    " \n",
    "    if service in service_list:\n",
    "        return service_list.index(service)\n",
    "        \n",
    "unsw_df['sevices'] = unsw_df['service'].apply(lambda service: \n",
    "   services(service=service) \n",
    ")\n",
    "#drop the proto column\n",
    "unsw_df.drop(columns=['service'],\n",
    "                   inplace=True)"
   ]
  },
  {
   "cell_type": "code",
   "execution_count": 42,
   "metadata": {
    "tags": []
   },
   "outputs": [],
   "source": [
    "def states(state):\n",
    " \n",
    "    if state in state_list:\n",
    "        return state_list.index(state)\n",
    "        \n",
    "unsw_df['states'] = unsw_df['state'].apply(lambda state: \n",
    "   states(state=state) \n",
    ")\n",
    "#drop the proto column\n",
    "unsw_df.drop(columns=['state'],\n",
    "                   inplace=True)"
   ]
  },
  {
   "cell_type": "code",
   "execution_count": 43,
   "metadata": {
    "tags": []
   },
   "outputs": [
    {
     "data": {
      "text/html": [
       "<div>\n",
       "<style scoped>\n",
       "    .dataframe tbody tr th:only-of-type {\n",
       "        vertical-align: middle;\n",
       "    }\n",
       "\n",
       "    .dataframe tbody tr th {\n",
       "        vertical-align: top;\n",
       "    }\n",
       "\n",
       "    .dataframe thead th {\n",
       "        text-align: right;\n",
       "    }\n",
       "</style>\n",
       "<table border=\"1\" class=\"dataframe\">\n",
       "  <thead>\n",
       "    <tr style=\"text-align: right;\">\n",
       "      <th></th>\n",
       "      <th>id</th>\n",
       "      <th>dur</th>\n",
       "      <th>spkts</th>\n",
       "      <th>dpkts</th>\n",
       "      <th>sbytes</th>\n",
       "      <th>dbytes</th>\n",
       "      <th>rate</th>\n",
       "      <th>sttl</th>\n",
       "      <th>dttl</th>\n",
       "      <th>sload</th>\n",
       "      <th>...</th>\n",
       "      <th>ct_ftp_cmd</th>\n",
       "      <th>ct_flw_http_mthd</th>\n",
       "      <th>ct_src_ltm</th>\n",
       "      <th>ct_srv_dst</th>\n",
       "      <th>is_sm_ips_ports</th>\n",
       "      <th>attack_cat</th>\n",
       "      <th>label</th>\n",
       "      <th>protocol</th>\n",
       "      <th>sevices</th>\n",
       "      <th>states</th>\n",
       "    </tr>\n",
       "  </thead>\n",
       "  <tbody>\n",
       "    <tr>\n",
       "      <th>0</th>\n",
       "      <td>1</td>\n",
       "      <td>0.000011</td>\n",
       "      <td>2</td>\n",
       "      <td>0</td>\n",
       "      <td>496</td>\n",
       "      <td>0</td>\n",
       "      <td>90909.0902</td>\n",
       "      <td>254</td>\n",
       "      <td>0</td>\n",
       "      <td>180363632.0</td>\n",
       "      <td>...</td>\n",
       "      <td>0</td>\n",
       "      <td>0</td>\n",
       "      <td>1</td>\n",
       "      <td>2</td>\n",
       "      <td>0</td>\n",
       "      <td>Normal</td>\n",
       "      <td>0</td>\n",
       "      <td>120</td>\n",
       "      <td>0</td>\n",
       "      <td>3</td>\n",
       "    </tr>\n",
       "    <tr>\n",
       "      <th>1</th>\n",
       "      <td>2</td>\n",
       "      <td>0.000008</td>\n",
       "      <td>2</td>\n",
       "      <td>0</td>\n",
       "      <td>1762</td>\n",
       "      <td>0</td>\n",
       "      <td>125000.0003</td>\n",
       "      <td>254</td>\n",
       "      <td>0</td>\n",
       "      <td>881000000.0</td>\n",
       "      <td>...</td>\n",
       "      <td>0</td>\n",
       "      <td>0</td>\n",
       "      <td>1</td>\n",
       "      <td>2</td>\n",
       "      <td>0</td>\n",
       "      <td>Normal</td>\n",
       "      <td>0</td>\n",
       "      <td>120</td>\n",
       "      <td>0</td>\n",
       "      <td>3</td>\n",
       "    </tr>\n",
       "    <tr>\n",
       "      <th>2</th>\n",
       "      <td>3</td>\n",
       "      <td>0.000005</td>\n",
       "      <td>2</td>\n",
       "      <td>0</td>\n",
       "      <td>1068</td>\n",
       "      <td>0</td>\n",
       "      <td>200000.0051</td>\n",
       "      <td>254</td>\n",
       "      <td>0</td>\n",
       "      <td>854400000.0</td>\n",
       "      <td>...</td>\n",
       "      <td>0</td>\n",
       "      <td>0</td>\n",
       "      <td>1</td>\n",
       "      <td>3</td>\n",
       "      <td>0</td>\n",
       "      <td>Normal</td>\n",
       "      <td>0</td>\n",
       "      <td>120</td>\n",
       "      <td>0</td>\n",
       "      <td>3</td>\n",
       "    </tr>\n",
       "    <tr>\n",
       "      <th>3</th>\n",
       "      <td>4</td>\n",
       "      <td>0.000006</td>\n",
       "      <td>2</td>\n",
       "      <td>0</td>\n",
       "      <td>900</td>\n",
       "      <td>0</td>\n",
       "      <td>166666.6608</td>\n",
       "      <td>254</td>\n",
       "      <td>0</td>\n",
       "      <td>600000000.0</td>\n",
       "      <td>...</td>\n",
       "      <td>0</td>\n",
       "      <td>0</td>\n",
       "      <td>2</td>\n",
       "      <td>3</td>\n",
       "      <td>0</td>\n",
       "      <td>Normal</td>\n",
       "      <td>0</td>\n",
       "      <td>120</td>\n",
       "      <td>0</td>\n",
       "      <td>3</td>\n",
       "    </tr>\n",
       "    <tr>\n",
       "      <th>4</th>\n",
       "      <td>5</td>\n",
       "      <td>0.000010</td>\n",
       "      <td>2</td>\n",
       "      <td>0</td>\n",
       "      <td>2126</td>\n",
       "      <td>0</td>\n",
       "      <td>100000.0025</td>\n",
       "      <td>254</td>\n",
       "      <td>0</td>\n",
       "      <td>850400000.0</td>\n",
       "      <td>...</td>\n",
       "      <td>0</td>\n",
       "      <td>0</td>\n",
       "      <td>2</td>\n",
       "      <td>3</td>\n",
       "      <td>0</td>\n",
       "      <td>Normal</td>\n",
       "      <td>0</td>\n",
       "      <td>120</td>\n",
       "      <td>0</td>\n",
       "      <td>3</td>\n",
       "    </tr>\n",
       "  </tbody>\n",
       "</table>\n",
       "<p>5 rows × 45 columns</p>\n",
       "</div>"
      ],
      "text/plain": [
       "   id       dur  spkts  dpkts  sbytes  dbytes         rate  sttl  dttl  \\\n",
       "0   1  0.000011      2      0     496       0   90909.0902   254     0   \n",
       "1   2  0.000008      2      0    1762       0  125000.0003   254     0   \n",
       "2   3  0.000005      2      0    1068       0  200000.0051   254     0   \n",
       "3   4  0.000006      2      0     900       0  166666.6608   254     0   \n",
       "4   5  0.000010      2      0    2126       0  100000.0025   254     0   \n",
       "\n",
       "         sload  ...  ct_ftp_cmd  ct_flw_http_mthd  ct_src_ltm  ct_srv_dst  \\\n",
       "0  180363632.0  ...           0                 0           1           2   \n",
       "1  881000000.0  ...           0                 0           1           2   \n",
       "2  854400000.0  ...           0                 0           1           3   \n",
       "3  600000000.0  ...           0                 0           2           3   \n",
       "4  850400000.0  ...           0                 0           2           3   \n",
       "\n",
       "   is_sm_ips_ports  attack_cat  label  protocol  sevices  states  \n",
       "0                0      Normal      0       120        0       3  \n",
       "1                0      Normal      0       120        0       3  \n",
       "2                0      Normal      0       120        0       3  \n",
       "3                0      Normal      0       120        0       3  \n",
       "4                0      Normal      0       120        0       3  \n",
       "\n",
       "[5 rows x 45 columns]"
      ]
     },
     "execution_count": 43,
     "metadata": {},
     "output_type": "execute_result"
    }
   ],
   "source": [
    "unsw_df.head()"
   ]
  },
  {
   "cell_type": "code",
   "execution_count": 44,
   "metadata": {
    "tags": []
   },
   "outputs": [],
   "source": [
    "def reorder_columns(columns, first_cols=[], last_cols=[], drop_cols=[]):\n",
    "    columns = list(set(columns) - set(first_cols))\n",
    "    columns = list(set(columns) - set(drop_cols))\n",
    "    columns = list(set(columns) - set(last_cols))\n",
    "    new_order = first_cols + columns + last_cols\n",
    "    return new_order"
   ]
  },
  {
   "cell_type": "code",
   "execution_count": 45,
   "metadata": {},
   "outputs": [],
   "source": [
    "my_list = unsw_df.columns.tolist()\n",
    "reordered_cols = reorder_columns(my_list, first_cols=['attack_cat'], last_cols=['id'], drop_cols=[])\n",
    "unsw_df = unsw_df[reordered_cols]"
   ]
  },
  {
   "cell_type": "code",
   "execution_count": 46,
   "metadata": {
    "tags": []
   },
   "outputs": [
    {
     "data": {
      "text/html": [
       "<div>\n",
       "<style scoped>\n",
       "    .dataframe tbody tr th:only-of-type {\n",
       "        vertical-align: middle;\n",
       "    }\n",
       "\n",
       "    .dataframe tbody tr th {\n",
       "        vertical-align: top;\n",
       "    }\n",
       "\n",
       "    .dataframe thead th {\n",
       "        text-align: right;\n",
       "    }\n",
       "</style>\n",
       "<table border=\"1\" class=\"dataframe\">\n",
       "  <thead>\n",
       "    <tr style=\"text-align: right;\">\n",
       "      <th></th>\n",
       "      <th>attack_cat</th>\n",
       "      <th>ct_state_ttl</th>\n",
       "      <th>dbytes</th>\n",
       "      <th>protocol</th>\n",
       "      <th>tcprtt</th>\n",
       "      <th>dtcpb</th>\n",
       "      <th>sloss</th>\n",
       "      <th>sevices</th>\n",
       "      <th>sjit</th>\n",
       "      <th>states</th>\n",
       "      <th>...</th>\n",
       "      <th>ct_src_ltm</th>\n",
       "      <th>ct_src_dport_ltm</th>\n",
       "      <th>ct_ftp_cmd</th>\n",
       "      <th>dpkts</th>\n",
       "      <th>sinpkt</th>\n",
       "      <th>synack</th>\n",
       "      <th>ackdat</th>\n",
       "      <th>smean</th>\n",
       "      <th>ct_srv_src</th>\n",
       "      <th>id</th>\n",
       "    </tr>\n",
       "  </thead>\n",
       "  <tbody>\n",
       "    <tr>\n",
       "      <th>0</th>\n",
       "      <td>Normal</td>\n",
       "      <td>2</td>\n",
       "      <td>0</td>\n",
       "      <td>120</td>\n",
       "      <td>0.0</td>\n",
       "      <td>0</td>\n",
       "      <td>0</td>\n",
       "      <td>0</td>\n",
       "      <td>0.0</td>\n",
       "      <td>3</td>\n",
       "      <td>...</td>\n",
       "      <td>1</td>\n",
       "      <td>1</td>\n",
       "      <td>0</td>\n",
       "      <td>0</td>\n",
       "      <td>0.011</td>\n",
       "      <td>0.0</td>\n",
       "      <td>0.0</td>\n",
       "      <td>248</td>\n",
       "      <td>2</td>\n",
       "      <td>1</td>\n",
       "    </tr>\n",
       "    <tr>\n",
       "      <th>1</th>\n",
       "      <td>Normal</td>\n",
       "      <td>2</td>\n",
       "      <td>0</td>\n",
       "      <td>120</td>\n",
       "      <td>0.0</td>\n",
       "      <td>0</td>\n",
       "      <td>0</td>\n",
       "      <td>0</td>\n",
       "      <td>0.0</td>\n",
       "      <td>3</td>\n",
       "      <td>...</td>\n",
       "      <td>1</td>\n",
       "      <td>1</td>\n",
       "      <td>0</td>\n",
       "      <td>0</td>\n",
       "      <td>0.008</td>\n",
       "      <td>0.0</td>\n",
       "      <td>0.0</td>\n",
       "      <td>881</td>\n",
       "      <td>2</td>\n",
       "      <td>2</td>\n",
       "    </tr>\n",
       "    <tr>\n",
       "      <th>2</th>\n",
       "      <td>Normal</td>\n",
       "      <td>2</td>\n",
       "      <td>0</td>\n",
       "      <td>120</td>\n",
       "      <td>0.0</td>\n",
       "      <td>0</td>\n",
       "      <td>0</td>\n",
       "      <td>0</td>\n",
       "      <td>0.0</td>\n",
       "      <td>3</td>\n",
       "      <td>...</td>\n",
       "      <td>1</td>\n",
       "      <td>1</td>\n",
       "      <td>0</td>\n",
       "      <td>0</td>\n",
       "      <td>0.005</td>\n",
       "      <td>0.0</td>\n",
       "      <td>0.0</td>\n",
       "      <td>534</td>\n",
       "      <td>3</td>\n",
       "      <td>3</td>\n",
       "    </tr>\n",
       "    <tr>\n",
       "      <th>3</th>\n",
       "      <td>Normal</td>\n",
       "      <td>2</td>\n",
       "      <td>0</td>\n",
       "      <td>120</td>\n",
       "      <td>0.0</td>\n",
       "      <td>0</td>\n",
       "      <td>0</td>\n",
       "      <td>0</td>\n",
       "      <td>0.0</td>\n",
       "      <td>3</td>\n",
       "      <td>...</td>\n",
       "      <td>2</td>\n",
       "      <td>2</td>\n",
       "      <td>0</td>\n",
       "      <td>0</td>\n",
       "      <td>0.006</td>\n",
       "      <td>0.0</td>\n",
       "      <td>0.0</td>\n",
       "      <td>450</td>\n",
       "      <td>3</td>\n",
       "      <td>4</td>\n",
       "    </tr>\n",
       "    <tr>\n",
       "      <th>4</th>\n",
       "      <td>Normal</td>\n",
       "      <td>2</td>\n",
       "      <td>0</td>\n",
       "      <td>120</td>\n",
       "      <td>0.0</td>\n",
       "      <td>0</td>\n",
       "      <td>0</td>\n",
       "      <td>0</td>\n",
       "      <td>0.0</td>\n",
       "      <td>3</td>\n",
       "      <td>...</td>\n",
       "      <td>2</td>\n",
       "      <td>2</td>\n",
       "      <td>0</td>\n",
       "      <td>0</td>\n",
       "      <td>0.010</td>\n",
       "      <td>0.0</td>\n",
       "      <td>0.0</td>\n",
       "      <td>1063</td>\n",
       "      <td>3</td>\n",
       "      <td>5</td>\n",
       "    </tr>\n",
       "  </tbody>\n",
       "</table>\n",
       "<p>5 rows × 45 columns</p>\n",
       "</div>"
      ],
      "text/plain": [
       "  attack_cat  ct_state_ttl  dbytes  protocol  tcprtt  dtcpb  sloss  sevices  \\\n",
       "0     Normal             2       0       120     0.0      0      0        0   \n",
       "1     Normal             2       0       120     0.0      0      0        0   \n",
       "2     Normal             2       0       120     0.0      0      0        0   \n",
       "3     Normal             2       0       120     0.0      0      0        0   \n",
       "4     Normal             2       0       120     0.0      0      0        0   \n",
       "\n",
       "   sjit  states  ...  ct_src_ltm  ct_src_dport_ltm  ct_ftp_cmd  dpkts  sinpkt  \\\n",
       "0   0.0       3  ...           1                 1           0      0   0.011   \n",
       "1   0.0       3  ...           1                 1           0      0   0.008   \n",
       "2   0.0       3  ...           1                 1           0      0   0.005   \n",
       "3   0.0       3  ...           2                 2           0      0   0.006   \n",
       "4   0.0       3  ...           2                 2           0      0   0.010   \n",
       "\n",
       "   synack  ackdat  smean  ct_srv_src  id  \n",
       "0     0.0     0.0    248           2   1  \n",
       "1     0.0     0.0    881           2   2  \n",
       "2     0.0     0.0    534           3   3  \n",
       "3     0.0     0.0    450           3   4  \n",
       "4     0.0     0.0   1063           3   5  \n",
       "\n",
       "[5 rows x 45 columns]"
      ]
     },
     "execution_count": 46,
     "metadata": {},
     "output_type": "execute_result"
    }
   ],
   "source": [
    "unsw_df.head()"
   ]
  },
  {
   "cell_type": "code",
   "execution_count": null,
   "metadata": {},
   "outputs": [],
   "source": []
  },
  {
   "cell_type": "code",
   "execution_count": 47,
   "metadata": {
    "tags": []
   },
   "outputs": [],
   "source": [
    "cic_features = list(Cic_df_training)"
   ]
  },
  {
   "cell_type": "code",
   "execution_count": 48,
   "metadata": {
    "tags": []
   },
   "outputs": [
    {
     "data": {
      "text/plain": [
       "['Label',\n",
       " 'Flow Bytes/s',\n",
       " 'Packet Length Max',\n",
       " 'Active Max',\n",
       " 'Init Bwd Win Bytes',\n",
       " 'FIN Flag Count',\n",
       " 'Idle Mean',\n",
       " 'Flow Duration',\n",
       " 'Bwd Packets Length Total',\n",
       " 'Down/Up Ratio',\n",
       " 'Subflow Fwd Packets',\n",
       " 'Bwd Avg Bytes/Bulk',\n",
       " 'Flow IAT Std',\n",
       " 'Packet Length Std',\n",
       " 'Avg Bwd Segment Size',\n",
       " 'SimillarHTTP',\n",
       " 'Bwd Packet Length Max',\n",
       " 'CWE Flag Count',\n",
       " 'PSH Flag Count',\n",
       " 'Idle Std',\n",
       " 'Fwd Act Data Packets',\n",
       " 'Avg Packet Size',\n",
       " 'Bwd Packet Length Min',\n",
       " 'Fwd PSH Flags',\n",
       " 'Flow IAT Mean',\n",
       " 'Bwd IAT Total',\n",
       " 'Bwd IAT Mean',\n",
       " 'RST Flag Count',\n",
       " 'Packet Length Min',\n",
       " 'Subflow Fwd Bytes',\n",
       " 'Bwd Avg Packets/Bulk',\n",
       " 'Fwd Seg Size Min',\n",
       " 'Fwd Avg Bulk Rate',\n",
       " 'Fwd Avg Bytes/Bulk',\n",
       " 'Fwd Packet Length Min',\n",
       " 'Flow Packets/s',\n",
       " 'Bwd IAT Min',\n",
       " 'Packet Length Variance',\n",
       " 'Total Fwd Packets',\n",
       " 'Fwd Packet Length Max',\n",
       " 'Fwd Avg Packets/Bulk',\n",
       " 'Fwd Packet Length Std',\n",
       " 'Fwd Header Length',\n",
       " 'SYN Flag Count',\n",
       " 'Total Backward Packets',\n",
       " 'Bwd Header Length',\n",
       " 'Flow IAT Max',\n",
       " 'Bwd Avg Bulk Rate',\n",
       " 'Fwd IAT Min',\n",
       " 'Bwd Packets/s',\n",
       " 'Flow IAT Min',\n",
       " 'Fwd Packet Length Mean',\n",
       " 'Avg Fwd Segment Size',\n",
       " 'Init Fwd Win Bytes',\n",
       " 'Fwd Packets Length Total',\n",
       " 'Bwd Packet Length Mean',\n",
       " 'Protocol']"
      ]
     },
     "execution_count": 48,
     "metadata": {},
     "output_type": "execute_result"
    }
   ],
   "source": [
    "cic_features"
   ]
  },
  {
   "cell_type": "code",
   "execution_count": 49,
   "metadata": {
    "tags": []
   },
   "outputs": [],
   "source": [
    "unsw_df.rename(columns = {'dur':'Flow Duration'}, inplace = True)"
   ]
  },
  {
   "cell_type": "code",
   "execution_count": 50,
   "metadata": {
    "tags": []
   },
   "outputs": [],
   "source": [
    "from functools import reduce"
   ]
  },
  {
   "cell_type": "code",
   "execution_count": 51,
   "metadata": {
    "tags": []
   },
   "outputs": [],
   "source": [
    "merged_df = reduce(lambda l,r: l.merge(r, on=['Flow Duration'], how='outer', suffixes=['_COPYL', '_COPYR']), [Cic_df_training, unsw_df])"
   ]
  },
  {
   "cell_type": "code",
   "execution_count": 52,
   "metadata": {
    "tags": []
   },
   "outputs": [
    {
     "data": {
      "text/html": [
       "<div>\n",
       "<style scoped>\n",
       "    .dataframe tbody tr th:only-of-type {\n",
       "        vertical-align: middle;\n",
       "    }\n",
       "\n",
       "    .dataframe tbody tr th {\n",
       "        vertical-align: top;\n",
       "    }\n",
       "\n",
       "    .dataframe thead th {\n",
       "        text-align: right;\n",
       "    }\n",
       "</style>\n",
       "<table border=\"1\" class=\"dataframe\">\n",
       "  <thead>\n",
       "    <tr style=\"text-align: right;\">\n",
       "      <th></th>\n",
       "      <th>Label</th>\n",
       "      <th>Flow Bytes/s</th>\n",
       "      <th>Packet Length Max</th>\n",
       "      <th>Active Max</th>\n",
       "      <th>Init Bwd Win Bytes</th>\n",
       "      <th>FIN Flag Count</th>\n",
       "      <th>Idle Mean</th>\n",
       "      <th>Flow Duration</th>\n",
       "      <th>Bwd Packets Length Total</th>\n",
       "      <th>Down/Up Ratio</th>\n",
       "      <th>...</th>\n",
       "      <th>ct_src_ltm</th>\n",
       "      <th>ct_src_dport_ltm</th>\n",
       "      <th>ct_ftp_cmd</th>\n",
       "      <th>dpkts</th>\n",
       "      <th>sinpkt</th>\n",
       "      <th>synack</th>\n",
       "      <th>ackdat</th>\n",
       "      <th>smean</th>\n",
       "      <th>ct_srv_src</th>\n",
       "      <th>id</th>\n",
       "    </tr>\n",
       "  </thead>\n",
       "  <tbody>\n",
       "    <tr>\n",
       "      <th>0</th>\n",
       "      <td>UDP</td>\n",
       "      <td>401000000.0</td>\n",
       "      <td>401.0</td>\n",
       "      <td>0.0</td>\n",
       "      <td>-1.0</td>\n",
       "      <td>0.0</td>\n",
       "      <td>0.0</td>\n",
       "      <td>2.0</td>\n",
       "      <td>0.0</td>\n",
       "      <td>0.0</td>\n",
       "      <td>...</td>\n",
       "      <td>NaN</td>\n",
       "      <td>NaN</td>\n",
       "      <td>NaN</td>\n",
       "      <td>NaN</td>\n",
       "      <td>NaN</td>\n",
       "      <td>NaN</td>\n",
       "      <td>NaN</td>\n",
       "      <td>NaN</td>\n",
       "      <td>NaN</td>\n",
       "      <td>NaN</td>\n",
       "    </tr>\n",
       "    <tr>\n",
       "      <th>1</th>\n",
       "      <td>Syn</td>\n",
       "      <td>6000000.0</td>\n",
       "      <td>6.0</td>\n",
       "      <td>0.0</td>\n",
       "      <td>-1.0</td>\n",
       "      <td>0.0</td>\n",
       "      <td>0.0</td>\n",
       "      <td>2.0</td>\n",
       "      <td>0.0</td>\n",
       "      <td>0.0</td>\n",
       "      <td>...</td>\n",
       "      <td>NaN</td>\n",
       "      <td>NaN</td>\n",
       "      <td>NaN</td>\n",
       "      <td>NaN</td>\n",
       "      <td>NaN</td>\n",
       "      <td>NaN</td>\n",
       "      <td>NaN</td>\n",
       "      <td>NaN</td>\n",
       "      <td>NaN</td>\n",
       "      <td>NaN</td>\n",
       "    </tr>\n",
       "    <tr>\n",
       "      <th>2</th>\n",
       "      <td>UDP</td>\n",
       "      <td>401000000.0</td>\n",
       "      <td>401.0</td>\n",
       "      <td>0.0</td>\n",
       "      <td>-1.0</td>\n",
       "      <td>0.0</td>\n",
       "      <td>0.0</td>\n",
       "      <td>2.0</td>\n",
       "      <td>0.0</td>\n",
       "      <td>0.0</td>\n",
       "      <td>...</td>\n",
       "      <td>NaN</td>\n",
       "      <td>NaN</td>\n",
       "      <td>NaN</td>\n",
       "      <td>NaN</td>\n",
       "      <td>NaN</td>\n",
       "      <td>NaN</td>\n",
       "      <td>NaN</td>\n",
       "      <td>NaN</td>\n",
       "      <td>NaN</td>\n",
       "      <td>NaN</td>\n",
       "    </tr>\n",
       "    <tr>\n",
       "      <th>3</th>\n",
       "      <td>UDP</td>\n",
       "      <td>401000000.0</td>\n",
       "      <td>401.0</td>\n",
       "      <td>0.0</td>\n",
       "      <td>-1.0</td>\n",
       "      <td>0.0</td>\n",
       "      <td>0.0</td>\n",
       "      <td>2.0</td>\n",
       "      <td>0.0</td>\n",
       "      <td>0.0</td>\n",
       "      <td>...</td>\n",
       "      <td>NaN</td>\n",
       "      <td>NaN</td>\n",
       "      <td>NaN</td>\n",
       "      <td>NaN</td>\n",
       "      <td>NaN</td>\n",
       "      <td>NaN</td>\n",
       "      <td>NaN</td>\n",
       "      <td>NaN</td>\n",
       "      <td>NaN</td>\n",
       "      <td>NaN</td>\n",
       "    </tr>\n",
       "    <tr>\n",
       "      <th>4</th>\n",
       "      <td>UDP</td>\n",
       "      <td>383000000.0</td>\n",
       "      <td>383.0</td>\n",
       "      <td>0.0</td>\n",
       "      <td>-1.0</td>\n",
       "      <td>0.0</td>\n",
       "      <td>0.0</td>\n",
       "      <td>2.0</td>\n",
       "      <td>0.0</td>\n",
       "      <td>0.0</td>\n",
       "      <td>...</td>\n",
       "      <td>NaN</td>\n",
       "      <td>NaN</td>\n",
       "      <td>NaN</td>\n",
       "      <td>NaN</td>\n",
       "      <td>NaN</td>\n",
       "      <td>NaN</td>\n",
       "      <td>NaN</td>\n",
       "      <td>NaN</td>\n",
       "      <td>NaN</td>\n",
       "      <td>NaN</td>\n",
       "    </tr>\n",
       "  </tbody>\n",
       "</table>\n",
       "<p>5 rows × 101 columns</p>\n",
       "</div>"
      ],
      "text/plain": [
       "  Label  Flow Bytes/s  Packet Length Max  Active Max  Init Bwd Win Bytes  \\\n",
       "0   UDP   401000000.0              401.0         0.0                -1.0   \n",
       "1   Syn     6000000.0                6.0         0.0                -1.0   \n",
       "2   UDP   401000000.0              401.0         0.0                -1.0   \n",
       "3   UDP   401000000.0              401.0         0.0                -1.0   \n",
       "4   UDP   383000000.0              383.0         0.0                -1.0   \n",
       "\n",
       "   FIN Flag Count  Idle Mean  Flow Duration  Bwd Packets Length Total  \\\n",
       "0             0.0        0.0            2.0                       0.0   \n",
       "1             0.0        0.0            2.0                       0.0   \n",
       "2             0.0        0.0            2.0                       0.0   \n",
       "3             0.0        0.0            2.0                       0.0   \n",
       "4             0.0        0.0            2.0                       0.0   \n",
       "\n",
       "   Down/Up Ratio  ...  ct_src_ltm  ct_src_dport_ltm  ct_ftp_cmd  dpkts  \\\n",
       "0            0.0  ...         NaN               NaN         NaN    NaN   \n",
       "1            0.0  ...         NaN               NaN         NaN    NaN   \n",
       "2            0.0  ...         NaN               NaN         NaN    NaN   \n",
       "3            0.0  ...         NaN               NaN         NaN    NaN   \n",
       "4            0.0  ...         NaN               NaN         NaN    NaN   \n",
       "\n",
       "   sinpkt synack  ackdat  smean  ct_srv_src  id  \n",
       "0     NaN    NaN     NaN    NaN         NaN NaN  \n",
       "1     NaN    NaN     NaN    NaN         NaN NaN  \n",
       "2     NaN    NaN     NaN    NaN         NaN NaN  \n",
       "3     NaN    NaN     NaN    NaN         NaN NaN  \n",
       "4     NaN    NaN     NaN    NaN         NaN NaN  \n",
       "\n",
       "[5 rows x 101 columns]"
      ]
     },
     "execution_count": 52,
     "metadata": {},
     "output_type": "execute_result"
    }
   ],
   "source": [
    "merged_df.head()"
   ]
  },
  {
   "cell_type": "code",
   "execution_count": 53,
   "metadata": {
    "tags": []
   },
   "outputs": [],
   "source": [
    "y1 = merged_df['Label']\n",
    "y2= merged_df['attack_cat']"
   ]
  },
  {
   "cell_type": "code",
   "execution_count": 54,
   "metadata": {
    "tags": []
   },
   "outputs": [],
   "source": [
    "y=pd.concat([y1, y2])"
   ]
  },
  {
   "cell_type": "code",
   "execution_count": 55,
   "metadata": {
    "tags": []
   },
   "outputs": [
    {
     "data": {
      "text/plain": [
       "0            UDP\n",
       "1            Syn\n",
       "2            UDP\n",
       "3            UDP\n",
       "4            UDP\n",
       "           ...  \n",
       "210399    Normal\n",
       "210400    Normal\n",
       "210401    Normal\n",
       "210402    Normal\n",
       "210403    Normal\n",
       "Length: 420808, dtype: object"
      ]
     },
     "execution_count": 55,
     "metadata": {},
     "output_type": "execute_result"
    }
   ],
   "source": [
    "y"
   ]
  },
  {
   "cell_type": "code",
   "execution_count": 56,
   "metadata": {
    "tags": []
   },
   "outputs": [],
   "source": [
    "x = merged_df.drop(['Label', 'attack_cat'], inplace = True, axis = 1)"
   ]
  },
  {
   "cell_type": "code",
   "execution_count": 57,
   "metadata": {
    "tags": []
   },
   "outputs": [
    {
     "data": {
      "text/html": [
       "<div>\n",
       "<style scoped>\n",
       "    .dataframe tbody tr th:only-of-type {\n",
       "        vertical-align: middle;\n",
       "    }\n",
       "\n",
       "    .dataframe tbody tr th {\n",
       "        vertical-align: top;\n",
       "    }\n",
       "\n",
       "    .dataframe thead th {\n",
       "        text-align: right;\n",
       "    }\n",
       "</style>\n",
       "<table border=\"1\" class=\"dataframe\">\n",
       "  <thead>\n",
       "    <tr style=\"text-align: right;\">\n",
       "      <th></th>\n",
       "      <th>Flow Bytes/s</th>\n",
       "      <th>Packet Length Max</th>\n",
       "      <th>Active Max</th>\n",
       "      <th>Init Bwd Win Bytes</th>\n",
       "      <th>FIN Flag Count</th>\n",
       "      <th>Idle Mean</th>\n",
       "      <th>Flow Duration</th>\n",
       "      <th>Bwd Packets Length Total</th>\n",
       "      <th>Down/Up Ratio</th>\n",
       "      <th>Subflow Fwd Packets</th>\n",
       "      <th>...</th>\n",
       "      <th>ct_src_ltm</th>\n",
       "      <th>ct_src_dport_ltm</th>\n",
       "      <th>ct_ftp_cmd</th>\n",
       "      <th>dpkts</th>\n",
       "      <th>sinpkt</th>\n",
       "      <th>synack</th>\n",
       "      <th>ackdat</th>\n",
       "      <th>smean</th>\n",
       "      <th>ct_srv_src</th>\n",
       "      <th>id</th>\n",
       "    </tr>\n",
       "  </thead>\n",
       "  <tbody>\n",
       "    <tr>\n",
       "      <th>0</th>\n",
       "      <td>401000000.0</td>\n",
       "      <td>401.0</td>\n",
       "      <td>0.0</td>\n",
       "      <td>-1.0</td>\n",
       "      <td>0.0</td>\n",
       "      <td>0.0</td>\n",
       "      <td>2.0</td>\n",
       "      <td>0.0</td>\n",
       "      <td>0.0</td>\n",
       "      <td>2.0</td>\n",
       "      <td>...</td>\n",
       "      <td>NaN</td>\n",
       "      <td>NaN</td>\n",
       "      <td>NaN</td>\n",
       "      <td>NaN</td>\n",
       "      <td>NaN</td>\n",
       "      <td>NaN</td>\n",
       "      <td>NaN</td>\n",
       "      <td>NaN</td>\n",
       "      <td>NaN</td>\n",
       "      <td>NaN</td>\n",
       "    </tr>\n",
       "    <tr>\n",
       "      <th>1</th>\n",
       "      <td>6000000.0</td>\n",
       "      <td>6.0</td>\n",
       "      <td>0.0</td>\n",
       "      <td>-1.0</td>\n",
       "      <td>0.0</td>\n",
       "      <td>0.0</td>\n",
       "      <td>2.0</td>\n",
       "      <td>0.0</td>\n",
       "      <td>0.0</td>\n",
       "      <td>2.0</td>\n",
       "      <td>...</td>\n",
       "      <td>NaN</td>\n",
       "      <td>NaN</td>\n",
       "      <td>NaN</td>\n",
       "      <td>NaN</td>\n",
       "      <td>NaN</td>\n",
       "      <td>NaN</td>\n",
       "      <td>NaN</td>\n",
       "      <td>NaN</td>\n",
       "      <td>NaN</td>\n",
       "      <td>NaN</td>\n",
       "    </tr>\n",
       "    <tr>\n",
       "      <th>2</th>\n",
       "      <td>401000000.0</td>\n",
       "      <td>401.0</td>\n",
       "      <td>0.0</td>\n",
       "      <td>-1.0</td>\n",
       "      <td>0.0</td>\n",
       "      <td>0.0</td>\n",
       "      <td>2.0</td>\n",
       "      <td>0.0</td>\n",
       "      <td>0.0</td>\n",
       "      <td>2.0</td>\n",
       "      <td>...</td>\n",
       "      <td>NaN</td>\n",
       "      <td>NaN</td>\n",
       "      <td>NaN</td>\n",
       "      <td>NaN</td>\n",
       "      <td>NaN</td>\n",
       "      <td>NaN</td>\n",
       "      <td>NaN</td>\n",
       "      <td>NaN</td>\n",
       "      <td>NaN</td>\n",
       "      <td>NaN</td>\n",
       "    </tr>\n",
       "    <tr>\n",
       "      <th>3</th>\n",
       "      <td>401000000.0</td>\n",
       "      <td>401.0</td>\n",
       "      <td>0.0</td>\n",
       "      <td>-1.0</td>\n",
       "      <td>0.0</td>\n",
       "      <td>0.0</td>\n",
       "      <td>2.0</td>\n",
       "      <td>0.0</td>\n",
       "      <td>0.0</td>\n",
       "      <td>2.0</td>\n",
       "      <td>...</td>\n",
       "      <td>NaN</td>\n",
       "      <td>NaN</td>\n",
       "      <td>NaN</td>\n",
       "      <td>NaN</td>\n",
       "      <td>NaN</td>\n",
       "      <td>NaN</td>\n",
       "      <td>NaN</td>\n",
       "      <td>NaN</td>\n",
       "      <td>NaN</td>\n",
       "      <td>NaN</td>\n",
       "    </tr>\n",
       "    <tr>\n",
       "      <th>4</th>\n",
       "      <td>383000000.0</td>\n",
       "      <td>383.0</td>\n",
       "      <td>0.0</td>\n",
       "      <td>-1.0</td>\n",
       "      <td>0.0</td>\n",
       "      <td>0.0</td>\n",
       "      <td>2.0</td>\n",
       "      <td>0.0</td>\n",
       "      <td>0.0</td>\n",
       "      <td>2.0</td>\n",
       "      <td>...</td>\n",
       "      <td>NaN</td>\n",
       "      <td>NaN</td>\n",
       "      <td>NaN</td>\n",
       "      <td>NaN</td>\n",
       "      <td>NaN</td>\n",
       "      <td>NaN</td>\n",
       "      <td>NaN</td>\n",
       "      <td>NaN</td>\n",
       "      <td>NaN</td>\n",
       "      <td>NaN</td>\n",
       "    </tr>\n",
       "  </tbody>\n",
       "</table>\n",
       "<p>5 rows × 99 columns</p>\n",
       "</div>"
      ],
      "text/plain": [
       "   Flow Bytes/s  Packet Length Max  Active Max  Init Bwd Win Bytes  \\\n",
       "0   401000000.0              401.0         0.0                -1.0   \n",
       "1     6000000.0                6.0         0.0                -1.0   \n",
       "2   401000000.0              401.0         0.0                -1.0   \n",
       "3   401000000.0              401.0         0.0                -1.0   \n",
       "4   383000000.0              383.0         0.0                -1.0   \n",
       "\n",
       "   FIN Flag Count  Idle Mean  Flow Duration  Bwd Packets Length Total  \\\n",
       "0             0.0        0.0            2.0                       0.0   \n",
       "1             0.0        0.0            2.0                       0.0   \n",
       "2             0.0        0.0            2.0                       0.0   \n",
       "3             0.0        0.0            2.0                       0.0   \n",
       "4             0.0        0.0            2.0                       0.0   \n",
       "\n",
       "   Down/Up Ratio  Subflow Fwd Packets  ...  ct_src_ltm  ct_src_dport_ltm  \\\n",
       "0            0.0                  2.0  ...         NaN               NaN   \n",
       "1            0.0                  2.0  ...         NaN               NaN   \n",
       "2            0.0                  2.0  ...         NaN               NaN   \n",
       "3            0.0                  2.0  ...         NaN               NaN   \n",
       "4            0.0                  2.0  ...         NaN               NaN   \n",
       "\n",
       "   ct_ftp_cmd  dpkts sinpkt  synack  ackdat  smean  ct_srv_src  id  \n",
       "0         NaN    NaN    NaN     NaN     NaN    NaN         NaN NaN  \n",
       "1         NaN    NaN    NaN     NaN     NaN    NaN         NaN NaN  \n",
       "2         NaN    NaN    NaN     NaN     NaN    NaN         NaN NaN  \n",
       "3         NaN    NaN    NaN     NaN     NaN    NaN         NaN NaN  \n",
       "4         NaN    NaN    NaN     NaN     NaN    NaN         NaN NaN  \n",
       "\n",
       "[5 rows x 99 columns]"
      ]
     },
     "execution_count": 57,
     "metadata": {},
     "output_type": "execute_result"
    }
   ],
   "source": [
    "merged_df.head()"
   ]
  },
  {
   "cell_type": "code",
   "execution_count": 58,
   "metadata": {
    "tags": []
   },
   "outputs": [],
   "source": [
    "check_list2=merged_df.isnull().sum()"
   ]
  },
  {
   "cell_type": "code",
   "execution_count": 59,
   "metadata": {
    "tags": []
   },
   "outputs": [],
   "source": [
    "check_list2.to_csv('nulls_merged_df.csv')"
   ]
  },
  {
   "cell_type": "code",
   "execution_count": 60,
   "metadata": {
    "tags": []
   },
   "outputs": [
    {
     "data": {
      "text/plain": [
       "[OrderedDict([('', 'Flow Bytes/s'), ('0', '82332')]),\n",
       " OrderedDict([('', 'Packet Length Max'), ('0', '82332')]),\n",
       " OrderedDict([('', 'Active Max'), ('0', '82332')]),\n",
       " OrderedDict([('', 'Init Bwd Win Bytes'), ('0', '82332')]),\n",
       " OrderedDict([('', 'FIN Flag Count'), ('0', '82332')]),\n",
       " OrderedDict([('', 'Idle Mean'), ('0', '82332')]),\n",
       " OrderedDict([('', 'Flow Duration'), ('0', '0')]),\n",
       " OrderedDict([('', 'Bwd Packets Length Total'), ('0', '82332')]),\n",
       " OrderedDict([('', 'Down/Up Ratio'), ('0', '82332')]),\n",
       " OrderedDict([('', 'Subflow Fwd Packets'), ('0', '82332')]),\n",
       " OrderedDict([('', 'Bwd Avg Bytes/Bulk'), ('0', '82332')]),\n",
       " OrderedDict([('', 'Flow IAT Std'), ('0', '82332')]),\n",
       " OrderedDict([('', 'Packet Length Std'), ('0', '82332')]),\n",
       " OrderedDict([('', 'Avg Bwd Segment Size'), ('0', '82332')]),\n",
       " OrderedDict([('', 'SimillarHTTP'), ('0', '82332')]),\n",
       " OrderedDict([('', 'Bwd Packet Length Max'), ('0', '82332')]),\n",
       " OrderedDict([('', 'CWE Flag Count'), ('0', '82332')]),\n",
       " OrderedDict([('', 'PSH Flag Count'), ('0', '82332')]),\n",
       " OrderedDict([('', 'Idle Std'), ('0', '82332')]),\n",
       " OrderedDict([('', 'Fwd Act Data Packets'), ('0', '82332')]),\n",
       " OrderedDict([('', 'Avg Packet Size'), ('0', '82332')]),\n",
       " OrderedDict([('', 'Bwd Packet Length Min'), ('0', '82332')]),\n",
       " OrderedDict([('', 'Fwd PSH Flags'), ('0', '82332')]),\n",
       " OrderedDict([('', 'Flow IAT Mean'), ('0', '82332')]),\n",
       " OrderedDict([('', 'Bwd IAT Total'), ('0', '82332')]),\n",
       " OrderedDict([('', 'Bwd IAT Mean'), ('0', '82332')]),\n",
       " OrderedDict([('', 'RST Flag Count'), ('0', '82332')]),\n",
       " OrderedDict([('', 'Packet Length Min'), ('0', '82332')]),\n",
       " OrderedDict([('', 'Subflow Fwd Bytes'), ('0', '82332')]),\n",
       " OrderedDict([('', 'Bwd Avg Packets/Bulk'), ('0', '82332')]),\n",
       " OrderedDict([('', 'Fwd Seg Size Min'), ('0', '82332')]),\n",
       " OrderedDict([('', 'Fwd Avg Bulk Rate'), ('0', '82332')]),\n",
       " OrderedDict([('', 'Fwd Avg Bytes/Bulk'), ('0', '82332')]),\n",
       " OrderedDict([('', 'Fwd Packet Length Min'), ('0', '82332')]),\n",
       " OrderedDict([('', 'Flow Packets/s'), ('0', '82332')]),\n",
       " OrderedDict([('', 'Bwd IAT Min'), ('0', '82332')]),\n",
       " OrderedDict([('', 'Packet Length Variance'), ('0', '82332')]),\n",
       " OrderedDict([('', 'Total Fwd Packets'), ('0', '82332')]),\n",
       " OrderedDict([('', 'Fwd Packet Length Max'), ('0', '82332')]),\n",
       " OrderedDict([('', 'Fwd Avg Packets/Bulk'), ('0', '82332')]),\n",
       " OrderedDict([('', 'Fwd Packet Length Std'), ('0', '82332')]),\n",
       " OrderedDict([('', 'Fwd Header Length'), ('0', '82332')]),\n",
       " OrderedDict([('', 'SYN Flag Count'), ('0', '82332')]),\n",
       " OrderedDict([('', 'Total Backward Packets'), ('0', '82332')]),\n",
       " OrderedDict([('', 'Bwd Header Length'), ('0', '82332')]),\n",
       " OrderedDict([('', 'Flow IAT Max'), ('0', '82332')]),\n",
       " OrderedDict([('', 'Bwd Avg Bulk Rate'), ('0', '82332')]),\n",
       " OrderedDict([('', 'Fwd IAT Min'), ('0', '82332')]),\n",
       " OrderedDict([('', 'Bwd Packets/s'), ('0', '82332')]),\n",
       " OrderedDict([('', 'Flow IAT Min'), ('0', '82332')]),\n",
       " OrderedDict([('', 'Fwd Packet Length Mean'), ('0', '82332')]),\n",
       " OrderedDict([('', 'Avg Fwd Segment Size'), ('0', '82332')]),\n",
       " OrderedDict([('', 'Init Fwd Win Bytes'), ('0', '82332')]),\n",
       " OrderedDict([('', 'Fwd Packets Length Total'), ('0', '82332')]),\n",
       " OrderedDict([('', 'Bwd Packet Length Mean'), ('0', '82332')]),\n",
       " OrderedDict([('', 'Protocol'), ('0', '82332')]),\n",
       " OrderedDict([('', 'ct_state_ttl'), ('0', '128072')]),\n",
       " OrderedDict([('', 'dbytes'), ('0', '128072')]),\n",
       " OrderedDict([('', 'protocol'), ('0', '128072')]),\n",
       " OrderedDict([('', 'tcprtt'), ('0', '128072')]),\n",
       " OrderedDict([('', 'dtcpb'), ('0', '128072')]),\n",
       " OrderedDict([('', 'sloss'), ('0', '128072')]),\n",
       " OrderedDict([('', 'sevices'), ('0', '128072')]),\n",
       " OrderedDict([('', 'sjit'), ('0', '128072')]),\n",
       " OrderedDict([('', 'states'), ('0', '128072')]),\n",
       " OrderedDict([('', 'spkts'), ('0', '128072')]),\n",
       " OrderedDict([('', 'dloss'), ('0', '128072')]),\n",
       " OrderedDict([('', 'sttl'), ('0', '128072')]),\n",
       " OrderedDict([('', 'rate'), ('0', '128072')]),\n",
       " OrderedDict([('', 'ct_srv_dst'), ('0', '128072')]),\n",
       " OrderedDict([('', 'is_ftp_login'), ('0', '128072')]),\n",
       " OrderedDict([('', 'sload'), ('0', '128072')]),\n",
       " OrderedDict([('', 'label'), ('0', '128072')]),\n",
       " OrderedDict([('', 'dttl'), ('0', '128072')]),\n",
       " OrderedDict([('', 'ct_flw_http_mthd'), ('0', '128072')]),\n",
       " OrderedDict([('', 'dinpkt'), ('0', '128072')]),\n",
       " OrderedDict([('', 'response_body_len'), ('0', '128072')]),\n",
       " OrderedDict([('', 'is_sm_ips_ports'), ('0', '128072')]),\n",
       " OrderedDict([('', 'dload'), ('0', '128072')]),\n",
       " OrderedDict([('', 'djit'), ('0', '128072')]),\n",
       " OrderedDict([('', 'trans_depth'), ('0', '128072')]),\n",
       " OrderedDict([('', 'sbytes'), ('0', '128072')]),\n",
       " OrderedDict([('', 'stcpb'), ('0', '128072')]),\n",
       " OrderedDict([('', 'dmean'), ('0', '128072')]),\n",
       " OrderedDict([('', 'ct_dst_sport_ltm'), ('0', '128072')]),\n",
       " OrderedDict([('', 'ct_dst_ltm'), ('0', '128072')]),\n",
       " OrderedDict([('', 'swin'), ('0', '128072')]),\n",
       " OrderedDict([('', 'ct_dst_src_ltm'), ('0', '128072')]),\n",
       " OrderedDict([('', 'dwin'), ('0', '128072')]),\n",
       " OrderedDict([('', 'ct_src_ltm'), ('0', '128072')]),\n",
       " OrderedDict([('', 'ct_src_dport_ltm'), ('0', '128072')]),\n",
       " OrderedDict([('', 'ct_ftp_cmd'), ('0', '128072')]),\n",
       " OrderedDict([('', 'dpkts'), ('0', '128072')]),\n",
       " OrderedDict([('', 'sinpkt'), ('0', '128072')]),\n",
       " OrderedDict([('', 'synack'), ('0', '128072')]),\n",
       " OrderedDict([('', 'ackdat'), ('0', '128072')]),\n",
       " OrderedDict([('', 'smean'), ('0', '128072')]),\n",
       " OrderedDict([('', 'ct_srv_src'), ('0', '128072')]),\n",
       " OrderedDict([('', 'id'), ('0', '128072')])]"
      ]
     },
     "execution_count": 60,
     "metadata": {},
     "output_type": "execute_result"
    }
   ],
   "source": [
    "from csv import DictReader\n",
    "# open file in read mode\n",
    "with open(\"nulls_merged_df.csv\", 'r') as f:\n",
    "\t\n",
    "\tdict_reader = DictReader(f)\n",
    "\t\n",
    "\tlist_of_dict2 = list(dict_reader)\n",
    "\n",
    "list_of_dict2"
   ]
  },
  {
   "cell_type": "code",
   "execution_count": 61,
   "metadata": {
    "tags": []
   },
   "outputs": [
    {
     "data": {
      "text/plain": [
       "Flow Bytes/s           82332\n",
       "Packet Length Max      82332\n",
       "Active Max             82332\n",
       "Init Bwd Win Bytes     82332\n",
       "FIN Flag Count         82332\n",
       "                       ...  \n",
       "synack                128072\n",
       "ackdat                128072\n",
       "smean                 128072\n",
       "ct_srv_src            128072\n",
       "id                    128072\n",
       "Length: 99, dtype: int64"
      ]
     },
     "execution_count": 61,
     "metadata": {},
     "output_type": "execute_result"
    }
   ],
   "source": [
    "merged_df.isnull().sum()"
   ]
  },
  {
   "cell_type": "code",
   "execution_count": 62,
   "metadata": {
    "tags": []
   },
   "outputs": [],
   "source": [
    "merged_features = list(merged_df)"
   ]
  },
  {
   "cell_type": "code",
   "execution_count": 63,
   "metadata": {
    "tags": []
   },
   "outputs": [],
   "source": [
    "check_list2 = merged_df.isnull().sum()"
   ]
  },
  {
   "cell_type": "code",
   "execution_count": 64,
   "metadata": {
    "tags": []
   },
   "outputs": [],
   "source": [
    "check_list2.to_csv(\"nulls_check_list2.csv\")"
   ]
  },
  {
   "cell_type": "code",
   "execution_count": 65,
   "metadata": {
    "tags": []
   },
   "outputs": [
    {
     "data": {
      "text/plain": [
       "[OrderedDict([('', 'Flow Bytes/s'), ('0', '82332')]),\n",
       " OrderedDict([('', 'Packet Length Max'), ('0', '82332')]),\n",
       " OrderedDict([('', 'Active Max'), ('0', '82332')]),\n",
       " OrderedDict([('', 'Init Bwd Win Bytes'), ('0', '82332')]),\n",
       " OrderedDict([('', 'FIN Flag Count'), ('0', '82332')]),\n",
       " OrderedDict([('', 'Idle Mean'), ('0', '82332')]),\n",
       " OrderedDict([('', 'Flow Duration'), ('0', '0')]),\n",
       " OrderedDict([('', 'Bwd Packets Length Total'), ('0', '82332')]),\n",
       " OrderedDict([('', 'Down/Up Ratio'), ('0', '82332')]),\n",
       " OrderedDict([('', 'Subflow Fwd Packets'), ('0', '82332')]),\n",
       " OrderedDict([('', 'Bwd Avg Bytes/Bulk'), ('0', '82332')]),\n",
       " OrderedDict([('', 'Flow IAT Std'), ('0', '82332')]),\n",
       " OrderedDict([('', 'Packet Length Std'), ('0', '82332')]),\n",
       " OrderedDict([('', 'Avg Bwd Segment Size'), ('0', '82332')]),\n",
       " OrderedDict([('', 'SimillarHTTP'), ('0', '82332')]),\n",
       " OrderedDict([('', 'Bwd Packet Length Max'), ('0', '82332')]),\n",
       " OrderedDict([('', 'CWE Flag Count'), ('0', '82332')]),\n",
       " OrderedDict([('', 'PSH Flag Count'), ('0', '82332')]),\n",
       " OrderedDict([('', 'Idle Std'), ('0', '82332')]),\n",
       " OrderedDict([('', 'Fwd Act Data Packets'), ('0', '82332')]),\n",
       " OrderedDict([('', 'Avg Packet Size'), ('0', '82332')]),\n",
       " OrderedDict([('', 'Bwd Packet Length Min'), ('0', '82332')]),\n",
       " OrderedDict([('', 'Fwd PSH Flags'), ('0', '82332')]),\n",
       " OrderedDict([('', 'Flow IAT Mean'), ('0', '82332')]),\n",
       " OrderedDict([('', 'Bwd IAT Total'), ('0', '82332')]),\n",
       " OrderedDict([('', 'Bwd IAT Mean'), ('0', '82332')]),\n",
       " OrderedDict([('', 'RST Flag Count'), ('0', '82332')]),\n",
       " OrderedDict([('', 'Packet Length Min'), ('0', '82332')]),\n",
       " OrderedDict([('', 'Subflow Fwd Bytes'), ('0', '82332')]),\n",
       " OrderedDict([('', 'Bwd Avg Packets/Bulk'), ('0', '82332')]),\n",
       " OrderedDict([('', 'Fwd Seg Size Min'), ('0', '82332')]),\n",
       " OrderedDict([('', 'Fwd Avg Bulk Rate'), ('0', '82332')]),\n",
       " OrderedDict([('', 'Fwd Avg Bytes/Bulk'), ('0', '82332')]),\n",
       " OrderedDict([('', 'Fwd Packet Length Min'), ('0', '82332')]),\n",
       " OrderedDict([('', 'Flow Packets/s'), ('0', '82332')]),\n",
       " OrderedDict([('', 'Bwd IAT Min'), ('0', '82332')]),\n",
       " OrderedDict([('', 'Packet Length Variance'), ('0', '82332')]),\n",
       " OrderedDict([('', 'Total Fwd Packets'), ('0', '82332')]),\n",
       " OrderedDict([('', 'Fwd Packet Length Max'), ('0', '82332')]),\n",
       " OrderedDict([('', 'Fwd Avg Packets/Bulk'), ('0', '82332')]),\n",
       " OrderedDict([('', 'Fwd Packet Length Std'), ('0', '82332')]),\n",
       " OrderedDict([('', 'Fwd Header Length'), ('0', '82332')]),\n",
       " OrderedDict([('', 'SYN Flag Count'), ('0', '82332')]),\n",
       " OrderedDict([('', 'Total Backward Packets'), ('0', '82332')]),\n",
       " OrderedDict([('', 'Bwd Header Length'), ('0', '82332')]),\n",
       " OrderedDict([('', 'Flow IAT Max'), ('0', '82332')]),\n",
       " OrderedDict([('', 'Bwd Avg Bulk Rate'), ('0', '82332')]),\n",
       " OrderedDict([('', 'Fwd IAT Min'), ('0', '82332')]),\n",
       " OrderedDict([('', 'Bwd Packets/s'), ('0', '82332')]),\n",
       " OrderedDict([('', 'Flow IAT Min'), ('0', '82332')]),\n",
       " OrderedDict([('', 'Fwd Packet Length Mean'), ('0', '82332')]),\n",
       " OrderedDict([('', 'Avg Fwd Segment Size'), ('0', '82332')]),\n",
       " OrderedDict([('', 'Init Fwd Win Bytes'), ('0', '82332')]),\n",
       " OrderedDict([('', 'Fwd Packets Length Total'), ('0', '82332')]),\n",
       " OrderedDict([('', 'Bwd Packet Length Mean'), ('0', '82332')]),\n",
       " OrderedDict([('', 'Protocol'), ('0', '82332')]),\n",
       " OrderedDict([('', 'ct_state_ttl'), ('0', '128072')]),\n",
       " OrderedDict([('', 'dbytes'), ('0', '128072')]),\n",
       " OrderedDict([('', 'protocol'), ('0', '128072')]),\n",
       " OrderedDict([('', 'tcprtt'), ('0', '128072')]),\n",
       " OrderedDict([('', 'dtcpb'), ('0', '128072')]),\n",
       " OrderedDict([('', 'sloss'), ('0', '128072')]),\n",
       " OrderedDict([('', 'sevices'), ('0', '128072')]),\n",
       " OrderedDict([('', 'sjit'), ('0', '128072')]),\n",
       " OrderedDict([('', 'states'), ('0', '128072')]),\n",
       " OrderedDict([('', 'spkts'), ('0', '128072')]),\n",
       " OrderedDict([('', 'dloss'), ('0', '128072')]),\n",
       " OrderedDict([('', 'sttl'), ('0', '128072')]),\n",
       " OrderedDict([('', 'rate'), ('0', '128072')]),\n",
       " OrderedDict([('', 'ct_srv_dst'), ('0', '128072')]),\n",
       " OrderedDict([('', 'is_ftp_login'), ('0', '128072')]),\n",
       " OrderedDict([('', 'sload'), ('0', '128072')]),\n",
       " OrderedDict([('', 'label'), ('0', '128072')]),\n",
       " OrderedDict([('', 'dttl'), ('0', '128072')]),\n",
       " OrderedDict([('', 'ct_flw_http_mthd'), ('0', '128072')]),\n",
       " OrderedDict([('', 'dinpkt'), ('0', '128072')]),\n",
       " OrderedDict([('', 'response_body_len'), ('0', '128072')]),\n",
       " OrderedDict([('', 'is_sm_ips_ports'), ('0', '128072')]),\n",
       " OrderedDict([('', 'dload'), ('0', '128072')]),\n",
       " OrderedDict([('', 'djit'), ('0', '128072')]),\n",
       " OrderedDict([('', 'trans_depth'), ('0', '128072')]),\n",
       " OrderedDict([('', 'sbytes'), ('0', '128072')]),\n",
       " OrderedDict([('', 'stcpb'), ('0', '128072')]),\n",
       " OrderedDict([('', 'dmean'), ('0', '128072')]),\n",
       " OrderedDict([('', 'ct_dst_sport_ltm'), ('0', '128072')]),\n",
       " OrderedDict([('', 'ct_dst_ltm'), ('0', '128072')]),\n",
       " OrderedDict([('', 'swin'), ('0', '128072')]),\n",
       " OrderedDict([('', 'ct_dst_src_ltm'), ('0', '128072')]),\n",
       " OrderedDict([('', 'dwin'), ('0', '128072')]),\n",
       " OrderedDict([('', 'ct_src_ltm'), ('0', '128072')]),\n",
       " OrderedDict([('', 'ct_src_dport_ltm'), ('0', '128072')]),\n",
       " OrderedDict([('', 'ct_ftp_cmd'), ('0', '128072')]),\n",
       " OrderedDict([('', 'dpkts'), ('0', '128072')]),\n",
       " OrderedDict([('', 'sinpkt'), ('0', '128072')]),\n",
       " OrderedDict([('', 'synack'), ('0', '128072')]),\n",
       " OrderedDict([('', 'ackdat'), ('0', '128072')]),\n",
       " OrderedDict([('', 'smean'), ('0', '128072')]),\n",
       " OrderedDict([('', 'ct_srv_src'), ('0', '128072')]),\n",
       " OrderedDict([('', 'id'), ('0', '128072')])]"
      ]
     },
     "execution_count": 65,
     "metadata": {},
     "output_type": "execute_result"
    }
   ],
   "source": [
    "from csv import DictReader\n",
    "# open file in read mode\n",
    "with open(\"nulls_check_list2.csv\", 'r') as f:\n",
    "\t\n",
    "\tdict_reader = DictReader(f)\n",
    "\t\n",
    "\tlist_of_dict2 = list(dict_reader)\n",
    "\n",
    "list_of_dict2"
   ]
  },
  {
   "cell_type": "code",
   "execution_count": 66,
   "metadata": {
    "tags": []
   },
   "outputs": [],
   "source": [
    "merged_df.drop('SimillarHTTP', axis=1, inplace=True)"
   ]
  },
  {
   "cell_type": "code",
   "execution_count": 67,
   "metadata": {
    "tags": []
   },
   "outputs": [],
   "source": [
    "merged_features = list(merged_df)"
   ]
  },
  {
   "cell_type": "code",
   "execution_count": 68,
   "metadata": {
    "tags": []
   },
   "outputs": [],
   "source": [
    "for feat in merged_features:\n",
    "    merged_df[feat] = merged_df[feat].replace(([np.inf, -np.inf], np.NaN), merged_df[feat].median())"
   ]
  },
  {
   "cell_type": "code",
   "execution_count": 69,
   "metadata": {
    "tags": []
   },
   "outputs": [
    {
     "data": {
      "text/html": [
       "<div>\n",
       "<style scoped>\n",
       "    .dataframe tbody tr th:only-of-type {\n",
       "        vertical-align: middle;\n",
       "    }\n",
       "\n",
       "    .dataframe tbody tr th {\n",
       "        vertical-align: top;\n",
       "    }\n",
       "\n",
       "    .dataframe thead th {\n",
       "        text-align: right;\n",
       "    }\n",
       "</style>\n",
       "<table border=\"1\" class=\"dataframe\">\n",
       "  <thead>\n",
       "    <tr style=\"text-align: right;\">\n",
       "      <th></th>\n",
       "      <th>Flow Bytes/s</th>\n",
       "      <th>Packet Length Max</th>\n",
       "      <th>Active Max</th>\n",
       "      <th>Init Bwd Win Bytes</th>\n",
       "      <th>FIN Flag Count</th>\n",
       "      <th>Idle Mean</th>\n",
       "      <th>Flow Duration</th>\n",
       "      <th>Bwd Packets Length Total</th>\n",
       "      <th>Down/Up Ratio</th>\n",
       "      <th>Subflow Fwd Packets</th>\n",
       "      <th>...</th>\n",
       "      <th>ct_src_ltm</th>\n",
       "      <th>ct_src_dport_ltm</th>\n",
       "      <th>ct_ftp_cmd</th>\n",
       "      <th>dpkts</th>\n",
       "      <th>sinpkt</th>\n",
       "      <th>synack</th>\n",
       "      <th>ackdat</th>\n",
       "      <th>smean</th>\n",
       "      <th>ct_srv_src</th>\n",
       "      <th>id</th>\n",
       "    </tr>\n",
       "  </thead>\n",
       "  <tbody>\n",
       "    <tr>\n",
       "      <th>0</th>\n",
       "      <td>401000000.0</td>\n",
       "      <td>401.0</td>\n",
       "      <td>0.0</td>\n",
       "      <td>-1.0</td>\n",
       "      <td>0.0</td>\n",
       "      <td>0.0</td>\n",
       "      <td>2.0</td>\n",
       "      <td>0.0</td>\n",
       "      <td>0.0</td>\n",
       "      <td>2.0</td>\n",
       "      <td>...</td>\n",
       "      <td>3.0</td>\n",
       "      <td>1.0</td>\n",
       "      <td>0.0</td>\n",
       "      <td>2.0</td>\n",
       "      <td>0.557929</td>\n",
       "      <td>0.000441</td>\n",
       "      <td>0.00008</td>\n",
       "      <td>65.0</td>\n",
       "      <td>5.0</td>\n",
       "      <td>41166.5</td>\n",
       "    </tr>\n",
       "    <tr>\n",
       "      <th>1</th>\n",
       "      <td>6000000.0</td>\n",
       "      <td>6.0</td>\n",
       "      <td>0.0</td>\n",
       "      <td>-1.0</td>\n",
       "      <td>0.0</td>\n",
       "      <td>0.0</td>\n",
       "      <td>2.0</td>\n",
       "      <td>0.0</td>\n",
       "      <td>0.0</td>\n",
       "      <td>2.0</td>\n",
       "      <td>...</td>\n",
       "      <td>3.0</td>\n",
       "      <td>1.0</td>\n",
       "      <td>0.0</td>\n",
       "      <td>2.0</td>\n",
       "      <td>0.557929</td>\n",
       "      <td>0.000441</td>\n",
       "      <td>0.00008</td>\n",
       "      <td>65.0</td>\n",
       "      <td>5.0</td>\n",
       "      <td>41166.5</td>\n",
       "    </tr>\n",
       "    <tr>\n",
       "      <th>2</th>\n",
       "      <td>401000000.0</td>\n",
       "      <td>401.0</td>\n",
       "      <td>0.0</td>\n",
       "      <td>-1.0</td>\n",
       "      <td>0.0</td>\n",
       "      <td>0.0</td>\n",
       "      <td>2.0</td>\n",
       "      <td>0.0</td>\n",
       "      <td>0.0</td>\n",
       "      <td>2.0</td>\n",
       "      <td>...</td>\n",
       "      <td>3.0</td>\n",
       "      <td>1.0</td>\n",
       "      <td>0.0</td>\n",
       "      <td>2.0</td>\n",
       "      <td>0.557929</td>\n",
       "      <td>0.000441</td>\n",
       "      <td>0.00008</td>\n",
       "      <td>65.0</td>\n",
       "      <td>5.0</td>\n",
       "      <td>41166.5</td>\n",
       "    </tr>\n",
       "    <tr>\n",
       "      <th>3</th>\n",
       "      <td>401000000.0</td>\n",
       "      <td>401.0</td>\n",
       "      <td>0.0</td>\n",
       "      <td>-1.0</td>\n",
       "      <td>0.0</td>\n",
       "      <td>0.0</td>\n",
       "      <td>2.0</td>\n",
       "      <td>0.0</td>\n",
       "      <td>0.0</td>\n",
       "      <td>2.0</td>\n",
       "      <td>...</td>\n",
       "      <td>3.0</td>\n",
       "      <td>1.0</td>\n",
       "      <td>0.0</td>\n",
       "      <td>2.0</td>\n",
       "      <td>0.557929</td>\n",
       "      <td>0.000441</td>\n",
       "      <td>0.00008</td>\n",
       "      <td>65.0</td>\n",
       "      <td>5.0</td>\n",
       "      <td>41166.5</td>\n",
       "    </tr>\n",
       "    <tr>\n",
       "      <th>4</th>\n",
       "      <td>383000000.0</td>\n",
       "      <td>383.0</td>\n",
       "      <td>0.0</td>\n",
       "      <td>-1.0</td>\n",
       "      <td>0.0</td>\n",
       "      <td>0.0</td>\n",
       "      <td>2.0</td>\n",
       "      <td>0.0</td>\n",
       "      <td>0.0</td>\n",
       "      <td>2.0</td>\n",
       "      <td>...</td>\n",
       "      <td>3.0</td>\n",
       "      <td>1.0</td>\n",
       "      <td>0.0</td>\n",
       "      <td>2.0</td>\n",
       "      <td>0.557929</td>\n",
       "      <td>0.000441</td>\n",
       "      <td>0.00008</td>\n",
       "      <td>65.0</td>\n",
       "      <td>5.0</td>\n",
       "      <td>41166.5</td>\n",
       "    </tr>\n",
       "  </tbody>\n",
       "</table>\n",
       "<p>5 rows × 98 columns</p>\n",
       "</div>"
      ],
      "text/plain": [
       "   Flow Bytes/s  Packet Length Max  Active Max  Init Bwd Win Bytes  \\\n",
       "0   401000000.0              401.0         0.0                -1.0   \n",
       "1     6000000.0                6.0         0.0                -1.0   \n",
       "2   401000000.0              401.0         0.0                -1.0   \n",
       "3   401000000.0              401.0         0.0                -1.0   \n",
       "4   383000000.0              383.0         0.0                -1.0   \n",
       "\n",
       "   FIN Flag Count  Idle Mean  Flow Duration  Bwd Packets Length Total  \\\n",
       "0             0.0        0.0            2.0                       0.0   \n",
       "1             0.0        0.0            2.0                       0.0   \n",
       "2             0.0        0.0            2.0                       0.0   \n",
       "3             0.0        0.0            2.0                       0.0   \n",
       "4             0.0        0.0            2.0                       0.0   \n",
       "\n",
       "   Down/Up Ratio  Subflow Fwd Packets  ...  ct_src_ltm  ct_src_dport_ltm  \\\n",
       "0            0.0                  2.0  ...         3.0               1.0   \n",
       "1            0.0                  2.0  ...         3.0               1.0   \n",
       "2            0.0                  2.0  ...         3.0               1.0   \n",
       "3            0.0                  2.0  ...         3.0               1.0   \n",
       "4            0.0                  2.0  ...         3.0               1.0   \n",
       "\n",
       "   ct_ftp_cmd  dpkts    sinpkt    synack   ackdat  smean  ct_srv_src       id  \n",
       "0         0.0    2.0  0.557929  0.000441  0.00008   65.0         5.0  41166.5  \n",
       "1         0.0    2.0  0.557929  0.000441  0.00008   65.0         5.0  41166.5  \n",
       "2         0.0    2.0  0.557929  0.000441  0.00008   65.0         5.0  41166.5  \n",
       "3         0.0    2.0  0.557929  0.000441  0.00008   65.0         5.0  41166.5  \n",
       "4         0.0    2.0  0.557929  0.000441  0.00008   65.0         5.0  41166.5  \n",
       "\n",
       "[5 rows x 98 columns]"
      ]
     },
     "execution_count": 69,
     "metadata": {},
     "output_type": "execute_result"
    }
   ],
   "source": [
    "merged_df.head()"
   ]
  },
  {
   "cell_type": "code",
   "execution_count": 70,
   "metadata": {
    "tags": []
   },
   "outputs": [
    {
     "data": {
      "text/plain": [
       "Flow Bytes/s          0\n",
       "Packet Length Max     0\n",
       "Active Max            0\n",
       "Init Bwd Win Bytes    0\n",
       "FIN Flag Count        0\n",
       "                     ..\n",
       "synack                0\n",
       "ackdat                0\n",
       "smean                 0\n",
       "ct_srv_src            0\n",
       "id                    0\n",
       "Length: 98, dtype: int64"
      ]
     },
     "execution_count": 70,
     "metadata": {},
     "output_type": "execute_result"
    }
   ],
   "source": [
    "merged_df.isnull().sum()"
   ]
  },
  {
   "cell_type": "code",
   "execution_count": 71,
   "metadata": {
    "tags": []
   },
   "outputs": [
    {
     "data": {
      "text/plain": [
       "(210404, 98)"
      ]
     },
     "execution_count": 71,
     "metadata": {},
     "output_type": "execute_result"
    }
   ],
   "source": [
    "merged_df.shape"
   ]
  },
  {
   "cell_type": "code",
   "execution_count": 72,
   "metadata": {
    "tags": []
   },
   "outputs": [],
   "source": [
    "# Remove Missing Values \n",
    "na = pd.notnull(y)\n",
    "y = y[na]"
   ]
  },
  {
   "cell_type": "code",
   "execution_count": 73,
   "metadata": {
    "tags": []
   },
   "outputs": [
    {
     "data": {
      "text/plain": [
       "0            UDP\n",
       "1            Syn\n",
       "2            UDP\n",
       "3            UDP\n",
       "4            UDP\n",
       "           ...  \n",
       "210399    Normal\n",
       "210400    Normal\n",
       "210401    Normal\n",
       "210402    Normal\n",
       "210403    Normal\n",
       "Length: 210404, dtype: object"
      ]
     },
     "execution_count": 73,
     "metadata": {},
     "output_type": "execute_result"
    }
   ],
   "source": [
    "y"
   ]
  },
  {
   "cell_type": "code",
   "execution_count": 74,
   "metadata": {
    "tags": []
   },
   "outputs": [],
   "source": [
    "merged_df.insert(1, \"tmp\", [i for i in range(0,210404)], True)"
   ]
  },
  {
   "cell_type": "code",
   "execution_count": 75,
   "metadata": {
    "tags": []
   },
   "outputs": [],
   "source": [
    "y_df = pd.DataFrame({'attack_cat':y.values})"
   ]
  },
  {
   "cell_type": "code",
   "execution_count": 76,
   "metadata": {
    "tags": []
   },
   "outputs": [
    {
     "data": {
      "text/html": [
       "<div>\n",
       "<style scoped>\n",
       "    .dataframe tbody tr th:only-of-type {\n",
       "        vertical-align: middle;\n",
       "    }\n",
       "\n",
       "    .dataframe tbody tr th {\n",
       "        vertical-align: top;\n",
       "    }\n",
       "\n",
       "    .dataframe thead th {\n",
       "        text-align: right;\n",
       "    }\n",
       "</style>\n",
       "<table border=\"1\" class=\"dataframe\">\n",
       "  <thead>\n",
       "    <tr style=\"text-align: right;\">\n",
       "      <th></th>\n",
       "      <th>attack_cat</th>\n",
       "    </tr>\n",
       "  </thead>\n",
       "  <tbody>\n",
       "    <tr>\n",
       "      <th>0</th>\n",
       "      <td>UDP</td>\n",
       "    </tr>\n",
       "    <tr>\n",
       "      <th>1</th>\n",
       "      <td>Syn</td>\n",
       "    </tr>\n",
       "    <tr>\n",
       "      <th>2</th>\n",
       "      <td>UDP</td>\n",
       "    </tr>\n",
       "    <tr>\n",
       "      <th>3</th>\n",
       "      <td>UDP</td>\n",
       "    </tr>\n",
       "    <tr>\n",
       "      <th>4</th>\n",
       "      <td>UDP</td>\n",
       "    </tr>\n",
       "    <tr>\n",
       "      <th>...</th>\n",
       "      <td>...</td>\n",
       "    </tr>\n",
       "    <tr>\n",
       "      <th>210399</th>\n",
       "      <td>Normal</td>\n",
       "    </tr>\n",
       "    <tr>\n",
       "      <th>210400</th>\n",
       "      <td>Normal</td>\n",
       "    </tr>\n",
       "    <tr>\n",
       "      <th>210401</th>\n",
       "      <td>Normal</td>\n",
       "    </tr>\n",
       "    <tr>\n",
       "      <th>210402</th>\n",
       "      <td>Normal</td>\n",
       "    </tr>\n",
       "    <tr>\n",
       "      <th>210403</th>\n",
       "      <td>Normal</td>\n",
       "    </tr>\n",
       "  </tbody>\n",
       "</table>\n",
       "<p>210404 rows × 1 columns</p>\n",
       "</div>"
      ],
      "text/plain": [
       "       attack_cat\n",
       "0             UDP\n",
       "1             Syn\n",
       "2             UDP\n",
       "3             UDP\n",
       "4             UDP\n",
       "...           ...\n",
       "210399     Normal\n",
       "210400     Normal\n",
       "210401     Normal\n",
       "210402     Normal\n",
       "210403     Normal\n",
       "\n",
       "[210404 rows x 1 columns]"
      ]
     },
     "execution_count": 76,
     "metadata": {},
     "output_type": "execute_result"
    }
   ],
   "source": [
    "y_df"
   ]
  },
  {
   "cell_type": "code",
   "execution_count": 77,
   "metadata": {
    "tags": []
   },
   "outputs": [],
   "source": [
    "y_df.insert(1, \"tmp\", [i for i in range(0,210404)], True)"
   ]
  },
  {
   "cell_type": "code",
   "execution_count": 78,
   "metadata": {
    "tags": []
   },
   "outputs": [],
   "source": [
    "from functools import reduce"
   ]
  },
  {
   "cell_type": "code",
   "execution_count": 79,
   "metadata": {
    "tags": []
   },
   "outputs": [],
   "source": [
    "merged_train = reduce(lambda l,r: l.merge(r, on=['tmp'], how='outer', suffixes=['_COPYL', '_COPYR']), [y_df, merged_df])"
   ]
  },
  {
   "cell_type": "code",
   "execution_count": 80,
   "metadata": {
    "tags": []
   },
   "outputs": [
    {
     "data": {
      "text/html": [
       "<div>\n",
       "<style scoped>\n",
       "    .dataframe tbody tr th:only-of-type {\n",
       "        vertical-align: middle;\n",
       "    }\n",
       "\n",
       "    .dataframe tbody tr th {\n",
       "        vertical-align: top;\n",
       "    }\n",
       "\n",
       "    .dataframe thead th {\n",
       "        text-align: right;\n",
       "    }\n",
       "</style>\n",
       "<table border=\"1\" class=\"dataframe\">\n",
       "  <thead>\n",
       "    <tr style=\"text-align: right;\">\n",
       "      <th></th>\n",
       "      <th>attack_cat</th>\n",
       "      <th>tmp</th>\n",
       "      <th>Flow Bytes/s</th>\n",
       "      <th>Packet Length Max</th>\n",
       "      <th>Active Max</th>\n",
       "      <th>Init Bwd Win Bytes</th>\n",
       "      <th>FIN Flag Count</th>\n",
       "      <th>Idle Mean</th>\n",
       "      <th>Flow Duration</th>\n",
       "      <th>Bwd Packets Length Total</th>\n",
       "      <th>...</th>\n",
       "      <th>ct_src_ltm</th>\n",
       "      <th>ct_src_dport_ltm</th>\n",
       "      <th>ct_ftp_cmd</th>\n",
       "      <th>dpkts</th>\n",
       "      <th>sinpkt</th>\n",
       "      <th>synack</th>\n",
       "      <th>ackdat</th>\n",
       "      <th>smean</th>\n",
       "      <th>ct_srv_src</th>\n",
       "      <th>id</th>\n",
       "    </tr>\n",
       "  </thead>\n",
       "  <tbody>\n",
       "    <tr>\n",
       "      <th>0</th>\n",
       "      <td>UDP</td>\n",
       "      <td>0</td>\n",
       "      <td>401000000.0</td>\n",
       "      <td>401.0</td>\n",
       "      <td>0.0</td>\n",
       "      <td>-1.0</td>\n",
       "      <td>0.0</td>\n",
       "      <td>0.0</td>\n",
       "      <td>2.0</td>\n",
       "      <td>0.0</td>\n",
       "      <td>...</td>\n",
       "      <td>3.0</td>\n",
       "      <td>1.0</td>\n",
       "      <td>0.0</td>\n",
       "      <td>2.0</td>\n",
       "      <td>0.557929</td>\n",
       "      <td>0.000441</td>\n",
       "      <td>0.00008</td>\n",
       "      <td>65.0</td>\n",
       "      <td>5.0</td>\n",
       "      <td>41166.5</td>\n",
       "    </tr>\n",
       "    <tr>\n",
       "      <th>1</th>\n",
       "      <td>Syn</td>\n",
       "      <td>1</td>\n",
       "      <td>6000000.0</td>\n",
       "      <td>6.0</td>\n",
       "      <td>0.0</td>\n",
       "      <td>-1.0</td>\n",
       "      <td>0.0</td>\n",
       "      <td>0.0</td>\n",
       "      <td>2.0</td>\n",
       "      <td>0.0</td>\n",
       "      <td>...</td>\n",
       "      <td>3.0</td>\n",
       "      <td>1.0</td>\n",
       "      <td>0.0</td>\n",
       "      <td>2.0</td>\n",
       "      <td>0.557929</td>\n",
       "      <td>0.000441</td>\n",
       "      <td>0.00008</td>\n",
       "      <td>65.0</td>\n",
       "      <td>5.0</td>\n",
       "      <td>41166.5</td>\n",
       "    </tr>\n",
       "    <tr>\n",
       "      <th>2</th>\n",
       "      <td>UDP</td>\n",
       "      <td>2</td>\n",
       "      <td>401000000.0</td>\n",
       "      <td>401.0</td>\n",
       "      <td>0.0</td>\n",
       "      <td>-1.0</td>\n",
       "      <td>0.0</td>\n",
       "      <td>0.0</td>\n",
       "      <td>2.0</td>\n",
       "      <td>0.0</td>\n",
       "      <td>...</td>\n",
       "      <td>3.0</td>\n",
       "      <td>1.0</td>\n",
       "      <td>0.0</td>\n",
       "      <td>2.0</td>\n",
       "      <td>0.557929</td>\n",
       "      <td>0.000441</td>\n",
       "      <td>0.00008</td>\n",
       "      <td>65.0</td>\n",
       "      <td>5.0</td>\n",
       "      <td>41166.5</td>\n",
       "    </tr>\n",
       "    <tr>\n",
       "      <th>3</th>\n",
       "      <td>UDP</td>\n",
       "      <td>3</td>\n",
       "      <td>401000000.0</td>\n",
       "      <td>401.0</td>\n",
       "      <td>0.0</td>\n",
       "      <td>-1.0</td>\n",
       "      <td>0.0</td>\n",
       "      <td>0.0</td>\n",
       "      <td>2.0</td>\n",
       "      <td>0.0</td>\n",
       "      <td>...</td>\n",
       "      <td>3.0</td>\n",
       "      <td>1.0</td>\n",
       "      <td>0.0</td>\n",
       "      <td>2.0</td>\n",
       "      <td>0.557929</td>\n",
       "      <td>0.000441</td>\n",
       "      <td>0.00008</td>\n",
       "      <td>65.0</td>\n",
       "      <td>5.0</td>\n",
       "      <td>41166.5</td>\n",
       "    </tr>\n",
       "    <tr>\n",
       "      <th>4</th>\n",
       "      <td>UDP</td>\n",
       "      <td>4</td>\n",
       "      <td>383000000.0</td>\n",
       "      <td>383.0</td>\n",
       "      <td>0.0</td>\n",
       "      <td>-1.0</td>\n",
       "      <td>0.0</td>\n",
       "      <td>0.0</td>\n",
       "      <td>2.0</td>\n",
       "      <td>0.0</td>\n",
       "      <td>...</td>\n",
       "      <td>3.0</td>\n",
       "      <td>1.0</td>\n",
       "      <td>0.0</td>\n",
       "      <td>2.0</td>\n",
       "      <td>0.557929</td>\n",
       "      <td>0.000441</td>\n",
       "      <td>0.00008</td>\n",
       "      <td>65.0</td>\n",
       "      <td>5.0</td>\n",
       "      <td>41166.5</td>\n",
       "    </tr>\n",
       "  </tbody>\n",
       "</table>\n",
       "<p>5 rows × 100 columns</p>\n",
       "</div>"
      ],
      "text/plain": [
       "  attack_cat  tmp  Flow Bytes/s  Packet Length Max  Active Max  \\\n",
       "0        UDP    0   401000000.0              401.0         0.0   \n",
       "1        Syn    1     6000000.0                6.0         0.0   \n",
       "2        UDP    2   401000000.0              401.0         0.0   \n",
       "3        UDP    3   401000000.0              401.0         0.0   \n",
       "4        UDP    4   383000000.0              383.0         0.0   \n",
       "\n",
       "   Init Bwd Win Bytes  FIN Flag Count  Idle Mean  Flow Duration  \\\n",
       "0                -1.0             0.0        0.0            2.0   \n",
       "1                -1.0             0.0        0.0            2.0   \n",
       "2                -1.0             0.0        0.0            2.0   \n",
       "3                -1.0             0.0        0.0            2.0   \n",
       "4                -1.0             0.0        0.0            2.0   \n",
       "\n",
       "   Bwd Packets Length Total  ...  ct_src_ltm  ct_src_dport_ltm  ct_ftp_cmd  \\\n",
       "0                       0.0  ...         3.0               1.0         0.0   \n",
       "1                       0.0  ...         3.0               1.0         0.0   \n",
       "2                       0.0  ...         3.0               1.0         0.0   \n",
       "3                       0.0  ...         3.0               1.0         0.0   \n",
       "4                       0.0  ...         3.0               1.0         0.0   \n",
       "\n",
       "   dpkts    sinpkt    synack   ackdat  smean  ct_srv_src       id  \n",
       "0    2.0  0.557929  0.000441  0.00008   65.0         5.0  41166.5  \n",
       "1    2.0  0.557929  0.000441  0.00008   65.0         5.0  41166.5  \n",
       "2    2.0  0.557929  0.000441  0.00008   65.0         5.0  41166.5  \n",
       "3    2.0  0.557929  0.000441  0.00008   65.0         5.0  41166.5  \n",
       "4    2.0  0.557929  0.000441  0.00008   65.0         5.0  41166.5  \n",
       "\n",
       "[5 rows x 100 columns]"
      ]
     },
     "execution_count": 80,
     "metadata": {},
     "output_type": "execute_result"
    }
   ],
   "source": [
    "merged_train.head()"
   ]
  },
  {
   "cell_type": "code",
   "execution_count": 81,
   "metadata": {
    "tags": []
   },
   "outputs": [],
   "source": [
    "merged_train.drop('tmp', axis=1, inplace=True)"
   ]
  },
  {
   "cell_type": "code",
   "execution_count": 82,
   "metadata": {
    "tags": []
   },
   "outputs": [
    {
     "data": {
      "text/html": [
       "<div>\n",
       "<style scoped>\n",
       "    .dataframe tbody tr th:only-of-type {\n",
       "        vertical-align: middle;\n",
       "    }\n",
       "\n",
       "    .dataframe tbody tr th {\n",
       "        vertical-align: top;\n",
       "    }\n",
       "\n",
       "    .dataframe thead th {\n",
       "        text-align: right;\n",
       "    }\n",
       "</style>\n",
       "<table border=\"1\" class=\"dataframe\">\n",
       "  <thead>\n",
       "    <tr style=\"text-align: right;\">\n",
       "      <th></th>\n",
       "      <th>attack_cat</th>\n",
       "      <th>Flow Bytes/s</th>\n",
       "      <th>Packet Length Max</th>\n",
       "      <th>Active Max</th>\n",
       "      <th>Init Bwd Win Bytes</th>\n",
       "      <th>FIN Flag Count</th>\n",
       "      <th>Idle Mean</th>\n",
       "      <th>Flow Duration</th>\n",
       "      <th>Bwd Packets Length Total</th>\n",
       "      <th>Down/Up Ratio</th>\n",
       "      <th>...</th>\n",
       "      <th>ct_src_ltm</th>\n",
       "      <th>ct_src_dport_ltm</th>\n",
       "      <th>ct_ftp_cmd</th>\n",
       "      <th>dpkts</th>\n",
       "      <th>sinpkt</th>\n",
       "      <th>synack</th>\n",
       "      <th>ackdat</th>\n",
       "      <th>smean</th>\n",
       "      <th>ct_srv_src</th>\n",
       "      <th>id</th>\n",
       "    </tr>\n",
       "  </thead>\n",
       "  <tbody>\n",
       "    <tr>\n",
       "      <th>0</th>\n",
       "      <td>UDP</td>\n",
       "      <td>401000000.0</td>\n",
       "      <td>401.0</td>\n",
       "      <td>0.0</td>\n",
       "      <td>-1.0</td>\n",
       "      <td>0.0</td>\n",
       "      <td>0.0</td>\n",
       "      <td>2.0</td>\n",
       "      <td>0.0</td>\n",
       "      <td>0.0</td>\n",
       "      <td>...</td>\n",
       "      <td>3.0</td>\n",
       "      <td>1.0</td>\n",
       "      <td>0.0</td>\n",
       "      <td>2.0</td>\n",
       "      <td>0.557929</td>\n",
       "      <td>0.000441</td>\n",
       "      <td>0.00008</td>\n",
       "      <td>65.0</td>\n",
       "      <td>5.0</td>\n",
       "      <td>41166.5</td>\n",
       "    </tr>\n",
       "    <tr>\n",
       "      <th>1</th>\n",
       "      <td>Syn</td>\n",
       "      <td>6000000.0</td>\n",
       "      <td>6.0</td>\n",
       "      <td>0.0</td>\n",
       "      <td>-1.0</td>\n",
       "      <td>0.0</td>\n",
       "      <td>0.0</td>\n",
       "      <td>2.0</td>\n",
       "      <td>0.0</td>\n",
       "      <td>0.0</td>\n",
       "      <td>...</td>\n",
       "      <td>3.0</td>\n",
       "      <td>1.0</td>\n",
       "      <td>0.0</td>\n",
       "      <td>2.0</td>\n",
       "      <td>0.557929</td>\n",
       "      <td>0.000441</td>\n",
       "      <td>0.00008</td>\n",
       "      <td>65.0</td>\n",
       "      <td>5.0</td>\n",
       "      <td>41166.5</td>\n",
       "    </tr>\n",
       "    <tr>\n",
       "      <th>2</th>\n",
       "      <td>UDP</td>\n",
       "      <td>401000000.0</td>\n",
       "      <td>401.0</td>\n",
       "      <td>0.0</td>\n",
       "      <td>-1.0</td>\n",
       "      <td>0.0</td>\n",
       "      <td>0.0</td>\n",
       "      <td>2.0</td>\n",
       "      <td>0.0</td>\n",
       "      <td>0.0</td>\n",
       "      <td>...</td>\n",
       "      <td>3.0</td>\n",
       "      <td>1.0</td>\n",
       "      <td>0.0</td>\n",
       "      <td>2.0</td>\n",
       "      <td>0.557929</td>\n",
       "      <td>0.000441</td>\n",
       "      <td>0.00008</td>\n",
       "      <td>65.0</td>\n",
       "      <td>5.0</td>\n",
       "      <td>41166.5</td>\n",
       "    </tr>\n",
       "    <tr>\n",
       "      <th>3</th>\n",
       "      <td>UDP</td>\n",
       "      <td>401000000.0</td>\n",
       "      <td>401.0</td>\n",
       "      <td>0.0</td>\n",
       "      <td>-1.0</td>\n",
       "      <td>0.0</td>\n",
       "      <td>0.0</td>\n",
       "      <td>2.0</td>\n",
       "      <td>0.0</td>\n",
       "      <td>0.0</td>\n",
       "      <td>...</td>\n",
       "      <td>3.0</td>\n",
       "      <td>1.0</td>\n",
       "      <td>0.0</td>\n",
       "      <td>2.0</td>\n",
       "      <td>0.557929</td>\n",
       "      <td>0.000441</td>\n",
       "      <td>0.00008</td>\n",
       "      <td>65.0</td>\n",
       "      <td>5.0</td>\n",
       "      <td>41166.5</td>\n",
       "    </tr>\n",
       "    <tr>\n",
       "      <th>4</th>\n",
       "      <td>UDP</td>\n",
       "      <td>383000000.0</td>\n",
       "      <td>383.0</td>\n",
       "      <td>0.0</td>\n",
       "      <td>-1.0</td>\n",
       "      <td>0.0</td>\n",
       "      <td>0.0</td>\n",
       "      <td>2.0</td>\n",
       "      <td>0.0</td>\n",
       "      <td>0.0</td>\n",
       "      <td>...</td>\n",
       "      <td>3.0</td>\n",
       "      <td>1.0</td>\n",
       "      <td>0.0</td>\n",
       "      <td>2.0</td>\n",
       "      <td>0.557929</td>\n",
       "      <td>0.000441</td>\n",
       "      <td>0.00008</td>\n",
       "      <td>65.0</td>\n",
       "      <td>5.0</td>\n",
       "      <td>41166.5</td>\n",
       "    </tr>\n",
       "  </tbody>\n",
       "</table>\n",
       "<p>5 rows × 99 columns</p>\n",
       "</div>"
      ],
      "text/plain": [
       "  attack_cat  Flow Bytes/s  Packet Length Max  Active Max  Init Bwd Win Bytes  \\\n",
       "0        UDP   401000000.0              401.0         0.0                -1.0   \n",
       "1        Syn     6000000.0                6.0         0.0                -1.0   \n",
       "2        UDP   401000000.0              401.0         0.0                -1.0   \n",
       "3        UDP   401000000.0              401.0         0.0                -1.0   \n",
       "4        UDP   383000000.0              383.0         0.0                -1.0   \n",
       "\n",
       "   FIN Flag Count  Idle Mean  Flow Duration  Bwd Packets Length Total  \\\n",
       "0             0.0        0.0            2.0                       0.0   \n",
       "1             0.0        0.0            2.0                       0.0   \n",
       "2             0.0        0.0            2.0                       0.0   \n",
       "3             0.0        0.0            2.0                       0.0   \n",
       "4             0.0        0.0            2.0                       0.0   \n",
       "\n",
       "   Down/Up Ratio  ...  ct_src_ltm  ct_src_dport_ltm  ct_ftp_cmd  dpkts  \\\n",
       "0            0.0  ...         3.0               1.0         0.0    2.0   \n",
       "1            0.0  ...         3.0               1.0         0.0    2.0   \n",
       "2            0.0  ...         3.0               1.0         0.0    2.0   \n",
       "3            0.0  ...         3.0               1.0         0.0    2.0   \n",
       "4            0.0  ...         3.0               1.0         0.0    2.0   \n",
       "\n",
       "     sinpkt    synack   ackdat  smean  ct_srv_src       id  \n",
       "0  0.557929  0.000441  0.00008   65.0         5.0  41166.5  \n",
       "1  0.557929  0.000441  0.00008   65.0         5.0  41166.5  \n",
       "2  0.557929  0.000441  0.00008   65.0         5.0  41166.5  \n",
       "3  0.557929  0.000441  0.00008   65.0         5.0  41166.5  \n",
       "4  0.557929  0.000441  0.00008   65.0         5.0  41166.5  \n",
       "\n",
       "[5 rows x 99 columns]"
      ]
     },
     "execution_count": 82,
     "metadata": {},
     "output_type": "execute_result"
    }
   ],
   "source": [
    "merged_train.head()"
   ]
  },
  {
   "cell_type": "code",
   "execution_count": 83,
   "metadata": {
    "tags": []
   },
   "outputs": [],
   "source": [
    "merged_train.to_csv('s3://sagemaker-us-east-1-123251154742/research/training.csv')"
   ]
  },
  {
   "cell_type": "code",
   "execution_count": 84,
   "metadata": {},
   "outputs": [],
   "source": [
    "import sklearn\n",
    "from sklearn.model_selection import train_test_split\n",
    "import numpy as np\n",
    "import pandas as pd\n",
    "import shap\n",
    "import time"
   ]
  },
  {
   "cell_type": "code",
   "execution_count": 85,
   "metadata": {
    "tags": []
   },
   "outputs": [],
   "source": [
    "merged_df = pd.read_csv('s3://sagemaker-us-east-1-123251154742/research/training.csv')"
   ]
  },
  {
   "cell_type": "code",
   "execution_count": 86,
   "metadata": {
    "tags": []
   },
   "outputs": [
    {
     "data": {
      "text/html": [
       "<div>\n",
       "<style scoped>\n",
       "    .dataframe tbody tr th:only-of-type {\n",
       "        vertical-align: middle;\n",
       "    }\n",
       "\n",
       "    .dataframe tbody tr th {\n",
       "        vertical-align: top;\n",
       "    }\n",
       "\n",
       "    .dataframe thead th {\n",
       "        text-align: right;\n",
       "    }\n",
       "</style>\n",
       "<table border=\"1\" class=\"dataframe\">\n",
       "  <thead>\n",
       "    <tr style=\"text-align: right;\">\n",
       "      <th></th>\n",
       "      <th>Unnamed: 0</th>\n",
       "      <th>attack_cat</th>\n",
       "      <th>Flow Bytes/s</th>\n",
       "      <th>Packet Length Max</th>\n",
       "      <th>Active Max</th>\n",
       "      <th>Init Bwd Win Bytes</th>\n",
       "      <th>FIN Flag Count</th>\n",
       "      <th>Idle Mean</th>\n",
       "      <th>Flow Duration</th>\n",
       "      <th>Bwd Packets Length Total</th>\n",
       "      <th>...</th>\n",
       "      <th>ct_src_ltm</th>\n",
       "      <th>ct_src_dport_ltm</th>\n",
       "      <th>ct_ftp_cmd</th>\n",
       "      <th>dpkts</th>\n",
       "      <th>sinpkt</th>\n",
       "      <th>synack</th>\n",
       "      <th>ackdat</th>\n",
       "      <th>smean</th>\n",
       "      <th>ct_srv_src</th>\n",
       "      <th>id</th>\n",
       "    </tr>\n",
       "  </thead>\n",
       "  <tbody>\n",
       "    <tr>\n",
       "      <th>0</th>\n",
       "      <td>0</td>\n",
       "      <td>UDP</td>\n",
       "      <td>401000000.0</td>\n",
       "      <td>401.0</td>\n",
       "      <td>0.0</td>\n",
       "      <td>-1.0</td>\n",
       "      <td>0.0</td>\n",
       "      <td>0.0</td>\n",
       "      <td>2.0</td>\n",
       "      <td>0.0</td>\n",
       "      <td>...</td>\n",
       "      <td>3.0</td>\n",
       "      <td>1.0</td>\n",
       "      <td>0.0</td>\n",
       "      <td>2.0</td>\n",
       "      <td>0.557929</td>\n",
       "      <td>0.000441</td>\n",
       "      <td>0.00008</td>\n",
       "      <td>65.0</td>\n",
       "      <td>5.0</td>\n",
       "      <td>41166.5</td>\n",
       "    </tr>\n",
       "    <tr>\n",
       "      <th>1</th>\n",
       "      <td>1</td>\n",
       "      <td>Syn</td>\n",
       "      <td>6000000.0</td>\n",
       "      <td>6.0</td>\n",
       "      <td>0.0</td>\n",
       "      <td>-1.0</td>\n",
       "      <td>0.0</td>\n",
       "      <td>0.0</td>\n",
       "      <td>2.0</td>\n",
       "      <td>0.0</td>\n",
       "      <td>...</td>\n",
       "      <td>3.0</td>\n",
       "      <td>1.0</td>\n",
       "      <td>0.0</td>\n",
       "      <td>2.0</td>\n",
       "      <td>0.557929</td>\n",
       "      <td>0.000441</td>\n",
       "      <td>0.00008</td>\n",
       "      <td>65.0</td>\n",
       "      <td>5.0</td>\n",
       "      <td>41166.5</td>\n",
       "    </tr>\n",
       "    <tr>\n",
       "      <th>2</th>\n",
       "      <td>2</td>\n",
       "      <td>UDP</td>\n",
       "      <td>401000000.0</td>\n",
       "      <td>401.0</td>\n",
       "      <td>0.0</td>\n",
       "      <td>-1.0</td>\n",
       "      <td>0.0</td>\n",
       "      <td>0.0</td>\n",
       "      <td>2.0</td>\n",
       "      <td>0.0</td>\n",
       "      <td>...</td>\n",
       "      <td>3.0</td>\n",
       "      <td>1.0</td>\n",
       "      <td>0.0</td>\n",
       "      <td>2.0</td>\n",
       "      <td>0.557929</td>\n",
       "      <td>0.000441</td>\n",
       "      <td>0.00008</td>\n",
       "      <td>65.0</td>\n",
       "      <td>5.0</td>\n",
       "      <td>41166.5</td>\n",
       "    </tr>\n",
       "    <tr>\n",
       "      <th>3</th>\n",
       "      <td>3</td>\n",
       "      <td>UDP</td>\n",
       "      <td>401000000.0</td>\n",
       "      <td>401.0</td>\n",
       "      <td>0.0</td>\n",
       "      <td>-1.0</td>\n",
       "      <td>0.0</td>\n",
       "      <td>0.0</td>\n",
       "      <td>2.0</td>\n",
       "      <td>0.0</td>\n",
       "      <td>...</td>\n",
       "      <td>3.0</td>\n",
       "      <td>1.0</td>\n",
       "      <td>0.0</td>\n",
       "      <td>2.0</td>\n",
       "      <td>0.557929</td>\n",
       "      <td>0.000441</td>\n",
       "      <td>0.00008</td>\n",
       "      <td>65.0</td>\n",
       "      <td>5.0</td>\n",
       "      <td>41166.5</td>\n",
       "    </tr>\n",
       "    <tr>\n",
       "      <th>4</th>\n",
       "      <td>4</td>\n",
       "      <td>UDP</td>\n",
       "      <td>383000000.0</td>\n",
       "      <td>383.0</td>\n",
       "      <td>0.0</td>\n",
       "      <td>-1.0</td>\n",
       "      <td>0.0</td>\n",
       "      <td>0.0</td>\n",
       "      <td>2.0</td>\n",
       "      <td>0.0</td>\n",
       "      <td>...</td>\n",
       "      <td>3.0</td>\n",
       "      <td>1.0</td>\n",
       "      <td>0.0</td>\n",
       "      <td>2.0</td>\n",
       "      <td>0.557929</td>\n",
       "      <td>0.000441</td>\n",
       "      <td>0.00008</td>\n",
       "      <td>65.0</td>\n",
       "      <td>5.0</td>\n",
       "      <td>41166.5</td>\n",
       "    </tr>\n",
       "  </tbody>\n",
       "</table>\n",
       "<p>5 rows × 100 columns</p>\n",
       "</div>"
      ],
      "text/plain": [
       "   Unnamed: 0 attack_cat  Flow Bytes/s  Packet Length Max  Active Max  \\\n",
       "0           0        UDP   401000000.0              401.0         0.0   \n",
       "1           1        Syn     6000000.0                6.0         0.0   \n",
       "2           2        UDP   401000000.0              401.0         0.0   \n",
       "3           3        UDP   401000000.0              401.0         0.0   \n",
       "4           4        UDP   383000000.0              383.0         0.0   \n",
       "\n",
       "   Init Bwd Win Bytes  FIN Flag Count  Idle Mean  Flow Duration  \\\n",
       "0                -1.0             0.0        0.0            2.0   \n",
       "1                -1.0             0.0        0.0            2.0   \n",
       "2                -1.0             0.0        0.0            2.0   \n",
       "3                -1.0             0.0        0.0            2.0   \n",
       "4                -1.0             0.0        0.0            2.0   \n",
       "\n",
       "   Bwd Packets Length Total  ...  ct_src_ltm  ct_src_dport_ltm  ct_ftp_cmd  \\\n",
       "0                       0.0  ...         3.0               1.0         0.0   \n",
       "1                       0.0  ...         3.0               1.0         0.0   \n",
       "2                       0.0  ...         3.0               1.0         0.0   \n",
       "3                       0.0  ...         3.0               1.0         0.0   \n",
       "4                       0.0  ...         3.0               1.0         0.0   \n",
       "\n",
       "   dpkts    sinpkt    synack   ackdat  smean  ct_srv_src       id  \n",
       "0    2.0  0.557929  0.000441  0.00008   65.0         5.0  41166.5  \n",
       "1    2.0  0.557929  0.000441  0.00008   65.0         5.0  41166.5  \n",
       "2    2.0  0.557929  0.000441  0.00008   65.0         5.0  41166.5  \n",
       "3    2.0  0.557929  0.000441  0.00008   65.0         5.0  41166.5  \n",
       "4    2.0  0.557929  0.000441  0.00008   65.0         5.0  41166.5  \n",
       "\n",
       "[5 rows x 100 columns]"
      ]
     },
     "execution_count": 86,
     "metadata": {},
     "output_type": "execute_result"
    }
   ],
   "source": [
    "merged_df.head()"
   ]
  },
  {
   "cell_type": "code",
   "execution_count": 87,
   "metadata": {
    "tags": []
   },
   "outputs": [],
   "source": [
    "merged_df.drop('Unnamed: 0', axis=1, inplace=True)"
   ]
  },
  {
   "cell_type": "code",
   "execution_count": 88,
   "metadata": {
    "tags": []
   },
   "outputs": [
    {
     "data": {
      "text/html": [
       "<div>\n",
       "<style scoped>\n",
       "    .dataframe tbody tr th:only-of-type {\n",
       "        vertical-align: middle;\n",
       "    }\n",
       "\n",
       "    .dataframe tbody tr th {\n",
       "        vertical-align: top;\n",
       "    }\n",
       "\n",
       "    .dataframe thead th {\n",
       "        text-align: right;\n",
       "    }\n",
       "</style>\n",
       "<table border=\"1\" class=\"dataframe\">\n",
       "  <thead>\n",
       "    <tr style=\"text-align: right;\">\n",
       "      <th></th>\n",
       "      <th>attack_cat</th>\n",
       "      <th>Flow Bytes/s</th>\n",
       "      <th>Packet Length Max</th>\n",
       "      <th>Active Max</th>\n",
       "      <th>Init Bwd Win Bytes</th>\n",
       "      <th>FIN Flag Count</th>\n",
       "      <th>Idle Mean</th>\n",
       "      <th>Flow Duration</th>\n",
       "      <th>Bwd Packets Length Total</th>\n",
       "      <th>Down/Up Ratio</th>\n",
       "      <th>...</th>\n",
       "      <th>ct_src_ltm</th>\n",
       "      <th>ct_src_dport_ltm</th>\n",
       "      <th>ct_ftp_cmd</th>\n",
       "      <th>dpkts</th>\n",
       "      <th>sinpkt</th>\n",
       "      <th>synack</th>\n",
       "      <th>ackdat</th>\n",
       "      <th>smean</th>\n",
       "      <th>ct_srv_src</th>\n",
       "      <th>id</th>\n",
       "    </tr>\n",
       "  </thead>\n",
       "  <tbody>\n",
       "    <tr>\n",
       "      <th>0</th>\n",
       "      <td>UDP</td>\n",
       "      <td>401000000.0</td>\n",
       "      <td>401.0</td>\n",
       "      <td>0.0</td>\n",
       "      <td>-1.0</td>\n",
       "      <td>0.0</td>\n",
       "      <td>0.0</td>\n",
       "      <td>2.0</td>\n",
       "      <td>0.0</td>\n",
       "      <td>0.0</td>\n",
       "      <td>...</td>\n",
       "      <td>3.0</td>\n",
       "      <td>1.0</td>\n",
       "      <td>0.0</td>\n",
       "      <td>2.0</td>\n",
       "      <td>0.557929</td>\n",
       "      <td>0.000441</td>\n",
       "      <td>0.00008</td>\n",
       "      <td>65.0</td>\n",
       "      <td>5.0</td>\n",
       "      <td>41166.5</td>\n",
       "    </tr>\n",
       "    <tr>\n",
       "      <th>1</th>\n",
       "      <td>Syn</td>\n",
       "      <td>6000000.0</td>\n",
       "      <td>6.0</td>\n",
       "      <td>0.0</td>\n",
       "      <td>-1.0</td>\n",
       "      <td>0.0</td>\n",
       "      <td>0.0</td>\n",
       "      <td>2.0</td>\n",
       "      <td>0.0</td>\n",
       "      <td>0.0</td>\n",
       "      <td>...</td>\n",
       "      <td>3.0</td>\n",
       "      <td>1.0</td>\n",
       "      <td>0.0</td>\n",
       "      <td>2.0</td>\n",
       "      <td>0.557929</td>\n",
       "      <td>0.000441</td>\n",
       "      <td>0.00008</td>\n",
       "      <td>65.0</td>\n",
       "      <td>5.0</td>\n",
       "      <td>41166.5</td>\n",
       "    </tr>\n",
       "    <tr>\n",
       "      <th>2</th>\n",
       "      <td>UDP</td>\n",
       "      <td>401000000.0</td>\n",
       "      <td>401.0</td>\n",
       "      <td>0.0</td>\n",
       "      <td>-1.0</td>\n",
       "      <td>0.0</td>\n",
       "      <td>0.0</td>\n",
       "      <td>2.0</td>\n",
       "      <td>0.0</td>\n",
       "      <td>0.0</td>\n",
       "      <td>...</td>\n",
       "      <td>3.0</td>\n",
       "      <td>1.0</td>\n",
       "      <td>0.0</td>\n",
       "      <td>2.0</td>\n",
       "      <td>0.557929</td>\n",
       "      <td>0.000441</td>\n",
       "      <td>0.00008</td>\n",
       "      <td>65.0</td>\n",
       "      <td>5.0</td>\n",
       "      <td>41166.5</td>\n",
       "    </tr>\n",
       "    <tr>\n",
       "      <th>3</th>\n",
       "      <td>UDP</td>\n",
       "      <td>401000000.0</td>\n",
       "      <td>401.0</td>\n",
       "      <td>0.0</td>\n",
       "      <td>-1.0</td>\n",
       "      <td>0.0</td>\n",
       "      <td>0.0</td>\n",
       "      <td>2.0</td>\n",
       "      <td>0.0</td>\n",
       "      <td>0.0</td>\n",
       "      <td>...</td>\n",
       "      <td>3.0</td>\n",
       "      <td>1.0</td>\n",
       "      <td>0.0</td>\n",
       "      <td>2.0</td>\n",
       "      <td>0.557929</td>\n",
       "      <td>0.000441</td>\n",
       "      <td>0.00008</td>\n",
       "      <td>65.0</td>\n",
       "      <td>5.0</td>\n",
       "      <td>41166.5</td>\n",
       "    </tr>\n",
       "    <tr>\n",
       "      <th>4</th>\n",
       "      <td>UDP</td>\n",
       "      <td>383000000.0</td>\n",
       "      <td>383.0</td>\n",
       "      <td>0.0</td>\n",
       "      <td>-1.0</td>\n",
       "      <td>0.0</td>\n",
       "      <td>0.0</td>\n",
       "      <td>2.0</td>\n",
       "      <td>0.0</td>\n",
       "      <td>0.0</td>\n",
       "      <td>...</td>\n",
       "      <td>3.0</td>\n",
       "      <td>1.0</td>\n",
       "      <td>0.0</td>\n",
       "      <td>2.0</td>\n",
       "      <td>0.557929</td>\n",
       "      <td>0.000441</td>\n",
       "      <td>0.00008</td>\n",
       "      <td>65.0</td>\n",
       "      <td>5.0</td>\n",
       "      <td>41166.5</td>\n",
       "    </tr>\n",
       "  </tbody>\n",
       "</table>\n",
       "<p>5 rows × 99 columns</p>\n",
       "</div>"
      ],
      "text/plain": [
       "  attack_cat  Flow Bytes/s  Packet Length Max  Active Max  Init Bwd Win Bytes  \\\n",
       "0        UDP   401000000.0              401.0         0.0                -1.0   \n",
       "1        Syn     6000000.0                6.0         0.0                -1.0   \n",
       "2        UDP   401000000.0              401.0         0.0                -1.0   \n",
       "3        UDP   401000000.0              401.0         0.0                -1.0   \n",
       "4        UDP   383000000.0              383.0         0.0                -1.0   \n",
       "\n",
       "   FIN Flag Count  Idle Mean  Flow Duration  Bwd Packets Length Total  \\\n",
       "0             0.0        0.0            2.0                       0.0   \n",
       "1             0.0        0.0            2.0                       0.0   \n",
       "2             0.0        0.0            2.0                       0.0   \n",
       "3             0.0        0.0            2.0                       0.0   \n",
       "4             0.0        0.0            2.0                       0.0   \n",
       "\n",
       "   Down/Up Ratio  ...  ct_src_ltm  ct_src_dport_ltm  ct_ftp_cmd  dpkts  \\\n",
       "0            0.0  ...         3.0               1.0         0.0    2.0   \n",
       "1            0.0  ...         3.0               1.0         0.0    2.0   \n",
       "2            0.0  ...         3.0               1.0         0.0    2.0   \n",
       "3            0.0  ...         3.0               1.0         0.0    2.0   \n",
       "4            0.0  ...         3.0               1.0         0.0    2.0   \n",
       "\n",
       "     sinpkt    synack   ackdat  smean  ct_srv_src       id  \n",
       "0  0.557929  0.000441  0.00008   65.0         5.0  41166.5  \n",
       "1  0.557929  0.000441  0.00008   65.0         5.0  41166.5  \n",
       "2  0.557929  0.000441  0.00008   65.0         5.0  41166.5  \n",
       "3  0.557929  0.000441  0.00008   65.0         5.0  41166.5  \n",
       "4  0.557929  0.000441  0.00008   65.0         5.0  41166.5  \n",
       "\n",
       "[5 rows x 99 columns]"
      ]
     },
     "execution_count": 88,
     "metadata": {},
     "output_type": "execute_result"
    }
   ],
   "source": [
    "merged_df.head()"
   ]
  },
  {
   "cell_type": "markdown",
   "metadata": {},
   "source": [
    "<h2> Train Test Split:- </h2>"
   ]
  },
  {
   "cell_type": "code",
   "execution_count": 89,
   "metadata": {
    "tags": []
   },
   "outputs": [],
   "source": [
    "from sklearn.model_selection import train_test_split\n",
    "X_train, X_test, Y_train, Y_test = train_test_split(merged_df.drop('attack_cat', axis=1), merged_df['attack_cat'], stratify=merged_df['attack_cat'], test_size=0.20)"
   ]
  },
  {
   "cell_type": "code",
   "execution_count": 90,
   "metadata": {
    "tags": []
   },
   "outputs": [
    {
     "name": "stdout",
     "output_type": "stream",
     "text": [
      "Train data\n",
      "(168323, 98)\n",
      "(168323,)\n",
      "====================\n",
      "Test data\n",
      "(42081, 98)\n",
      "(42081,)\n"
     ]
    }
   ],
   "source": [
    "print('Train data')\n",
    "print(X_train.shape)\n",
    "print(Y_train.shape)\n",
    "print('='*20)\n",
    "print('Test data')\n",
    "print(X_test.shape)\n",
    "print(Y_test.shape)"
   ]
  },
  {
   "cell_type": "markdown",
   "metadata": {},
   "source": [
    "<h2> Applying Machine Algorithms:- </h2>"
   ]
  },
  {
   "cell_type": "markdown",
   "metadata": {},
   "source": [
    "<h5> Utility Functions:- </h5>"
   ]
  },
  {
   "cell_type": "code",
   "execution_count": 91,
   "metadata": {},
   "outputs": [],
   "source": [
    "import datetime as dt\n",
    "from sklearn.metrics import accuracy_score, confusion_matrix, roc_auc_score, precision_score, recall_score, f1_score\n",
    "from sklearn.model_selection import GridSearchCV, RandomizedSearchCV\n",
    "from sklearn.externals import joblib"
   ]
  },
  {
   "cell_type": "code",
   "execution_count": 92,
   "metadata": {
    "tags": []
   },
   "outputs": [
    {
     "name": "stdout",
     "output_type": "stream",
     "text": [
      "Requirement already satisfied: joblib in /opt/conda/lib/python3.7/site-packages (1.2.0)\n",
      "\u001b[33mWARNING: Running pip as the 'root' user can result in broken permissions and conflicting behaviour with the system package manager. It is recommended to use a virtual environment instead: https://pip.pypa.io/warnings/venv\u001b[0m\u001b[33m\n",
      "\u001b[0m\n",
      "\u001b[1m[\u001b[0m\u001b[34;49mnotice\u001b[0m\u001b[1;39;49m]\u001b[0m\u001b[39;49m A new release of pip is available: \u001b[0m\u001b[31;49m23.0.1\u001b[0m\u001b[39;49m -> \u001b[0m\u001b[32;49m23.1.2\u001b[0m\n",
      "\u001b[1m[\u001b[0m\u001b[34;49mnotice\u001b[0m\u001b[1;39;49m]\u001b[0m\u001b[39;49m To update, run: \u001b[0m\u001b[32;49mpip install --upgrade pip\u001b[0m\n"
     ]
    }
   ],
   "source": [
    "!pip install joblib"
   ]
  },
  {
   "cell_type": "code",
   "execution_count": 93,
   "metadata": {
    "tags": []
   },
   "outputs": [],
   "source": [
    "import sklearn.externals.joblib"
   ]
  },
  {
   "cell_type": "code",
   "execution_count": 94,
   "metadata": {
    "tags": []
   },
   "outputs": [],
   "source": [
    "attacks = list(set(Y_train))"
   ]
  },
  {
   "cell_type": "code",
   "execution_count": 95,
   "metadata": {
    "tags": []
   },
   "outputs": [
    {
     "data": {
      "text/plain": [
       "['Worms',\n",
       " 'Reconnaissance',\n",
       " 'MSSQL',\n",
       " 'Portmap',\n",
       " 'Exploits',\n",
       " 'NetBIOS',\n",
       " 'UDP',\n",
       " 'DoS',\n",
       " 'Normal',\n",
       " 'Generic',\n",
       " 'Benign',\n",
       " 'LDAP',\n",
       " 'Syn',\n",
       " 'Shellcode',\n",
       " 'Backdoor',\n",
       " 'UDPLag',\n",
       " 'Fuzzers',\n",
       " 'Analysis']"
      ]
     },
     "execution_count": 95,
     "metadata": {},
     "output_type": "execute_result"
    }
   ],
   "source": [
    "attacks"
   ]
  },
  {
   "cell_type": "code",
   "execution_count": 97,
   "metadata": {},
   "outputs": [],
   "source": [
    "import matplotlib.pyplot as plt\n",
    "from sklearn.metrics import accuracy_score,confusion_matrix,classification_report\n",
    "import numpy as np"
   ]
  },
  {
   "cell_type": "code",
   "execution_count": 96,
   "metadata": {
    "tags": []
   },
   "outputs": [
    {
     "data": {
      "text/plain": [
       "((168323, 98), (42081, 98))"
      ]
     },
     "execution_count": 96,
     "metadata": {},
     "output_type": "execute_result"
    }
   ],
   "source": [
    "X_train.shape,X_test.shape"
   ]
  },
  {
   "cell_type": "code",
   "execution_count": 98,
   "metadata": {
    "tags": []
   },
   "outputs": [],
   "source": [
    "#Implementing a Random Forest Classifier"
   ]
  },
  {
   "cell_type": "code",
   "execution_count": 99,
   "metadata": {
    "tags": []
   },
   "outputs": [],
   "source": [
    "from sklearn.ensemble import RandomForestClassifier"
   ]
  },
  {
   "cell_type": "code",
   "execution_count": 100,
   "metadata": {
    "tags": []
   },
   "outputs": [],
   "source": [
    "model=RandomForestClassifier()"
   ]
  },
  {
   "cell_type": "code",
   "execution_count": 101,
   "metadata": {
    "tags": []
   },
   "outputs": [
    {
     "data": {
      "text/plain": [
       "RandomForestClassifier(bootstrap=True, ccp_alpha=0.0, class_weight=None,\n",
       "                       criterion='gini', max_depth=None, max_features='auto',\n",
       "                       max_leaf_nodes=None, max_samples=None,\n",
       "                       min_impurity_decrease=0.0, min_impurity_split=None,\n",
       "                       min_samples_leaf=1, min_samples_split=2,\n",
       "                       min_weight_fraction_leaf=0.0, n_estimators=100,\n",
       "                       n_jobs=None, oob_score=False, random_state=None,\n",
       "                       verbose=0, warm_start=False)"
      ]
     },
     "execution_count": 101,
     "metadata": {},
     "output_type": "execute_result"
    }
   ],
   "source": [
    "model.fit(X_train,Y_train)"
   ]
  },
  {
   "cell_type": "code",
   "execution_count": 102,
   "metadata": {
    "tags": []
   },
   "outputs": [
    {
     "data": {
      "text/plain": [
       "array(['Normal', 'Syn', 'Normal', ..., 'Benign', 'Benign', 'Benign'],\n",
       "      dtype=object)"
      ]
     },
     "execution_count": 102,
     "metadata": {},
     "output_type": "execute_result"
    }
   ],
   "source": [
    "Y_pred=model.predict(X_test)\n",
    "Y_pred"
   ]
  },
  {
   "cell_type": "code",
   "execution_count": 103,
   "metadata": {
    "tags": []
   },
   "outputs": [
    {
     "name": "stdout",
     "output_type": "stream",
     "text": [
      "                precision    recall  f1-score   support\n",
      "\n",
      "      Analysis       0.07      0.08      0.08       119\n",
      "      Backdoor       0.00      0.00      0.00       127\n",
      "        Benign       1.00      1.00      1.00      9285\n",
      "           DoS       0.36      0.43      0.39       683\n",
      "      Exploits       0.78      0.71      0.75      2452\n",
      "       Fuzzers       0.89      0.85      0.87      1263\n",
      "       Generic       0.98      1.00      0.99      3689\n",
      "          LDAP       0.95      0.95      0.95       454\n",
      "         MSSQL       0.96      0.95      0.95      1799\n",
      "       NetBIOS       0.65      0.59      0.62       190\n",
      "        Normal       1.00      1.00      1.00      7400\n",
      "       Portmap       0.43      0.53      0.48       146\n",
      "Reconnaissance       0.84      0.87      0.85       675\n",
      "     Shellcode       0.57      0.74      0.64        58\n",
      "           Syn       1.00      1.00      1.00     10067\n",
      "           UDP       0.98      0.99      0.98      3671\n",
      "        UDPLag       0.17      0.67      0.27         3\n",
      "         Worms       0.00      0.00      0.00         0\n",
      "\n",
      "      accuracy                           0.95     42081\n",
      "     macro avg       0.65      0.69      0.66     42081\n",
      "  weighted avg       0.95      0.95      0.95     42081\n",
      "\n"
     ]
    }
   ],
   "source": [
    "accuracy_score(Y_pred,Y_test)\n",
    "print(classification_report(Y_pred,Y_test))"
   ]
  },
  {
   "cell_type": "code",
   "execution_count": 104,
   "metadata": {
    "tags": []
   },
   "outputs": [
    {
     "data": {
      "text/plain": [
       "array([[   10,    59,     0,    17,    11,    21,     0,     0,     0,\n",
       "            0,     0,     0,     1,     0,     0,     0,     0,     0],\n",
       "       [   70,     0,     0,     9,    47,     1,     0,     0,     0,\n",
       "            0,     0,     0,     0,     0,     0,     0,     0,     0],\n",
       "       [    0,     0,  9279,     0,     0,     0,     0,     0,     0,\n",
       "            0,     0,     2,     0,     0,     4,     0,     0,     0],\n",
       "       [   19,     7,     0,   296,   284,    30,     9,     0,     0,\n",
       "            0,     0,     0,    33,     5,     0,     0,     0,     0],\n",
       "       [   20,    46,     0,   410,  1747,    76,    73,     0,     0,\n",
       "            0,     0,     0,    63,     9,     0,     0,     0,     8],\n",
       "       [   16,     3,     0,    43,    87,  1074,     9,     0,     0,\n",
       "            0,     0,     0,    16,    15,     0,     0,     0,     0],\n",
       "       [    0,     0,     0,     3,     5,     0,  3680,     0,     0,\n",
       "            0,     0,     0,     0,     0,     0,     0,     0,     1],\n",
       "       [    0,     0,     0,     0,     0,     0,     0,   433,    21,\n",
       "            0,     0,     0,     0,     0,     0,     0,     0,     0],\n",
       "       [    0,     0,     1,     0,     0,     0,     0,    21,  1707,\n",
       "            0,     0,     3,     0,     0,     2,    64,     1,     0],\n",
       "       [    0,     0,     0,     0,     0,     0,     0,     0,     0,\n",
       "          113,     0,    75,     0,     0,     0,     2,     0,     0],\n",
       "       [    0,     0,     0,     0,     0,     0,     0,     0,     0,\n",
       "            0,  7400,     0,     0,     0,     0,     0,     0,     0],\n",
       "       [    0,     0,     1,     0,     0,     0,     0,     0,     2,\n",
       "           61,     0,    77,     0,     0,     5,     0,     0,     0],\n",
       "       [    0,     1,     0,    37,    40,     9,     0,     0,     0,\n",
       "            0,     0,     0,   584,     4,     0,     0,     0,     0],\n",
       "       [    0,     1,     0,     3,     5,     1,     3,     0,     0,\n",
       "            0,     0,     0,     2,    43,     0,     0,     0,     0],\n",
       "       [    0,     0,     3,     0,     0,     0,     0,     0,     3,\n",
       "            0,     0,    21,     0,     0, 10031,     3,     6,     0],\n",
       "       [    0,     0,     0,     0,     0,     0,     0,     0,    44,\n",
       "            1,     0,     0,     0,     0,     1,  3622,     3,     0],\n",
       "       [    0,     0,     0,     0,     0,     0,     0,     0,     0,\n",
       "            0,     0,     0,     0,     0,     0,     1,     2,     0],\n",
       "       [    0,     0,     0,     0,     0,     0,     0,     0,     0,\n",
       "            0,     0,     0,     0,     0,     0,     0,     0,     0]])"
      ]
     },
     "execution_count": 104,
     "metadata": {},
     "output_type": "execute_result"
    }
   ],
   "source": [
    "confusion_matrix(Y_pred,Y_test)"
   ]
  },
  {
   "cell_type": "code",
   "execution_count": 105,
   "metadata": {
    "tags": []
   },
   "outputs": [],
   "source": [
    "#Thus, Random Forest Classifier shows 95% accuracy on the test set"
   ]
  },
  {
   "cell_type": "code",
   "execution_count": 106,
   "metadata": {
    "tags": []
   },
   "outputs": [],
   "source": [
    "#Implementing a KNN"
   ]
  },
  {
   "cell_type": "code",
   "execution_count": 107,
   "metadata": {
    "tags": []
   },
   "outputs": [],
   "source": [
    "from sklearn.neighbors import KNeighborsClassifier"
   ]
  },
  {
   "cell_type": "code",
   "execution_count": 108,
   "metadata": {},
   "outputs": [],
   "source": [
    "knn=KNeighborsClassifier(n_neighbors=10)"
   ]
  },
  {
   "cell_type": "code",
   "execution_count": 109,
   "metadata": {
    "tags": []
   },
   "outputs": [
    {
     "data": {
      "text/plain": [
       "KNeighborsClassifier(algorithm='auto', leaf_size=30, metric='minkowski',\n",
       "                     metric_params=None, n_jobs=None, n_neighbors=10, p=2,\n",
       "                     weights='uniform')"
      ]
     },
     "execution_count": 109,
     "metadata": {},
     "output_type": "execute_result"
    }
   ],
   "source": [
    "knn.fit(X_train,Y_train)"
   ]
  },
  {
   "cell_type": "code",
   "execution_count": 110,
   "metadata": {
    "tags": []
   },
   "outputs": [
    {
     "data": {
      "text/plain": [
       "array(['Exploits', 'Syn', 'Normal', ..., 'Benign', 'Benign', 'Benign'],\n",
       "      dtype=object)"
      ]
     },
     "execution_count": 110,
     "metadata": {},
     "output_type": "execute_result"
    }
   ],
   "source": [
    "Y_pred_knn=knn.predict(X_test)\n",
    "Y_pred_knn"
   ]
  },
  {
   "cell_type": "code",
   "execution_count": 113,
   "metadata": {
    "tags": []
   },
   "outputs": [
    {
     "name": "stdout",
     "output_type": "stream",
     "text": [
      "                precision    recall  f1-score   support\n",
      "\n",
      "      Analysis       0.01      0.02      0.01        59\n",
      "      Backdoor       0.00      0.00      0.00        20\n",
      "        Benign       0.98      0.99      0.98      9254\n",
      "           DoS       0.32      0.41      0.36       640\n",
      "      Exploits       0.28      0.28      0.28      2192\n",
      "       Fuzzers       0.17      0.33      0.23       646\n",
      "       Generic       0.96      0.99      0.98      3669\n",
      "          LDAP       0.87      0.87      0.87       455\n",
      "         MSSQL       0.94      0.87      0.91      1911\n",
      "       NetBIOS       0.79      0.57      0.66       241\n",
      "        Normal       0.89      0.74      0.81      8944\n",
      "       Portmap       0.21      0.41      0.28        93\n",
      "Reconnaissance       0.38      0.92      0.53       288\n",
      "     Shellcode       0.03      0.40      0.05         5\n",
      "           Syn       0.99      0.99      0.99     10082\n",
      "           UDP       0.94      0.97      0.96      3579\n",
      "        UDPLag       0.17      0.67      0.27         3\n",
      "         Worms       0.00      0.00      0.00         0\n",
      "\n",
      "      accuracy                           0.86     42081\n",
      "     macro avg       0.50      0.58      0.51     42081\n",
      "  weighted avg       0.89      0.86      0.87     42081\n",
      "\n"
     ]
    }
   ],
   "source": [
    "accuracy_score(Y_pred_knn,Y_test)\n",
    "print(classification_report(Y_pred_knn,Y_test))"
   ]
  },
  {
   "cell_type": "code",
   "execution_count": 114,
   "metadata": {
    "tags": []
   },
   "outputs": [
    {
     "data": {
      "text/plain": [
       "array([[   1,    7,    0,    3,   34,   13,    0,    0,    0,    0,    1,\n",
       "           0,    0,    0,    0,    0,    0,    0],\n",
       "       [   2,    0,    0,    4,    9,    5,    0,    0,    0,    0,    0,\n",
       "           0,    0,    0,    0,    0,    0,    0],\n",
       "       [   0,    0, 9116,    0,    0,    0,    0,    3,    3,    1,    3,\n",
       "          14,    0,    0,   92,   21,    1,    0],\n",
       "       [  20,    4,    0,  264,  243,   42,    8,    0,    0,    0,   21,\n",
       "           0,   34,    4,    0,    0,    0,    0],\n",
       "       [  73,   66,    0,  315,  619,  339,   28,    0,    0,    0,  612,\n",
       "           0,  122,   15,    0,    0,    0,    3],\n",
       "       [  31,   34,    0,   46,  150,  211,    4,    0,    0,    0,  147,\n",
       "           0,   17,    6,    0,    0,    0,    0],\n",
       "       [   0,    0,    0,    6,    5,    6, 3636,    0,    0,    0,    9,\n",
       "           0,    7,    0,    0,    0,    0,    0],\n",
       "       [   0,    0,    6,    0,    0,    0,    0,  394,   34,    6,    0,\n",
       "           1,    0,    0,    0,   14,    0,    0],\n",
       "       [   0,    0,   26,    0,    0,    0,    0,   47, 1672,    5,    0,\n",
       "          24,    0,    0,    3,  134,    0,    0],\n",
       "       [   0,    0,    4,    0,    0,    0,    0,    1,    2,  138,    0,\n",
       "          74,    0,    0,    2,   20,    0,    0],\n",
       "       [   8,    6,    0,  179, 1162,  590,   95,    0,    0,    0, 6596,\n",
       "           0,  255,   47,    0,    0,    0,    6],\n",
       "       [   0,    0,    6,    0,    0,    0,    0,    2,   13,   18,    0,\n",
       "          38,    0,    0,    3,   12,    1,    0],\n",
       "       [   0,    0,    0,    1,    4,    5,    2,    0,    0,    0,   10,\n",
       "           0,  264,    2,    0,    0,    0,    0],\n",
       "       [   0,    0,    0,    0,    0,    1,    1,    0,    0,    0,    1,\n",
       "           0,    0,    2,    0,    0,    0,    0],\n",
       "       [   0,    0,  117,    0,    0,    0,    0,    0,    4,    0,    0,\n",
       "          14,    0,    0, 9942,    3,    2,    0],\n",
       "       [   0,    0,    9,    0,    0,    0,    0,    7,   49,    7,    0,\n",
       "          13,    0,    0,    0, 3488,    6,    0],\n",
       "       [   0,    0,    0,    0,    0,    0,    0,    0,    0,    0,    0,\n",
       "           0,    0,    0,    1,    0,    2,    0],\n",
       "       [   0,    0,    0,    0,    0,    0,    0,    0,    0,    0,    0,\n",
       "           0,    0,    0,    0,    0,    0,    0]])"
      ]
     },
     "execution_count": 114,
     "metadata": {},
     "output_type": "execute_result"
    }
   ],
   "source": [
    "confusion_matrix(Y_pred_knn,Y_test)"
   ]
  },
  {
   "cell_type": "code",
   "execution_count": 115,
   "metadata": {
    "tags": []
   },
   "outputs": [],
   "source": [
    "#Thus, the KNN Classifier shows 86% accuracy on the test set, i.e. 20% higher accuracy than the Random Forest Classifier"
   ]
  },
  {
   "cell_type": "code",
   "execution_count": 116,
   "metadata": {
    "tags": []
   },
   "outputs": [],
   "source": [
    "#Implementing a Decision Tree"
   ]
  },
  {
   "cell_type": "code",
   "execution_count": 117,
   "metadata": {
    "tags": []
   },
   "outputs": [],
   "source": [
    "from sklearn.tree import DecisionTreeClassifier"
   ]
  },
  {
   "cell_type": "code",
   "execution_count": 118,
   "metadata": {
    "tags": []
   },
   "outputs": [],
   "source": [
    "dtc=DecisionTreeClassifier()"
   ]
  },
  {
   "cell_type": "code",
   "execution_count": 119,
   "metadata": {
    "tags": []
   },
   "outputs": [
    {
     "data": {
      "text/plain": [
       "DecisionTreeClassifier(ccp_alpha=0.0, class_weight=None, criterion='gini',\n",
       "                       max_depth=None, max_features=None, max_leaf_nodes=None,\n",
       "                       min_impurity_decrease=0.0, min_impurity_split=None,\n",
       "                       min_samples_leaf=1, min_samples_split=2,\n",
       "                       min_weight_fraction_leaf=0.0, presort='deprecated',\n",
       "                       random_state=None, splitter='best')"
      ]
     },
     "execution_count": 119,
     "metadata": {},
     "output_type": "execute_result"
    }
   ],
   "source": [
    "dtc.fit(X_train,Y_train)"
   ]
  },
  {
   "cell_type": "code",
   "execution_count": 120,
   "metadata": {
    "tags": []
   },
   "outputs": [
    {
     "data": {
      "text/plain": [
       "array(['Normal', 'Syn', 'Normal', ..., 'Benign', 'Benign', 'Benign'],\n",
       "      dtype=object)"
      ]
     },
     "execution_count": 120,
     "metadata": {},
     "output_type": "execute_result"
    }
   ],
   "source": [
    "Y_pred_dtc=dtc.predict(X_test)\n",
    "Y_pred_dtc"
   ]
  },
  {
   "cell_type": "code",
   "execution_count": 121,
   "metadata": {
    "tags": []
   },
   "outputs": [
    {
     "name": "stdout",
     "output_type": "stream",
     "text": [
      "                precision    recall  f1-score   support\n",
      "\n",
      "      Analysis       0.09      0.09      0.09       134\n",
      "      Backdoor       0.09      0.09      0.09       119\n",
      "        Benign       1.00      1.00      1.00      9283\n",
      "           DoS       0.38      0.39      0.39       798\n",
      "      Exploits       0.71      0.71      0.71      2231\n",
      "       Fuzzers       0.83      0.82      0.82      1219\n",
      "       Generic       0.98      0.98      0.98      3765\n",
      "          LDAP       0.95      0.93      0.94       464\n",
      "         MSSQL       0.95      0.94      0.94      1784\n",
      "       NetBIOS       0.77      0.60      0.68       225\n",
      "        Normal       1.00      1.00      1.00      7400\n",
      "       Portmap       0.41      0.58      0.48       126\n",
      "Reconnaissance       0.84      0.83      0.84       702\n",
      "     Shellcode       0.57      0.51      0.53        85\n",
      "           Syn       1.00      1.00      1.00     10056\n",
      "           UDP       0.98      0.98      0.98      3673\n",
      "        UDPLag       0.25      0.75      0.38         4\n",
      "         Worms       0.44      0.31      0.36        13\n",
      "\n",
      "      accuracy                           0.95     42081\n",
      "     macro avg       0.68      0.70      0.68     42081\n",
      "  weighted avg       0.95      0.95      0.95     42081\n",
      "\n"
     ]
    }
   ],
   "source": [
    "accuracy_score(Y_pred_dtc,Y_test)\n",
    "print(classification_report(Y_pred_dtc,Y_test))"
   ]
  },
  {
   "cell_type": "code",
   "execution_count": 122,
   "metadata": {
    "tags": []
   },
   "outputs": [
    {
     "data": {
      "text/plain": [
       "array([[   12,    45,     0,    19,    16,    40,     0,     0,     0,\n",
       "            0,     0,     0,     2,     0,     0,     0,     0,     0],\n",
       "       [   48,    11,     0,    11,    43,     6,     0,     0,     0,\n",
       "            0,     0,     0,     0,     0,     0,     0,     0,     0],\n",
       "       [    0,     0,  9272,     0,     0,     0,     0,     0,     0,\n",
       "            1,     0,     3,     0,     0,     7,     0,     0,     0],\n",
       "       [   18,     9,     0,   314,   357,    42,    16,     0,     0,\n",
       "            0,     0,     0,    34,     7,     0,     0,     0,     1],\n",
       "       [   24,    40,     0,   372,  1589,    92,    41,     0,     0,\n",
       "            0,     0,     0,    56,    14,     0,     0,     0,     3],\n",
       "       [   33,     9,     0,    45,    97,  1002,     8,     0,     0,\n",
       "            0,     0,     0,    17,     8,     0,     0,     0,     0],\n",
       "       [    0,     0,     0,    16,    33,     7,  3704,     0,     0,\n",
       "            0,     0,     0,     3,     1,     0,     0,     0,     1],\n",
       "       [    0,     0,     0,     0,     0,     0,     0,   431,    33,\n",
       "            0,     0,     0,     0,     0,     0,     0,     0,     0],\n",
       "       [    0,     0,     1,     0,     0,     0,     0,    23,  1681,\n",
       "            0,     0,     3,     0,     0,     4,    72,     0,     0],\n",
       "       [    0,     0,     0,     0,     0,     0,     0,     0,     0,\n",
       "          135,     0,    85,     0,     0,     0,     5,     0,     0],\n",
       "       [    0,     0,     0,     0,     0,     0,     0,     0,     0,\n",
       "            0,  7400,     0,     0,     0,     0,     0,     0,     0],\n",
       "       [    0,     0,     2,     0,     0,     0,     0,     0,     6,\n",
       "           39,     0,    73,     0,     0,     6,     0,     0,     0],\n",
       "       [    0,     1,     0,    35,    65,    13,     0,     0,     0,\n",
       "            0,     0,     0,   585,     3,     0,     0,     0,     0],\n",
       "       [    0,     2,     0,     5,    19,    10,     4,     0,     0,\n",
       "            0,     0,     0,     2,    43,     0,     0,     0,     0],\n",
       "       [    0,     0,     7,     0,     0,     0,     0,     0,     3,\n",
       "            0,     0,    14,     0,     0, 10024,     2,     6,     0],\n",
       "       [    0,     0,     2,     0,     0,     0,     0,     0,    53,\n",
       "            0,     0,     0,     0,     0,     2,  3613,     3,     0],\n",
       "       [    0,     0,     0,     0,     0,     0,     0,     0,     1,\n",
       "            0,     0,     0,     0,     0,     0,     0,     3,     0],\n",
       "       [    0,     0,     0,     1,     7,     0,     1,     0,     0,\n",
       "            0,     0,     0,     0,     0,     0,     0,     0,     4]])"
      ]
     },
     "execution_count": 122,
     "metadata": {},
     "output_type": "execute_result"
    }
   ],
   "source": [
    "confusion_matrix(Y_pred_dtc,Y_test)"
   ]
  },
  {
   "cell_type": "code",
   "execution_count": 123,
   "metadata": {
    "tags": []
   },
   "outputs": [],
   "source": [
    "#Thus, the Decision tree Classifier shows 95% accuracy on the test set."
   ]
  },
  {
   "cell_type": "code",
   "execution_count": 124,
   "metadata": {
    "tags": []
   },
   "outputs": [],
   "source": [
    "#Implementing a Naive Bayes Clasifier. "
   ]
  },
  {
   "cell_type": "code",
   "execution_count": 125,
   "metadata": {
    "tags": []
   },
   "outputs": [],
   "source": [
    "from sklearn.naive_bayes import GaussianNB"
   ]
  },
  {
   "cell_type": "code",
   "execution_count": 126,
   "metadata": {
    "tags": []
   },
   "outputs": [],
   "source": [
    "nb=GaussianNB()"
   ]
  },
  {
   "cell_type": "code",
   "execution_count": 127,
   "metadata": {
    "tags": []
   },
   "outputs": [
    {
     "data": {
      "text/plain": [
       "GaussianNB(priors=None, var_smoothing=1e-09)"
      ]
     },
     "execution_count": 127,
     "metadata": {},
     "output_type": "execute_result"
    }
   ],
   "source": [
    "nb.fit(X_train,Y_train)"
   ]
  },
  {
   "cell_type": "code",
   "execution_count": 128,
   "metadata": {
    "tags": []
   },
   "outputs": [
    {
     "data": {
      "text/plain": [
       "array(['Reconnaissance', 'NetBIOS', 'Normal', ..., 'UDPLag', 'Benign',\n",
       "       'UDPLag'], dtype='<U14')"
      ]
     },
     "execution_count": 128,
     "metadata": {},
     "output_type": "execute_result"
    }
   ],
   "source": [
    "Y_pred_nb=nb.predict(X_test)\n",
    "Y_pred_nb"
   ]
  },
  {
   "cell_type": "code",
   "execution_count": 129,
   "metadata": {
    "tags": []
   },
   "outputs": [
    {
     "name": "stdout",
     "output_type": "stream",
     "text": [
      "                precision    recall  f1-score   support\n",
      "\n",
      "      Analysis       0.01      0.02      0.01        44\n",
      "      Backdoor       0.00      0.00      0.00         1\n",
      "        Benign       0.09      1.00      0.16       825\n",
      "           DoS       0.00      0.04      0.00        49\n",
      "      Exploits       0.03      0.56      0.06       119\n",
      "       Fuzzers       0.12      0.29      0.17       500\n",
      "       Generic       0.97      0.50      0.66      7249\n",
      "          LDAP       0.73      0.47      0.58       697\n",
      "         MSSQL       0.09      0.55      0.15       281\n",
      "       NetBIOS       0.00      0.00      0.00       656\n",
      "        Normal       0.35      0.88      0.50      2891\n",
      "       Portmap       0.01      0.06      0.01        17\n",
      "Reconnaissance       0.50      0.06      0.11      5609\n",
      "     Shellcode       0.01      0.33      0.03         3\n",
      "           Syn       0.77      0.84      0.80      9135\n",
      "           UDP       0.06      1.00      0.11       215\n",
      "        UDPLag       0.92      0.00      0.00     13789\n",
      "         Worms       0.00      0.00      0.00         1\n",
      "\n",
      "      accuracy                           0.38     42081\n",
      "     macro avg       0.26      0.37      0.19     42081\n",
      "  weighted avg       0.74      0.38      0.35     42081\n",
      "\n"
     ]
    }
   ],
   "source": [
    "accuracy_score(Y_pred_nb,Y_test)\n",
    "print(classification_report(Y_pred_nb,Y_test))"
   ]
  },
  {
   "cell_type": "code",
   "execution_count": 130,
   "metadata": {},
   "outputs": [
    {
     "data": {
      "text/plain": [
       "array([[   1,    3,    0,    7,    7,    7,    0,    0,    0,    0,    3,\n",
       "           0,   16,    0,    0,    0,    0,    0],\n",
       "       [   0,    0,    0,    0,    0,    0,    0,    0,    0,    0,    1,\n",
       "           0,    0,    0,    0,    0,    0,    0],\n",
       "       [   0,    0,  822,    0,    0,    0,    0,    0,    0,    0,    0,\n",
       "           0,    0,    0,    3,    0,    0,    0],\n",
       "       [   0,    0,    0,    2,    7,    0,    4,    0,    0,    0,   35,\n",
       "           0,    0,    0,    0,    0,    0,    1],\n",
       "       [   0,    0,    0,   18,   67,    6,    1,    0,    0,    0,   25,\n",
       "           0,    1,    0,    0,    0,    0,    1],\n",
       "       [   0,    0,    0,   10,   56,  145,   15,    0,    0,    0,  269,\n",
       "           0,    1,    4,    0,    0,    0,    0],\n",
       "       [ 125,  107,    0,  587,  687,  393, 3659,    0,    0,    0, 1323,\n",
       "           0,  331,   37,    0,    0,    0,    0],\n",
       "       [   0,    0,   16,    0,    0,    0,    0,  331,  349,    0,    0,\n",
       "           1,    0,    0,    0,    0,    0,    0],\n",
       "       [   0,    0,   41,    0,    0,    0,    0,   19,  154,   10,    0,\n",
       "           9,    0,    0,   23,   25,    0,    0],\n",
       "       [   0,    0,  174,    0,    0,    0,    0,    0,    3,    0,    0,\n",
       "           0,    0,    0,  479,    0,    0,    0],\n",
       "       [   0,    0,    0,   19,  291,    0,   25,    0,    0,    0, 2554,\n",
       "           0,    1,    0,    0,    0,    0,    1],\n",
       "       [   0,    0,   15,    0,    0,    0,    0,    0,    0,    0,    0,\n",
       "           1,    0,    0,    1,    0,    0,    0],\n",
       "       [   9,    7,    0,  175, 1111,  661,   70,    0,    0,    0, 3187,\n",
       "           0,  349,   34,    0,    0,    0,    6],\n",
       "       [   0,    0,    0,    0,    0,    0,    0,    0,    0,    0,    2,\n",
       "           0,    0,    1,    0,    0,    0,    0],\n",
       "       [   0,    0, 1438,    0,    0,    0,    0,    0,    0,    3,    0,\n",
       "           4,    0,    0, 7689,    0,    1,    0],\n",
       "       [   0,    0,    1,    0,    0,    0,    0,    0,    0,    0,    0,\n",
       "           0,    0,    0,    0,  214,    0,    0],\n",
       "       [   0,    0, 6777,    0,    0,    0,    0,  104, 1271,  162,    0,\n",
       "         163,    0,    0, 1848, 3453,   11,    0],\n",
       "       [   0,    0,    0,    0,    0,    0,    0,    0,    0,    0,    1,\n",
       "           0,    0,    0,    0,    0,    0,    0]])"
      ]
     },
     "execution_count": 130,
     "metadata": {},
     "output_type": "execute_result"
    }
   ],
   "source": [
    "confusion_matrix(Y_pred_nb,Y_test)"
   ]
  },
  {
   "cell_type": "code",
   "execution_count": 132,
   "metadata": {
    "tags": []
   },
   "outputs": [],
   "source": [
    "#Random Forest and Decision Tree Classifiers shows the best performance with 95% accuracy followed by  KNN with 85% accuracy, and NB with 38% accuracy. Thus, RF and DT Classifi"
   ]
  },
  {
   "cell_type": "code",
   "execution_count": 131,
   "metadata": {
    "tags": []
   },
   "outputs": [],
   "source": [
    "#We Now study the how the same datasets can be used in a neural network model."
   ]
  },
  {
   "cell_type": "code",
   "execution_count": 133,
   "metadata": {
    "tags": []
   },
   "outputs": [
    {
     "name": "stdout",
     "output_type": "stream",
     "text": [
      "Requirement already satisfied: keras in /opt/conda/lib/python3.7/site-packages (2.11.0)\n",
      "\u001b[33mWARNING: Running pip as the 'root' user can result in broken permissions and conflicting behaviour with the system package manager. It is recommended to use a virtual environment instead: https://pip.pypa.io/warnings/venv\u001b[0m\u001b[33m\n",
      "\u001b[0m\n",
      "\u001b[1m[\u001b[0m\u001b[34;49mnotice\u001b[0m\u001b[1;39;49m]\u001b[0m\u001b[39;49m A new release of pip is available: \u001b[0m\u001b[31;49m23.0.1\u001b[0m\u001b[39;49m -> \u001b[0m\u001b[32;49m23.1.2\u001b[0m\n",
      "\u001b[1m[\u001b[0m\u001b[34;49mnotice\u001b[0m\u001b[1;39;49m]\u001b[0m\u001b[39;49m To update, run: \u001b[0m\u001b[32;49mpip install --upgrade pip\u001b[0m\n"
     ]
    }
   ],
   "source": [
    "!pip install keras"
   ]
  },
  {
   "cell_type": "code",
   "execution_count": 134,
   "metadata": {
    "tags": []
   },
   "outputs": [
    {
     "name": "stdout",
     "output_type": "stream",
     "text": [
      "Requirement already satisfied: tensorflow in /opt/conda/lib/python3.7/site-packages (2.11.0)\n",
      "Requirement already satisfied: tensorflow-io-gcs-filesystem>=0.23.1 in /opt/conda/lib/python3.7/site-packages (from tensorflow) (0.32.0)\n",
      "Requirement already satisfied: wrapt>=1.11.0 in /opt/conda/lib/python3.7/site-packages (from tensorflow) (1.11.2)\n",
      "Requirement already satisfied: flatbuffers>=2.0 in /opt/conda/lib/python3.7/site-packages (from tensorflow) (23.3.3)\n",
      "Requirement already satisfied: astunparse>=1.6.0 in /opt/conda/lib/python3.7/site-packages (from tensorflow) (1.6.3)\n",
      "Requirement already satisfied: packaging in /opt/conda/lib/python3.7/site-packages (from tensorflow) (23.1)\n",
      "Requirement already satisfied: numpy>=1.20 in /opt/conda/lib/python3.7/site-packages (from tensorflow) (1.21.6)\n",
      "Requirement already satisfied: h5py>=2.9.0 in /opt/conda/lib/python3.7/site-packages (from tensorflow) (2.10.0)\n",
      "Requirement already satisfied: google-pasta>=0.1.1 in /opt/conda/lib/python3.7/site-packages (from tensorflow) (0.2.0)\n",
      "Requirement already satisfied: keras<2.12,>=2.11.0 in /opt/conda/lib/python3.7/site-packages (from tensorflow) (2.11.0)\n",
      "Requirement already satisfied: six>=1.12.0 in /opt/conda/lib/python3.7/site-packages (from tensorflow) (1.14.0)\n",
      "Requirement already satisfied: grpcio<2.0,>=1.24.3 in /opt/conda/lib/python3.7/site-packages (from tensorflow) (1.54.0)\n",
      "Requirement already satisfied: gast<=0.4.0,>=0.2.1 in /opt/conda/lib/python3.7/site-packages (from tensorflow) (0.4.0)\n",
      "Requirement already satisfied: libclang>=13.0.0 in /opt/conda/lib/python3.7/site-packages (from tensorflow) (16.0.0)\n",
      "Requirement already satisfied: protobuf<3.20,>=3.9.2 in /opt/conda/lib/python3.7/site-packages (from tensorflow) (3.19.6)\n",
      "Requirement already satisfied: setuptools in /opt/conda/lib/python3.7/site-packages (from tensorflow) (59.3.0)\n",
      "Requirement already satisfied: absl-py>=1.0.0 in /opt/conda/lib/python3.7/site-packages (from tensorflow) (1.4.0)\n",
      "Requirement already satisfied: tensorflow-estimator<2.12,>=2.11.0 in /opt/conda/lib/python3.7/site-packages (from tensorflow) (2.11.0)\n",
      "Requirement already satisfied: tensorboard<2.12,>=2.11 in /opt/conda/lib/python3.7/site-packages (from tensorflow) (2.11.2)\n",
      "Requirement already satisfied: opt-einsum>=2.3.2 in /opt/conda/lib/python3.7/site-packages (from tensorflow) (3.3.0)\n",
      "Requirement already satisfied: termcolor>=1.1.0 in /opt/conda/lib/python3.7/site-packages (from tensorflow) (2.3.0)\n",
      "Requirement already satisfied: typing-extensions>=3.6.6 in /opt/conda/lib/python3.7/site-packages (from tensorflow) (4.4.0)\n",
      "Requirement already satisfied: wheel<1.0,>=0.23.0 in /opt/conda/lib/python3.7/site-packages (from astunparse>=1.6.0->tensorflow) (0.40.0)\n",
      "Requirement already satisfied: markdown>=2.6.8 in /opt/conda/lib/python3.7/site-packages (from tensorboard<2.12,>=2.11->tensorflow) (3.4.3)\n",
      "Requirement already satisfied: google-auth-oauthlib<0.5,>=0.4.1 in /opt/conda/lib/python3.7/site-packages (from tensorboard<2.12,>=2.11->tensorflow) (0.4.6)\n",
      "Requirement already satisfied: tensorboard-data-server<0.7.0,>=0.6.0 in /opt/conda/lib/python3.7/site-packages (from tensorboard<2.12,>=2.11->tensorflow) (0.6.1)\n",
      "Requirement already satisfied: requests<3,>=2.21.0 in /opt/conda/lib/python3.7/site-packages (from tensorboard<2.12,>=2.11->tensorflow) (2.28.2)\n",
      "Requirement already satisfied: tensorboard-plugin-wit>=1.6.0 in /opt/conda/lib/python3.7/site-packages (from tensorboard<2.12,>=2.11->tensorflow) (1.8.1)\n",
      "Requirement already satisfied: werkzeug>=1.0.1 in /opt/conda/lib/python3.7/site-packages (from tensorboard<2.12,>=2.11->tensorflow) (2.2.3)\n",
      "Requirement already satisfied: google-auth<3,>=1.6.3 in /opt/conda/lib/python3.7/site-packages (from tensorboard<2.12,>=2.11->tensorflow) (2.17.3)\n",
      "Requirement already satisfied: cachetools<6.0,>=2.0.0 in /opt/conda/lib/python3.7/site-packages (from google-auth<3,>=1.6.3->tensorboard<2.12,>=2.11->tensorflow) (5.3.0)\n",
      "Requirement already satisfied: pyasn1-modules>=0.2.1 in /opt/conda/lib/python3.7/site-packages (from google-auth<3,>=1.6.3->tensorboard<2.12,>=2.11->tensorflow) (0.3.0)\n",
      "Requirement already satisfied: rsa<5,>=3.1.4 in /opt/conda/lib/python3.7/site-packages (from google-auth<3,>=1.6.3->tensorboard<2.12,>=2.11->tensorflow) (4.9)\n",
      "Requirement already satisfied: requests-oauthlib>=0.7.0 in /opt/conda/lib/python3.7/site-packages (from google-auth-oauthlib<0.5,>=0.4.1->tensorboard<2.12,>=2.11->tensorflow) (1.3.1)\n",
      "Requirement already satisfied: importlib-metadata>=4.4 in /opt/conda/lib/python3.7/site-packages (from markdown>=2.6.8->tensorboard<2.12,>=2.11->tensorflow) (6.3.0)\n",
      "Requirement already satisfied: urllib3<1.27,>=1.21.1 in /opt/conda/lib/python3.7/site-packages (from requests<3,>=2.21.0->tensorboard<2.12,>=2.11->tensorflow) (1.26.15)\n",
      "Requirement already satisfied: idna<4,>=2.5 in /opt/conda/lib/python3.7/site-packages (from requests<3,>=2.21.0->tensorboard<2.12,>=2.11->tensorflow) (2.8)\n",
      "Requirement already satisfied: certifi>=2017.4.17 in /opt/conda/lib/python3.7/site-packages (from requests<3,>=2.21.0->tensorboard<2.12,>=2.11->tensorflow) (2022.12.7)\n",
      "Requirement already satisfied: charset-normalizer<4,>=2 in /opt/conda/lib/python3.7/site-packages (from requests<3,>=2.21.0->tensorboard<2.12,>=2.11->tensorflow) (2.0.4)\n",
      "Requirement already satisfied: MarkupSafe>=2.1.1 in /opt/conda/lib/python3.7/site-packages (from werkzeug>=1.0.1->tensorboard<2.12,>=2.11->tensorflow) (2.1.2)\n",
      "Requirement already satisfied: zipp>=0.5 in /opt/conda/lib/python3.7/site-packages (from importlib-metadata>=4.4->markdown>=2.6.8->tensorboard<2.12,>=2.11->tensorflow) (3.15.0)\n",
      "Requirement already satisfied: pyasn1<0.6.0,>=0.4.6 in /opt/conda/lib/python3.7/site-packages (from pyasn1-modules>=0.2.1->google-auth<3,>=1.6.3->tensorboard<2.12,>=2.11->tensorflow) (0.4.8)\n",
      "Requirement already satisfied: oauthlib>=3.0.0 in /opt/conda/lib/python3.7/site-packages (from requests-oauthlib>=0.7.0->google-auth-oauthlib<0.5,>=0.4.1->tensorboard<2.12,>=2.11->tensorflow) (3.2.2)\n",
      "\u001b[33mWARNING: Running pip as the 'root' user can result in broken permissions and conflicting behaviour with the system package manager. It is recommended to use a virtual environment instead: https://pip.pypa.io/warnings/venv\u001b[0m\u001b[33m\n",
      "\u001b[0m\n",
      "\u001b[1m[\u001b[0m\u001b[34;49mnotice\u001b[0m\u001b[1;39;49m]\u001b[0m\u001b[39;49m A new release of pip is available: \u001b[0m\u001b[31;49m23.0.1\u001b[0m\u001b[39;49m -> \u001b[0m\u001b[32;49m23.1.2\u001b[0m\n",
      "\u001b[1m[\u001b[0m\u001b[34;49mnotice\u001b[0m\u001b[1;39;49m]\u001b[0m\u001b[39;49m To update, run: \u001b[0m\u001b[32;49mpip install --upgrade pip\u001b[0m\n"
     ]
    }
   ],
   "source": [
    "!pip install tensorflow"
   ]
  },
  {
   "cell_type": "code",
   "execution_count": 135,
   "metadata": {
    "tags": []
   },
   "outputs": [],
   "source": [
    "# Data visualization\n",
    "import matplotlib.pyplot as plt\n",
    "import seaborn as sns\n",
    "import numpy as np\n",
    "import pandas as pd \n",
    "import seaborn as sns\n",
    "# Keras\n",
    "from keras.models import Sequential\n",
    "from keras.layers import Dense\n",
    "from keras.optimizers import SGD, Adam, Adadelta, RMSprop\n",
    "import keras.backend as K\n",
    "# Train-Test\n",
    "from sklearn.model_selection import train_test_split\n",
    "# Scaling data\n",
    "from sklearn.preprocessing import StandardScaler\n",
    "# Classification Report\n",
    "from sklearn.metrics import classification_report\n",
    "from keras.utils.np_utils import to_categorical"
   ]
  },
  {
   "cell_type": "code",
   "execution_count": 136,
   "metadata": {
    "tags": []
   },
   "outputs": [],
   "source": [
    "#Categorizing attack_cat:"
   ]
  },
  {
   "cell_type": "code",
   "execution_count": null,
   "metadata": {
    "tags": []
   },
   "outputs": [],
   "source": [
    "confusion_matrix(Y_pred_nb,Y_test)"
   ]
  },
  {
   "cell_type": "code",
   "execution_count": null,
   "metadata": {
    "tags": []
   },
   "outputs": [],
   "source": [
    "#Random Forest and Decision Tree Classifiers shows the best performance with 95% accuracy followed by  KNN with 85% accuracy, and NB with 38% accuracy. Thus, RF and DT Classifiers exhibit the best performance and Naive Bayes the worst."
   ]
  },
  {
   "cell_type": "code",
   "execution_count": null,
   "metadata": {
    "tags": []
   },
   "outputs": [],
   "source": [
    "#We Now study the how the same datasets can be used in a neural network model. "
   ]
  },
  {
   "cell_type": "code",
   "execution_count": null,
   "metadata": {},
   "outputs": [],
   "source": []
  },
  {
   "cell_type": "code",
   "execution_count": null,
   "metadata": {
    "tags": []
   },
   "outputs": [],
   "source": [
    "!pip install keras"
   ]
  },
  {
   "cell_type": "code",
   "execution_count": null,
   "metadata": {
    "tags": []
   },
   "outputs": [],
   "source": [
    "!pip install tensorflow"
   ]
  },
  {
   "cell_type": "code",
   "execution_count": null,
   "metadata": {
    "tags": []
   },
   "outputs": [],
   "source": [
    "# Data visualization\n",
    "import matplotlib.pyplot as plt\n",
    "import seaborn as sns\n",
    "import numpy as np\n",
    "import pandas as pd \n",
    "import seaborn as sns\n",
    "# Keras\n",
    "from keras.models import Sequential\n",
    "from keras.layers import Dense\n",
    "from keras.optimizers import SGD, Adam, Adadelta, RMSprop\n",
    "import keras.backend as K\n",
    "# Train-Test\n",
    "from sklearn.model_selection import train_test_split\n",
    "# Scaling data\n",
    "from sklearn.preprocessing import StandardScaler\n",
    "# Classification Report\n",
    "from sklearn.metrics import classification_report\n",
    "from keras.utils.np_utils import to_categorical"
   ]
  },
  {
   "cell_type": "code",
   "execution_count": null,
   "metadata": {
    "tags": []
   },
   "outputs": [],
   "source": [
    "#Categorizing attack_cat:\n"
   ]
  },
  {
   "cell_type": "code",
   "execution_count": 137,
   "metadata": {},
   "outputs": [],
   "source": [
    "for attack in attacks:\n",
    "    merged_train.loc[merged_train[\"attack_cat\"] == attack, \"attack_cat\"] =attacks.index(attack)"
   ]
  },
  {
   "cell_type": "code",
   "execution_count": 138,
   "metadata": {
    "tags": []
   },
   "outputs": [],
   "source": [
    "# Remove Missing Values \n",
    "na = pd.notnull(merged_train[\"attack_cat\"])\n",
    "merged_train = merged_train[na]"
   ]
  },
  {
   "cell_type": "code",
   "execution_count": 139,
   "metadata": {
    "tags": []
   },
   "outputs": [],
   "source": [
    "x = merged_train.drop(\"attack_cat\", axis = 1)"
   ]
  },
  {
   "cell_type": "code",
   "execution_count": 140,
   "metadata": {},
   "outputs": [],
   "source": [
    "#Standard Scaling of features:"
   ]
  },
  {
   "cell_type": "code",
   "execution_count": 141,
   "metadata": {
    "tags": []
   },
   "outputs": [],
   "source": [
    "from sklearn.preprocessing import StandardScaler\n",
    "sc = StandardScaler()\n",
    "x = pd.DataFrame(sc.fit_transform(x))\n",
    "y = merged_train[\"attack_cat\"]"
   ]
  },
  {
   "cell_type": "code",
   "execution_count": 142,
   "metadata": {
    "tags": []
   },
   "outputs": [],
   "source": [
    "y_cat = to_categorical(y)"
   ]
  },
  {
   "cell_type": "code",
   "execution_count": 143,
   "metadata": {
    "tags": []
   },
   "outputs": [
    {
     "data": {
      "text/plain": [
       "array([[0., 0., 0., ..., 0., 0., 0.],\n",
       "       [0., 0., 0., ..., 0., 0., 0.],\n",
       "       [0., 0., 0., ..., 0., 0., 0.],\n",
       "       ...,\n",
       "       [0., 0., 0., ..., 0., 0., 0.],\n",
       "       [0., 0., 0., ..., 0., 0., 0.],\n",
       "       [0., 0., 0., ..., 0., 0., 0.]], dtype=float32)"
      ]
     },
     "execution_count": 143,
     "metadata": {},
     "output_type": "execute_result"
    }
   ],
   "source": [
    "y_cat"
   ]
  },
  {
   "cell_type": "code",
   "execution_count": 190,
   "metadata": {
    "tags": []
   },
   "outputs": [],
   "source": [
    "from keras.layers.core import Dense, Dropout, Activation"
   ]
  },
  {
   "cell_type": "code",
   "execution_count": 191,
   "metadata": {
    "tags": []
   },
   "outputs": [],
   "source": [
    "from sklearn.model_selection import train_test_split\n",
    "x_train, x_test, y_train, y_test = train_test_split(x.values, y_cat, test_size=0.2)"
   ]
  },
  {
   "cell_type": "code",
   "execution_count": 192,
   "metadata": {
    "tags": []
   },
   "outputs": [
    {
     "name": "stdout",
     "output_type": "stream",
     "text": [
      "Model: \"sequential_2\"\n",
      "_________________________________________________________________\n",
      " Layer (type)                Output Shape              Param #   \n",
      "=================================================================\n",
      " dense_6 (Dense)             (None, 60)                5940      \n",
      "                                                                 \n",
      " dense_7 (Dense)             (None, 15)                915       \n",
      "                                                                 \n",
      " dropout (Dropout)           (None, 15)                0         \n",
      "                                                                 \n",
      " dense_8 (Dense)             (None, 18)                288       \n",
      "                                                                 \n",
      "=================================================================\n",
      "Total params: 7,143\n",
      "Trainable params: 7,143\n",
      "Non-trainable params: 0\n",
      "_________________________________________________________________\n"
     ]
    }
   ],
   "source": [
    "model = Sequential()\n",
    "model.add(Dense(60, input_shape = (98,), activation = \"relu\"))\n",
    "model.add(Dense(15, activation = \"relu\"))\n",
    "model.add(Dropout(0.2))\n",
    "model.add(Dense(18, activation = \"softmax\"))\n",
    "model.compile(Adam(lr = 0.01), \"categorical_crossentropy\", metrics = [\"accuracy\"])\n",
    "model.summary()"
   ]
  },
  {
   "cell_type": "code",
   "execution_count": 193,
   "metadata": {
    "tags": []
   },
   "outputs": [],
   "source": [
    "#The above diagram explains the neural network model we have build. The model has two reLU units and the final layer which is a dense layer that has softmax activation for predicting multi-class probability output. We have also used the categorical cross-entropy as our loss function with the Adam optimizer."
   ]
  },
  {
   "cell_type": "code",
   "execution_count": 194,
   "metadata": {
    "tags": []
   },
   "outputs": [],
   "source": [
    "#Fit the model and run for 10 epochs:"
   ]
  },
  {
   "cell_type": "code",
   "execution_count": 195,
   "metadata": {},
   "outputs": [],
   "source": [
    "#Implementing a NN on the combined dataset"
   ]
  },
  {
   "cell_type": "code",
   "execution_count": 196,
   "metadata": {
    "tags": []
   },
   "outputs": [
    {
     "name": "stdout",
     "output_type": "stream",
     "text": [
      "Epoch 1/10\n",
      "5261/5261 [==============================] - 7s 1ms/step - loss: 0.3287 - accuracy: 0.8986\n",
      "Epoch 2/10\n",
      "5261/5261 [==============================] - 7s 1ms/step - loss: 0.2753 - accuracy: 0.9115\n",
      "Epoch 3/10\n",
      "5261/5261 [==============================] - 7s 1ms/step - loss: 0.2591 - accuracy: 0.9151\n",
      "Epoch 4/10\n",
      "5261/5261 [==============================] - 7s 1ms/step - loss: 0.2708 - accuracy: 0.9130\n",
      "Epoch 5/10\n",
      "5261/5261 [==============================] - 7s 1ms/step - loss: 0.2647 - accuracy: 0.9127\n",
      "Epoch 6/10\n",
      "5261/5261 [==============================] - 7s 1ms/step - loss: 0.2635 - accuracy: 0.9162\n",
      "Epoch 7/10\n",
      "5261/5261 [==============================] - 7s 1ms/step - loss: 0.2735 - accuracy: 0.9144\n",
      "Epoch 8/10\n",
      "5261/5261 [==============================] - 7s 1ms/step - loss: 0.2685 - accuracy: 0.9155\n",
      "Epoch 9/10\n",
      "5261/5261 [==============================] - 7s 1ms/step - loss: 0.2884 - accuracy: 0.9129\n",
      "Epoch 10/10\n",
      "5261/5261 [==============================] - 7s 1ms/step - loss: 0.2922 - accuracy: 0.9067\n"
     ]
    },
    {
     "data": {
      "text/plain": [
       "<keras.callbacks.History at 0x7fc640069690>"
      ]
     },
     "execution_count": 196,
     "metadata": {},
     "output_type": "execute_result"
    }
   ],
   "source": [
    "model.fit(x_train, y_train, verbose=1, epochs=10)"
   ]
  },
  {
   "cell_type": "code",
   "execution_count": 197,
   "metadata": {
    "tags": []
   },
   "outputs": [],
   "source": [
    "#We could achieve around 91% accuracy within the first 10 epochs"
   ]
  },
  {
   "cell_type": "code",
   "execution_count": 198,
   "metadata": {
    "tags": []
   },
   "outputs": [],
   "source": [
    "#Fit the model and run for 10 epochs:"
   ]
  },
  {
   "cell_type": "code",
   "execution_count": 199,
   "metadata": {
    "tags": []
   },
   "outputs": [],
   "source": [
    "#Confusion Matrix:"
   ]
  },
  {
   "cell_type": "code",
   "execution_count": 200,
   "metadata": {},
   "outputs": [
    {
     "name": "stdout",
     "output_type": "stream",
     "text": [
      "1316/1316 [==============================] - 1s 849us/step\n"
     ]
    },
    {
     "data": {
      "text/plain": [
       "array([[   0,    0,    0,    0,    9,    0,    0,    0,    0,    0,    0,\n",
       "           0,    0,    0,    0,    0,    1,    0],\n",
       "       [   0,  473,    0,    0,  185,    0,    0,    0,    0,    2,    0,\n",
       "           1,    0,    0,    0,    0,   53,    0],\n",
       "       [   0,    0, 1538,    0,    0,    0,    7,    0,    0,    0,    2,\n",
       "         246,    0,    0,    0,    0,    0,    0],\n",
       "       [   0,    0,   12,   87,    0,   35,    7,    0,    0,    0,   20,\n",
       "          15,    0,    0,    0,    0,    0,    0],\n",
       "       [   0,   17,    0,    0, 1979,    0,    0,    0,    0,    3,    0,\n",
       "          82,    0,    0,    0,    0,  134,    0],\n",
       "       [   0,    0,    8,   96,    0,   63,   11,    0,    0,    0,    1,\n",
       "           1,    0,    0,    0,    0,    0,    0],\n",
       "       [   0,    0,  342,    2,    0,    0, 3331,    0,    0,    0,    0,\n",
       "           3,    0,    0,    0,    0,    0,    0],\n",
       "       [   0,   21,    0,    0,  727,    0,    0,    0,    0,    0,    0,\n",
       "          13,    0,    0,    0,    0,   63,    0],\n",
       "       [   0,    0,    0,    0,    0,    0,    0,    0, 7422,    0,    0,\n",
       "           0,    0,    0,    0,    0,    0,    0],\n",
       "       [   0,    5,    0,    0,  102,    0,    0,    0,    0, 3574,    0,\n",
       "           2,    0,    0,    0,    0,   40,    0],\n",
       "       [   0,    0,    0,    0,    0,    3,    0,    0,    0,    0, 9274,\n",
       "          57,   13,    0,    0,    0,    0,    0],\n",
       "       [   0,    0,    7,    0,    0,    0,    0,    0,    0,    0,    0,\n",
       "         475,    0,    0,    0,    0,    0,    0],\n",
       "       [   0,    0,   19,    0,    0,    0,    0,    0,    0,    0,   64,\n",
       "          12, 9865,    0,    0,    0,    0,    0],\n",
       "       [   0,   43,    0,    0,   25,    0,    0,    0,    0,    0,    0,\n",
       "           0,    0,    0,    0,    0,   12,    0],\n",
       "       [   0,    4,    0,    0,  105,    0,    0,    0,    0,    0,    0,\n",
       "           0,    0,    0,    0,    0,   24,    0],\n",
       "       [   0,    0,   14,    0,    0,    0,    2,    0,    0,    0,    1,\n",
       "           0,    0,    0,    0,    0,    0,    0],\n",
       "       [   0,   13,    0,    0,  242,    0,    2,    0,    0,    1,    0,\n",
       "          42,    0,    0,    0,    0,  888,    0],\n",
       "       [   0,    0,    0,    0,  119,    0,    0,    0,    0,    0,    0,\n",
       "           0,    0,    0,    0,    0,   20,    0]])"
      ]
     },
     "execution_count": 200,
     "metadata": {},
     "output_type": "execute_result"
    }
   ],
   "source": [
    "y_pred_class = model.predict(x_test)\n",
    "classes_x=np.argmax(y_pred_class,axis=1)\n",
    "from sklearn.metrics import confusion_matrix\n",
    "y_test_class = np.argmax(y_test, axis=1)\n",
    "confusion_matrix(y_test_class, classes_x)"
   ]
  },
  {
   "cell_type": "code",
   "execution_count": 201,
   "metadata": {
    "tags": []
   },
   "outputs": [],
   "source": [
    "#Classification Report:"
   ]
  },
  {
   "cell_type": "code",
   "execution_count": 202,
   "metadata": {
    "tags": []
   },
   "outputs": [
    {
     "name": "stdout",
     "output_type": "stream",
     "text": [
      "              precision    recall  f1-score   support\n",
      "\n",
      "           0       0.00      0.00      0.00        10\n",
      "           1       0.82      0.66      0.73       714\n",
      "           2       0.79      0.86      0.82      1793\n",
      "           3       0.47      0.49      0.48       176\n",
      "           4       0.57      0.89      0.69      2215\n",
      "           5       0.62      0.35      0.45       180\n",
      "           6       0.99      0.91      0.95      3678\n",
      "           7       0.00      0.00      0.00       824\n",
      "           8       1.00      1.00      1.00      7422\n",
      "           9       1.00      0.96      0.98      3723\n",
      "          10       0.99      0.99      0.99      9347\n",
      "          11       0.50      0.99      0.66       482\n",
      "          12       1.00      0.99      0.99      9960\n",
      "          13       0.00      0.00      0.00        80\n",
      "          14       0.00      0.00      0.00       133\n",
      "          15       0.00      0.00      0.00        17\n",
      "          16       0.72      0.75      0.73      1188\n",
      "          17       0.00      0.00      0.00       139\n",
      "\n",
      "    accuracy                           0.93     42081\n",
      "   macro avg       0.53      0.55      0.53     42081\n",
      "weighted avg       0.92      0.93      0.92     42081\n",
      "\n"
     ]
    }
   ],
   "source": [
    "from sklearn.metrics import classification_report\n",
    "print(classification_report(y_test_class, classes_x))"
   ]
  }
 ],
 "metadata": {
  "availableInstances": [
   {
    "_defaultOrder": 0,
    "_isFastLaunch": true,
    "category": "General purpose",
    "gpuNum": 0,
    "memoryGiB": 4,
    "name": "ml.t3.medium",
    "vcpuNum": 2
   },
   {
    "_defaultOrder": 1,
    "_isFastLaunch": false,
    "category": "General purpose",
    "gpuNum": 0,
    "memoryGiB": 8,
    "name": "ml.t3.large",
    "vcpuNum": 2
   },
   {
    "_defaultOrder": 2,
    "_isFastLaunch": false,
    "category": "General purpose",
    "gpuNum": 0,
    "memoryGiB": 16,
    "name": "ml.t3.xlarge",
    "vcpuNum": 4
   },
   {
    "_defaultOrder": 3,
    "_isFastLaunch": false,
    "category": "General purpose",
    "gpuNum": 0,
    "memoryGiB": 32,
    "name": "ml.t3.2xlarge",
    "vcpuNum": 8
   },
   {
    "_defaultOrder": 4,
    "_isFastLaunch": true,
    "category": "General purpose",
    "gpuNum": 0,
    "memoryGiB": 8,
    "name": "ml.m5.large",
    "vcpuNum": 2
   },
   {
    "_defaultOrder": 5,
    "_isFastLaunch": false,
    "category": "General purpose",
    "gpuNum": 0,
    "memoryGiB": 16,
    "name": "ml.m5.xlarge",
    "vcpuNum": 4
   },
   {
    "_defaultOrder": 6,
    "_isFastLaunch": false,
    "category": "General purpose",
    "gpuNum": 0,
    "memoryGiB": 32,
    "name": "ml.m5.2xlarge",
    "vcpuNum": 8
   },
   {
    "_defaultOrder": 7,
    "_isFastLaunch": false,
    "category": "General purpose",
    "gpuNum": 0,
    "memoryGiB": 64,
    "name": "ml.m5.4xlarge",
    "vcpuNum": 16
   },
   {
    "_defaultOrder": 8,
    "_isFastLaunch": false,
    "category": "General purpose",
    "gpuNum": 0,
    "memoryGiB": 128,
    "name": "ml.m5.8xlarge",
    "vcpuNum": 32
   },
   {
    "_defaultOrder": 9,
    "_isFastLaunch": false,
    "category": "General purpose",
    "gpuNum": 0,
    "memoryGiB": 192,
    "name": "ml.m5.12xlarge",
    "vcpuNum": 48
   },
   {
    "_defaultOrder": 10,
    "_isFastLaunch": false,
    "category": "General purpose",
    "gpuNum": 0,
    "memoryGiB": 256,
    "name": "ml.m5.16xlarge",
    "vcpuNum": 64
   },
   {
    "_defaultOrder": 11,
    "_isFastLaunch": false,
    "category": "General purpose",
    "gpuNum": 0,
    "memoryGiB": 384,
    "name": "ml.m5.24xlarge",
    "vcpuNum": 96
   },
   {
    "_defaultOrder": 12,
    "_isFastLaunch": false,
    "category": "General purpose",
    "gpuNum": 0,
    "memoryGiB": 8,
    "name": "ml.m5d.large",
    "vcpuNum": 2
   },
   {
    "_defaultOrder": 13,
    "_isFastLaunch": false,
    "category": "General purpose",
    "gpuNum": 0,
    "memoryGiB": 16,
    "name": "ml.m5d.xlarge",
    "vcpuNum": 4
   },
   {
    "_defaultOrder": 14,
    "_isFastLaunch": false,
    "category": "General purpose",
    "gpuNum": 0,
    "memoryGiB": 32,
    "name": "ml.m5d.2xlarge",
    "vcpuNum": 8
   },
   {
    "_defaultOrder": 15,
    "_isFastLaunch": false,
    "category": "General purpose",
    "gpuNum": 0,
    "memoryGiB": 64,
    "name": "ml.m5d.4xlarge",
    "vcpuNum": 16
   },
   {
    "_defaultOrder": 16,
    "_isFastLaunch": false,
    "category": "General purpose",
    "gpuNum": 0,
    "memoryGiB": 128,
    "name": "ml.m5d.8xlarge",
    "vcpuNum": 32
   },
   {
    "_defaultOrder": 17,
    "_isFastLaunch": false,
    "category": "General purpose",
    "gpuNum": 0,
    "memoryGiB": 192,
    "name": "ml.m5d.12xlarge",
    "vcpuNum": 48
   },
   {
    "_defaultOrder": 18,
    "_isFastLaunch": false,
    "category": "General purpose",
    "gpuNum": 0,
    "memoryGiB": 256,
    "name": "ml.m5d.16xlarge",
    "vcpuNum": 64
   },
   {
    "_defaultOrder": 19,
    "_isFastLaunch": false,
    "category": "General purpose",
    "gpuNum": 0,
    "memoryGiB": 384,
    "name": "ml.m5d.24xlarge",
    "vcpuNum": 96
   },
   {
    "_defaultOrder": 20,
    "_isFastLaunch": true,
    "category": "Compute optimized",
    "gpuNum": 0,
    "memoryGiB": 4,
    "name": "ml.c5.large",
    "vcpuNum": 2
   },
   {
    "_defaultOrder": 21,
    "_isFastLaunch": false,
    "category": "Compute optimized",
    "gpuNum": 0,
    "memoryGiB": 8,
    "name": "ml.c5.xlarge",
    "vcpuNum": 4
   },
   {
    "_defaultOrder": 22,
    "_isFastLaunch": false,
    "category": "Compute optimized",
    "gpuNum": 0,
    "memoryGiB": 16,
    "name": "ml.c5.2xlarge",
    "vcpuNum": 8
   },
   {
    "_defaultOrder": 23,
    "_isFastLaunch": false,
    "category": "Compute optimized",
    "gpuNum": 0,
    "memoryGiB": 32,
    "name": "ml.c5.4xlarge",
    "vcpuNum": 16
   },
   {
    "_defaultOrder": 24,
    "_isFastLaunch": false,
    "category": "Compute optimized",
    "gpuNum": 0,
    "memoryGiB": 72,
    "name": "ml.c5.9xlarge",
    "vcpuNum": 36
   },
   {
    "_defaultOrder": 25,
    "_isFastLaunch": false,
    "category": "Compute optimized",
    "gpuNum": 0,
    "memoryGiB": 96,
    "name": "ml.c5.12xlarge",
    "vcpuNum": 48
   },
   {
    "_defaultOrder": 26,
    "_isFastLaunch": false,
    "category": "Compute optimized",
    "gpuNum": 0,
    "memoryGiB": 144,
    "name": "ml.c5.18xlarge",
    "vcpuNum": 72
   },
   {
    "_defaultOrder": 27,
    "_isFastLaunch": false,
    "category": "Compute optimized",
    "gpuNum": 0,
    "memoryGiB": 192,
    "name": "ml.c5.24xlarge",
    "vcpuNum": 96
   },
   {
    "_defaultOrder": 28,
    "_isFastLaunch": true,
    "category": "Accelerated computing",
    "gpuNum": 1,
    "memoryGiB": 16,
    "name": "ml.g4dn.xlarge",
    "vcpuNum": 4
   },
   {
    "_defaultOrder": 29,
    "_isFastLaunch": false,
    "category": "Accelerated computing",
    "gpuNum": 1,
    "memoryGiB": 32,
    "name": "ml.g4dn.2xlarge",
    "vcpuNum": 8
   },
   {
    "_defaultOrder": 30,
    "_isFastLaunch": false,
    "category": "Accelerated computing",
    "gpuNum": 1,
    "memoryGiB": 64,
    "name": "ml.g4dn.4xlarge",
    "vcpuNum": 16
   },
   {
    "_defaultOrder": 31,
    "_isFastLaunch": false,
    "category": "Accelerated computing",
    "gpuNum": 1,
    "memoryGiB": 128,
    "name": "ml.g4dn.8xlarge",
    "vcpuNum": 32
   },
   {
    "_defaultOrder": 32,
    "_isFastLaunch": false,
    "category": "Accelerated computing",
    "gpuNum": 4,
    "memoryGiB": 192,
    "name": "ml.g4dn.12xlarge",
    "vcpuNum": 48
   },
   {
    "_defaultOrder": 33,
    "_isFastLaunch": false,
    "category": "Accelerated computing",
    "gpuNum": 1,
    "memoryGiB": 256,
    "name": "ml.g4dn.16xlarge",
    "vcpuNum": 64
   },
   {
    "_defaultOrder": 34,
    "_isFastLaunch": false,
    "category": "Accelerated computing",
    "gpuNum": 1,
    "memoryGiB": 61,
    "name": "ml.p3.2xlarge",
    "vcpuNum": 8
   },
   {
    "_defaultOrder": 35,
    "_isFastLaunch": false,
    "category": "Accelerated computing",
    "gpuNum": 4,
    "memoryGiB": 244,
    "name": "ml.p3.8xlarge",
    "vcpuNum": 32
   },
   {
    "_defaultOrder": 36,
    "_isFastLaunch": false,
    "category": "Accelerated computing",
    "gpuNum": 8,
    "memoryGiB": 488,
    "name": "ml.p3.16xlarge",
    "vcpuNum": 64
   },
   {
    "_defaultOrder": 37,
    "_isFastLaunch": false,
    "category": "Accelerated computing",
    "gpuNum": 8,
    "memoryGiB": 768,
    "name": "ml.p3dn.24xlarge",
    "vcpuNum": 96
   },
   {
    "_defaultOrder": 38,
    "_isFastLaunch": false,
    "category": "Memory Optimized",
    "gpuNum": 0,
    "memoryGiB": 16,
    "name": "ml.r5.large",
    "vcpuNum": 2
   },
   {
    "_defaultOrder": 39,
    "_isFastLaunch": false,
    "category": "Memory Optimized",
    "gpuNum": 0,
    "memoryGiB": 32,
    "name": "ml.r5.xlarge",
    "vcpuNum": 4
   },
   {
    "_defaultOrder": 40,
    "_isFastLaunch": false,
    "category": "Memory Optimized",
    "gpuNum": 0,
    "memoryGiB": 64,
    "name": "ml.r5.2xlarge",
    "vcpuNum": 8
   },
   {
    "_defaultOrder": 41,
    "_isFastLaunch": false,
    "category": "Memory Optimized",
    "gpuNum": 0,
    "memoryGiB": 128,
    "name": "ml.r5.4xlarge",
    "vcpuNum": 16
   },
   {
    "_defaultOrder": 42,
    "_isFastLaunch": false,
    "category": "Memory Optimized",
    "gpuNum": 0,
    "memoryGiB": 256,
    "name": "ml.r5.8xlarge",
    "vcpuNum": 32
   },
   {
    "_defaultOrder": 43,
    "_isFastLaunch": false,
    "category": "Memory Optimized",
    "gpuNum": 0,
    "memoryGiB": 384,
    "name": "ml.r5.12xlarge",
    "vcpuNum": 48
   },
   {
    "_defaultOrder": 44,
    "_isFastLaunch": false,
    "category": "Memory Optimized",
    "gpuNum": 0,
    "memoryGiB": 512,
    "name": "ml.r5.16xlarge",
    "vcpuNum": 64
   },
   {
    "_defaultOrder": 45,
    "_isFastLaunch": false,
    "category": "Memory Optimized",
    "gpuNum": 0,
    "memoryGiB": 768,
    "name": "ml.r5.24xlarge",
    "vcpuNum": 96
   },
   {
    "_defaultOrder": 46,
    "_isFastLaunch": false,
    "category": "Accelerated computing",
    "gpuNum": 1,
    "memoryGiB": 16,
    "name": "ml.g5.xlarge",
    "vcpuNum": 4
   },
   {
    "_defaultOrder": 47,
    "_isFastLaunch": false,
    "category": "Accelerated computing",
    "gpuNum": 1,
    "memoryGiB": 32,
    "name": "ml.g5.2xlarge",
    "vcpuNum": 8
   },
   {
    "_defaultOrder": 48,
    "_isFastLaunch": false,
    "category": "Accelerated computing",
    "gpuNum": 1,
    "memoryGiB": 64,
    "name": "ml.g5.4xlarge",
    "vcpuNum": 16
   },
   {
    "_defaultOrder": 49,
    "_isFastLaunch": false,
    "category": "Accelerated computing",
    "gpuNum": 1,
    "memoryGiB": 128,
    "name": "ml.g5.8xlarge",
    "vcpuNum": 32
   },
   {
    "_defaultOrder": 50,
    "_isFastLaunch": false,
    "category": "Accelerated computing",
    "gpuNum": 1,
    "memoryGiB": 256,
    "name": "ml.g5.16xlarge",
    "vcpuNum": 64
   },
   {
    "_defaultOrder": 51,
    "_isFastLaunch": false,
    "category": "Accelerated computing",
    "gpuNum": 4,
    "memoryGiB": 192,
    "name": "ml.g5.12xlarge",
    "vcpuNum": 48
   },
   {
    "_defaultOrder": 52,
    "_isFastLaunch": false,
    "category": "Accelerated computing",
    "gpuNum": 4,
    "memoryGiB": 384,
    "name": "ml.g5.24xlarge",
    "vcpuNum": 96
   },
   {
    "_defaultOrder": 53,
    "_isFastLaunch": false,
    "category": "Accelerated computing",
    "gpuNum": 8,
    "memoryGiB": 768,
    "name": "ml.g5.48xlarge",
    "vcpuNum": 192
   }
  ],
  "instance_type": "ml.m5.4xlarge",
  "kernelspec": {
   "display_name": "Python 3 (Data Science)",
   "language": "python",
   "name": "python3__SAGEMAKER_INTERNAL__arn:aws:sagemaker:eu-north-1:243637512696:image/datascience-1.0"
  },
  "language_info": {
   "codemirror_mode": {
    "name": "ipython",
    "version": 3
   },
   "file_extension": ".py",
   "mimetype": "text/x-python",
   "name": "python",
   "nbconvert_exporter": "python",
   "pygments_lexer": "ipython3",
   "version": "3.7.10"
  }
 },
 "nbformat": 4,
 "nbformat_minor": 4
}
